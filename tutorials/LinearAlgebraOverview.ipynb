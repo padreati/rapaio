{
 "cells": [
  {
   "cell_type": "markdown",
   "metadata": {},
   "source": [
    "# Linear Algebra Overview"
   ]
  },
  {
   "cell_type": "code",
   "execution_count": 1,
   "metadata": {},
   "outputs": [],
   "source": [
    "%load ../rapaio-bootstrap"
   ]
  },
  {
   "cell_type": "code",
   "execution_count": 2,
   "metadata": {},
   "outputs": [],
   "source": [
    "WS.getPrinter().withOptions(floatFormat(Format.formatDecShort));\n",
    "RandomSource.setSeed(42);"
   ]
  },
  {
   "cell_type": "markdown",
   "metadata": {},
   "source": [
    "`Rapaio` library is commited to offer a rich set of tools for manipulating linear algebra objects and structures. Currently the efforts were concentrated around dense vectors and matrices. Besides standard manipulation data tools, there are implemented also some non trivial operations and also matrix decompositions and linear solvers. "
   ]
  },
  {
   "cell_type": "markdown",
   "metadata": {},
   "source": [
    "Java `double` value type is the only option currently for working with vectors and matrices. We were waiting for the next versions of Java with improvements on value types in order to provide directly data structures for `float` value types and other value types as well. Another option would be code generators. The reasons why such value types were not implemented is that there are a lot of operations implemented and currently Java language does not offer through generic feature a nice way to reproduce that code for other value types (the generic option would be to use reference types which will affect a lot the code speed). "
   ]
  },
  {
   "cell_type": "markdown",
   "metadata": {},
   "source": [
    "## Dense Vectors"
   ]
  },
  {
   "cell_type": "markdown",
   "metadata": {},
   "source": [
    "A dense vector is a vector based on an array of double values. Values from a dense vector are stored into a `double[]` at a given offset. The offset allows one to use the same backed array to create various instances on the same data, wrapping nicely everything into objects and allowing one to write easy algorithms using higher abstractions. "
   ]
  },
  {
   "cell_type": "code",
   "execution_count": 3,
   "metadata": {},
   "outputs": [
    {
     "name": "stdout",
     "output_type": "stream",
     "text": [
      "DVectorDense{size:3, values:[1,2,3]}\n",
      "DVectorDense{size:3, values:[2,3,4]}\n",
      "DVectorDense{size:5, values:[6.4490592,1.1244347,5.1866709,0.2422092,5.2870915]}\n"
     ]
    }
   ],
   "source": [
    "// wrap around an array\n",
    "DVectorDense.wrap(1, 2, 3).printString();\n",
    "\n",
    "// wrap an array at offset 1 and of size 3\n",
    "DVectorDense.wrapAt(1, 3, 1, 2, 3, 4, 5, 6, 7).printString();\n",
    "\n",
    "// created from random values from Gamma distribution\n",
    "DVectorDense.random(5, Gamma.of(2, 2)).printString();"
   ]
  },
  {
   "cell_type": "markdown",
   "metadata": {},
   "source": []
  },
  {
   "cell_type": "code",
   "execution_count": 3,
   "metadata": {},
   "outputs": [
    {
     "name": "stdout",
     "output_type": "stream",
     "text": [
      "DVectorDense{size:3, values:[0.6054611,0.4767319,-0.4994834]}\n",
      "      [0]   [1]    [2] \n",
      "[0] 1.000 0.000  0.000 \n",
      "[1] 0.000 1.000  0.000 \n",
      "[2] 0.605 0.477 -0.499 \n",
      "\n"
     ]
    }
   ],
   "source": [
    "DMatrix m = DMatrix.eye(3);\n",
    "DVector u = DVector.random(3);\n",
    "u.mulTo(m.mapRow(2), 1);\n",
    "u.printString();\n",
    "m.printContent();"
   ]
  },
  {
   "cell_type": "code",
   "execution_count": 5,
   "metadata": {},
   "outputs": [
    {
     "data": {
      "text/plain": [
       "0.91833550332766"
      ]
     },
     "execution_count": 5,
     "metadata": {},
     "output_type": "execute_result"
    }
   ],
   "source": [
    "u.norm(2);\n"
   ]
  },
  {
   "cell_type": "code",
   "execution_count": 7,
   "metadata": {},
   "outputs": [
    {
     "name": "stdout",
     "output_type": "stream",
     "text": [
      "       [0]    [1]    [2] \n",
      "[0]  1.367  0.289 -0.302 \n",
      "[1]  0.289  1.227 -0.238 \n",
      "[2] -0.302 -0.238  0.249 \n",
      "\n"
     ]
    },
    {
     "data": {
      "text/plain": [
       "0.24948362099020424"
      ]
     },
     "execution_count": 7,
     "metadata": {},
     "output_type": "execute_result"
    }
   ],
   "source": [
    "DMatrix mtm = m.t().dot(m);\n",
    "mtm.printContent();\n",
    "mtm.lu().det();"
   ]
  },
  {
   "cell_type": "code",
   "execution_count": 9,
   "metadata": {},
   "outputs": [
    {
     "data": {
      "text/plain": [
       "0.24948362099020419"
      ]
     },
     "execution_count": 9,
     "metadata": {},
     "output_type": "execute_result"
    }
   ],
   "source": [
    "mtm.svd().singularValues().prod();"
   ]
  },
  {
   "cell_type": "code",
   "execution_count": 10,
   "metadata": {},
   "outputs": [
    {
     "data": {
      "text/plain": [
       "DMatrixDenseC{rowCount:3, colCount:3, values:\n",
       "[\n",
       " [ -0.956  0.227 -0.184 ], \n",
       " [ -0.202 -0.969 -0.145 ], \n",
       " [  0.212  0.102 -0.972 ], \n",
       "]}"
      ]
     },
     "execution_count": 10,
     "metadata": {},
     "output_type": "execute_result"
    }
   ],
   "source": [
    "mtm.qr().q()"
   ]
  },
  {
   "cell_type": "code",
   "execution_count": 11,
   "metadata": {},
   "outputs": [
    {
     "data": {
      "text/plain": [
       "DMatrixDenseC{rowCount:3, colCount:3, values:\n",
       "[\n",
       " [ -1.429 -0.574  0.390 ], \n",
       " [  0.000 -1.147  0.187 ], \n",
       " [  0.000  0.000 -0.152 ], \n",
       "]}"
      ]
     },
     "execution_count": 11,
     "metadata": {},
     "output_type": "execute_result"
    }
   ],
   "source": [
    "mtm.qr().r()"
   ]
  },
  {
   "cell_type": "code",
   "execution_count": 12,
   "metadata": {},
   "outputs": [
    {
     "data": {
      "text/plain": [
       "-0.2494836209902043"
      ]
     },
     "execution_count": 12,
     "metadata": {},
     "output_type": "execute_result"
    }
   ],
   "source": [
    "mtm.qr().r().diag().prod()"
   ]
  },
  {
   "cell_type": "code",
   "execution_count": 13,
   "metadata": {},
   "outputs": [],
   "source": [
    "DMatrix x = DMatrix.random(4, 4)"
   ]
  },
  {
   "cell_type": "code",
   "execution_count": 14,
   "metadata": {},
   "outputs": [],
   "source": [
    "DVector y = DVector.random(4)"
   ]
  },
  {
   "cell_type": "code",
   "execution_count": 15,
   "metadata": {},
   "outputs": [
    {
     "data": {
      "text/plain": [
       "DMatrixDenseC{rowCount:4, colCount:4, values:\n",
       "[\n",
       " [ -0.131  0.290  0.233 -0.068 ], \n",
       " [ -0.132 -0.062  0.140  0.283 ], \n",
       " [ -0.035  0.457 -0.052 -0.187 ], \n",
       " [  0.053 -0.548  0.168 -0.191 ], \n",
       "]}"
      ]
     },
     "execution_count": 15,
     "metadata": {},
     "output_type": "execute_result"
    }
   ],
   "source": [
    "x.dot(DMatrix.diagonal(y))"
   ]
  },
  {
   "cell_type": "code",
   "execution_count": 17,
   "metadata": {},
   "outputs": [
    {
     "data": {
      "text/plain": [
       "DMatrixDenseC{rowCount:4, colCount:4, values:\n",
       "[\n",
       " [ -0.131  0.290  0.233 -0.068 ], \n",
       " [ -0.132 -0.062  0.140  0.283 ], \n",
       " [ -0.035  0.457 -0.052 -0.187 ], \n",
       " [  0.053 -0.548  0.168 -0.191 ], \n",
       "]}"
      ]
     },
     "execution_count": 17,
     "metadata": {},
     "output_type": "execute_result"
    }
   ],
   "source": [
    "x.mulNew(y, 0) nbvcx1qwasz"
   ]
  },
  {
   "cell_type": "code",
   "execution_count": null,
   "metadata": {},
   "outputs": [],
   "source": []
  }
 ],
 "metadata": {
  "kernelspec": {
   "display_name": "Java",
   "language": "java",
   "name": "java"
  },
  "language_info": {
   "codemirror_mode": "java",
   "file_extension": ".jshell",
   "mimetype": "text/x-java-source",
   "name": "Java",
   "pygments_lexer": "java",
   "version": "17.0.2+8-LTS"
  }
 },
 "nbformat": 4,
 "nbformat_minor": 4
}
