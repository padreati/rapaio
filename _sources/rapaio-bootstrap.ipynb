{
 "cells": [
  {
   "cell_type": "code",
   "metadata": {
    "jupyter": {
     "is_executing": true
    }
   },
   "source": [
    "// maven central\n",
    "%dependency /add io.github.padreati:rapaio-lib:7.0.0\n",
    "%dependency /resolve\n",
    "    \n",
    "// on binder we work offline, so load library from local\n",
    "// %jar ./rapaio-lib-7.0.0.jar\n",
    "    "
   ],
   "outputs": [],
   "execution_count": null
  },
  {
   "cell_type": "code",
   "metadata": {
    "jupyter": {
     "is_executing": true
    }
   },
   "source": [
    "// extensive list of useful imports from rapaio library\n",
    "\n",
    "import rapaio.core.*;\n",
    "import rapaio.core.correlation.*;\n",
    "import rapaio.core.distributions.*;\n",
    "import rapaio.core.tests.*;\n",
    "import rapaio.core.tools.*;\n",
    "import rapaio.core.stat.*;\n",
    "\n",
    "import rapaio.data.*;\n",
    "import rapaio.data.transform.*;\n",
    "import rapaio.data.group.*;\n",
    "import rapaio.data.unique.*;\n",
    "import rapaio.data.sample.*;\n",
    "import rapaio.data.stream.*;\n",
    "\n",
    "import static rapaio.data.Group.*;\n",
    "\n",
    "import rapaio.datasets.*;\n",
    "\n",
    "import rapaio.graphics.*;\n",
    "import rapaio.graphics.plot.*;\n",
    "import static rapaio.graphics.Plotter.*;\n",
    "import static rapaio.graphics.opt.GOpts.*;\n",
    "import rapaio.graphics.opt.*;\n",
    "\n",
    "import rapaio.io.*;\n",
    "\n",
    "import static rapaio.math.MathTools.*;\n",
    "\n",
    "import rapaio.sys.*;\n",
    "import rapaio.printer.*;\n",
    "import static rapaio.printer.Printer.*;\n",
    "import static rapaio.printer.opt.POpts.*;\n",
    "\n",
    "import rapaio.ml.eval.*;\n",
    "import rapaio.ml.eval.metric.*;\n",
    "import rapaio.ml.eval.split.*;\n",
    "import rapaio.ml.common.*;\n",
    "import rapaio.ml.common.kernel.*;\n",
    "\n",
    "import rapaio.ml.model.*;\n",
    "import rapaio.ml.model.bayes.*;\n",
    "import rapaio.ml.model.boost.*;\n",
    "import rapaio.ml.model.meta.*;\n",
    "import rapaio.ml.model.km.*;\n",
    "import rapaio.ml.model.linear.*;\n",
    "import rapaio.ml.model.rule.*;\n",
    "import rapaio.ml.model.svm.*;\n",
    "import rapaio.ml.model.tree.*;\n",
    "import rapaio.ml.model.tree.ctree.*;\n",
    "import rapaio.ml.model.ensemble.*;\n",
    "import rapaio.ml.model.simple.*;\n",
    "import rapaio.ml.model.rvm.*;\n",
    "import rapaio.ml.model.km.*;\n",
    "\n",
    "import rapaio.darray.*;\n",
    "\n",
    "import rapaio.nn.*;\n",
    "import rapaio.nn.data.*;\n",
    "import rapaio.nn.layer.*;\n",
    "import rapaio.nn.loss.*;\n",
    "\n",
    "import rapaio.util.*;\n",
    "import rapaio.util.collection.*;\n",
    "import rapaio.util.function.*;\n",
    "import rapaio.util.hash.*;\n"
   ],
   "outputs": [],
   "execution_count": null
  },
  {
   "cell_type": "code",
   "execution_count": 3,
   "metadata": {},
   "outputs": [],
   "source": [
    "// list of useful imports from jdk\n",
    "\n",
    "import java.awt.Color;\n",
    "import java.awt.Font;\n",
    "\n",
    "import java.util.function.*;\n",
    "import java.util.stream.*;"
   ]
  },
  {
   "cell_type": "code",
   "execution_count": 4,
   "metadata": {},
   "outputs": [
    {
     "data": {
      "text/plain": [
       "rapaio.printer.standard.StandardPrinter@3a4104c4"
      ]
     },
     "execution_count": 4,
     "metadata": {},
     "output_type": "execute_result"
    }
   ],
   "source": [
    "WS.getPrinter().withOptions(textWidth(90), graphicWidth(800), graphicHeight(600));"
   ]
  },
  {
   "cell_type": "code",
   "execution_count": null,
   "metadata": {},
   "outputs": [],
   "source": []
  },
  {
   "cell_type": "code",
   "execution_count": null,
   "metadata": {},
   "outputs": [],
   "source": []
  }
 ],
 "metadata": {
  "kernelspec": {
   "display_name": "Java (rjk 2.2.0 preview23)",
   "language": "java",
   "name": "rapaio-jupyter-kernel-preview23"
  },
  "language_info": {
   "codemirror_mode": "java",
   "file_extension": ".jshell",
   "mimetype": "text/x-java-source",
   "name": "java",
   "nbconvert_exporter": "script",
   "pygments_lexer": "java",
   "version": "23.0.1+8-FR"
  }
 },
 "nbformat": 4,
 "nbformat_minor": 4
}
