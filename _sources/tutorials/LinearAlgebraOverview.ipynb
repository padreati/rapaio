{
 "cells": [
  {
   "cell_type": "markdown",
   "metadata": {},
   "source": [
    "# Linear Algebra Overview"
   ]
  },
  {
   "cell_type": "code",
   "execution_count": 2,
   "metadata": {
    "tags": []
   },
   "outputs": [
    {
     "name": "stdout",
     "output_type": "stream",
     "text": [
      "Adding dependency \u001b[0m\u001b[1m\u001b[32mio.github.padreati:rapaio-lib:7.0.1\n",
      "\u001b[0mSolving dependencies\n",
      "Resolved artifacts count: 1\n",
      "Add to classpath: \u001b[0m\u001b[32m/home/ati/work/rapaio-jupyter-kernel/target/mima_cache/io/github/padreati/rapaio-lib/7.0.1/rapaio-lib-7.0.1.jar\u001b[0m\n",
      "\u001b[0m"
     ]
    }
   ],
   "source": [
    "%load ../../rapaio-bootstrap.ipynb"
   ]
  },
  {
   "cell_type": "markdown",
   "metadata": {},
   "source": [
    "`DArrays` are multi-dimensional arrays which stores data elements of the same type indexed by dimensions. Current implementation offers only stride dense vector arrays, but the design allows future implementations like sparse arrays.\n",
    "\n",
    "DArrays offers many operations, besides standard manipulation data tools, there are implemented also some non trivial operations and also matrix decompositions and linear solvers. There are implementations for four numerical data types: `byte`, `int`, `float` and `double`. "
   ]
  },
  {
   "cell_type": "markdown",
   "metadata": {},
   "source": [
    "## DArrayManager"
   ]
  },
  {
   "cell_type": "markdown",
   "metadata": {},
   "source": [
    "Working with darrays starts with having a `DArrayManager`. A DArrayManager handles all the internals which are required for an implementation of DArrays. Even if there is a single implementation of DArrays, which works with standard Java arrays and uses stride algebra and simd vectorization, multiple implementations are possible. One example is to use MemorySegments when simd instructions will be able to work with indexed operations.\n",
    "\n",
    "DArray manager describes which storage factory to be used, which implementation of the operations, and other various parameters.\n",
    "\n",
    "One can create darrays with this tensor manager using also `DArrays` class. However it is advisable to use a DArrayManager every time since this will maintain code compatbility in the future when new DArray implementations will be available. Switching to other implementations will require a single line of code change, where you choose the DArrayManager implementation."
   ]
  },
  {
   "cell_type": "code",
   "execution_count": 16,
   "metadata": {},
   "outputs": [],
   "source": [
    "DArrayManager dm = DArrayManager.base();\n",
    "DType dt = DType.DOUBLE;"
   ]
  },
  {
   "cell_type": "markdown",
   "metadata": {},
   "source": [
    "## Shape of a DArray"
   ]
  },
  {
   "cell_type": "markdown",
   "metadata": {},
   "source": [
    "DArray elements are indexed by dimensions. You can think of a darray as a hypercube of data elements with one element in each position of the hypercube. A darray can have 0, 1, 2 or more dimensions. Each dimension have a dimension size. The dimensions and the size of each dimension is described by a `Shape` object.\n",
    "\n",
    "The total number of elements is given by the product of all dimension sizes, or 1 if there is no dimension."
   ]
  },
  {
   "cell_type": "code",
   "execution_count": 4,
   "metadata": {},
   "outputs": [
    {
     "data": {
      "text/plain": [
       "Shape: []"
      ]
     },
     "metadata": {},
     "output_type": "display_data"
    },
    {
     "data": {
      "text/plain": [
       "Shape: [1]"
      ]
     },
     "metadata": {},
     "output_type": "display_data"
    },
    {
     "data": {
      "text/plain": [
       "1"
      ]
     },
     "metadata": {},
     "output_type": "display_data"
    },
    {
     "data": {
      "text/plain": [
       "1"
      ]
     },
     "metadata": {},
     "output_type": "display_data"
    },
    {
     "data": {
      "text/plain": [
       "fce0e044-c1b6-4c45-937b-ef2f00a20ca8"
      ]
     },
     "execution_count": 4,
     "metadata": {},
     "output_type": "execute_result"
    }
   ],
   "source": [
    "// a shape with no dimensions\n",
    "display(Shape.of());\n",
    "\n",
    "// a shape with 1 dimension / a vector of size 1\n",
    "display(Shape.of(1));\n",
    "\n",
    "// Both shapes are of size 1, but they are different shapes\n",
    "display(Shape.of().size());\n",
    "display(Shape.of(1).size());"
   ]
  },
  {
   "cell_type": "markdown",
   "metadata": {},
   "source": [
    "## DArray creation"
   ]
  },
  {
   "cell_type": "markdown",
   "metadata": {},
   "source": [
    "A darray with no dimensions is a scalar and can be created with:"
   ]
  },
  {
   "cell_type": "code",
   "execution_count": 17,
   "metadata": {},
   "outputs": [
    {
     "data": {
      "text/plain": [
       "Shape: []"
      ]
     },
     "metadata": {},
     "output_type": "display_data"
    },
    {
     "data": {
      "text/plain": [
       "BaseStride{DOUBLE,[],0,[]}\n",
       " 1  \n"
      ]
     },
     "metadata": {},
     "output_type": "display_data"
    },
    {
     "data": {
      "text/plain": [
       "cde09ed4-402e-4221-9349-040374fe9731"
      ]
     },
     "execution_count": 17,
     "metadata": {},
     "output_type": "execute_result"
    }
   ],
   "source": [
    "var scalar = dm.scalar(dt, 1.);\n",
    "display(scalar.shape());\n",
    "display(scalar)"
   ]
  },
  {
   "cell_type": "markdown",
   "metadata": {},
   "source": [
    "A DArray with a single dimension is a vector, with two dimensions it is called a matrix and in general with more than two dimensions it is called a tensor. "
   ]
  },
  {
   "cell_type": "code",
   "execution_count": 18,
   "metadata": {
    "tags": []
   },
   "outputs": [
    {
     "name": "stdout",
     "output_type": "stream",
     "text": [
      "[ 0 1 2 3 4 5 6 7 8 9 10 11 12 13 14 15 16 17 18 19 20 21 22 23 24 25 26 27 28 29 30 31 32 33 34 35 36 37 38 39 40 41 42 43 44 45 46 47 48 49 50 51 52 53 54 55 56 57 58 59 60 61 62 63 64 65 66 67 68 69 70 71 72 73 74 75 76 77 78 79 80 81 82 83 84 85 86 87 88 89 90 91 92 93 94 95 96 97 98 99 ] \n"
     ]
    }
   ],
   "source": [
    "dm.seq(DType.FLOAT, Shape.of(100)).printFullContent()"
   ]
  },
  {
   "cell_type": "markdown",
   "metadata": {},
   "source": [
    "Since the default darray manager uses Java arrays as data storage, it is possible to wrap an array into a darray of appropriate type and use darray operations to change values in the array. For example we will create an array of double values and a wrapper darray around it. \n",
    "Using darray methods we can change the values from the array."
   ]
  },
  {
   "cell_type": "code",
   "execution_count": 19,
   "metadata": {},
   "outputs": [
    {
     "name": "stdout",
     "output_type": "stream",
     "text": [
      "0.6931471805599453\n",
      "1.0986122886681096\n",
      "1.3862943611198906\n"
     ]
    }
   ],
   "source": [
    "double[] array = new double[] {1., 2., 3.};\n",
    "// the default tensor manager wraps a double array if we request a Tensor<Double>\n",
    "var t = dm.stride(dt, array);\n",
    "t.log1p_(); // call the in-place log1p operation\n",
    "Arrays.stream(array).forEach(System.out::println);"
   ]
  },
  {
   "cell_type": "markdown",
   "metadata": {
    "tags": []
   },
   "source": [
    "The same thing happens for other value types (from the supperted ones which are: `double`,`float`,`int` and `byte`)"
   ]
  },
  {
   "cell_type": "code",
   "execution_count": 20,
   "metadata": {
    "tags": []
   },
   "outputs": [
    {
     "name": "stdout",
     "output_type": "stream",
     "text": [
      "1.0\n",
      "4.0\n",
      "9.0\n",
      "16.0\n"
     ]
    }
   ],
   "source": [
    "float[] floatArray = new float[] {1.f, 2, 3, 4};\n",
    "var floatTensor = dm.stride(DType.FLOAT, floatArray);\n",
    "floatTensor.sqr_();\n",
    "for(float f : floatArray) {\n",
    "    System.out.println(f);\n",
    "}"
   ]
  },
  {
   "cell_type": "markdown",
   "metadata": {},
   "source": [
    "Using a different type will not wrap the array, but will copy the data into a new darray."
   ]
  },
  {
   "cell_type": "code",
   "execution_count": 21,
   "metadata": {},
   "outputs": [
    {
     "name": "stdout",
     "output_type": "stream",
     "text": [
      "original value at index[0]: 1.000000, corresponding darray value: 1.000000\n",
      "original value at index[1]: 4.000000, corresponding darray value: 2.000000\n",
      "original value at index[2]: 9.000000, corresponding darray value: 3.000000\n",
      "original value at index[3]: 16.000000, corresponding darray value: 4.000000\n"
     ]
    }
   ],
   "source": [
    "var doubleArray = dm.stride(dt, floatArray);\n",
    "doubleArray.sqrt_();\n",
    "for(int i=0; i<floatArray.length; i++) {\n",
    "    System.out.printf(\"original value at index[%d]: %f, corresponding darray value: %f%n\", \n",
    "                      i, floatArray[i], doubleArray.get(i));\n",
    "}\n",
    "// we can see that the values remain unchanged"
   ]
  },
  {
   "cell_type": "markdown",
   "metadata": {},
   "source": [
    "The are also other constructors. "
   ]
  },
  {
   "cell_type": "code",
   "execution_count": 22,
   "metadata": {},
   "outputs": [
    {
     "data": {
      "text/plain": [
       "m:"
      ]
     },
     "metadata": {},
     "output_type": "display_data"
    },
    {
     "data": {
      "text/plain": [
       "BaseStride{DOUBLE,[3, 3],0,[3, 1]}\n",
       "[[ 1 0 0 ]  \n",
       " [ 0 1 0 ]  \n",
       " [ 0 0 1 ]] \n"
      ]
     },
     "metadata": {},
     "output_type": "display_data"
    },
    {
     "data": {
      "text/plain": [
       "u:"
      ]
     },
     "metadata": {},
     "output_type": "display_data"
    },
    {
     "data": {
      "text/plain": [
       "BaseStride{DOUBLE,[3],0,[1]}\n",
       "[ 0.6054611363173034 0.47673188281383294 -0.49948335406718436 ] \n"
      ]
     },
     "metadata": {},
     "output_type": "display_data"
    },
    {
     "data": {
      "text/plain": [
       "vector inner product between u and third row of m, which basically is the third element of u:"
      ]
     },
     "metadata": {},
     "output_type": "display_data"
    },
    {
     "data": {
      "text/plain": [
       "-0.49948335406718436"
      ]
     },
     "metadata": {},
     "output_type": "display_data"
    },
    {
     "data": {
      "text/plain": [
       "-0.49948335406718436"
      ]
     },
     "metadata": {},
     "output_type": "display_data"
    },
    {
     "data": {
      "text/plain": [
       "2f14bf10-8a52-4917-8659-e8e49696ec00"
      ]
     },
     "execution_count": 22,
     "metadata": {},
     "output_type": "execute_result"
    }
   ],
   "source": [
    "var m = dm.eye(dt, 3);\n",
    "display(\"m:\");\n",
    "display(m);\n",
    "\n",
    "Random random = new Random(42);\n",
    "var u = dm.random(dt, Shape.of(3), random);\n",
    "display(\"u:\");\n",
    "display(u);\n",
    "display(\"vector inner product between u and third row of m, which basically is the third element of u:\");\n",
    "display(u.inner(m.selsq(0, 2)));\n",
    "display(u.get(2))"
   ]
  },
  {
   "cell_type": "markdown",
   "metadata": {
    "tags": []
   },
   "source": [
    "Since `m` is the identity matrix, it's transpose is also identity, \n",
    "matrix multiplication between the two produces also identity and \n",
    "the determinant of `m` should be `1`:"
   ]
  },
  {
   "cell_type": "code",
   "execution_count": 23,
   "metadata": {
    "tags": []
   },
   "outputs": [
    {
     "data": {
      "text/markdown": [
       "$m^T m = I$"
      ]
     },
     "metadata": {},
     "output_type": "display_data"
    },
    {
     "name": "stdout",
     "output_type": "stream",
     "text": [
      "[[ 1 0 0 ]  \n",
      " [ 0 1 0 ]  \n",
      " [ 0 0 1 ]] \n"
     ]
    },
    {
     "data": {
      "text/plain": [
       "1.0"
      ]
     },
     "execution_count": 23,
     "metadata": {},
     "output_type": "execute_result"
    }
   ],
   "source": [
    "var mtm = m.t_().mm(m);\n",
    "display(\"text/markdown\", \"$m^T m = I$\");\n",
    "mtm.printContent();\n",
    "mtm.lu().det();"
   ]
  },
  {
   "cell_type": "markdown",
   "metadata": {
    "tags": []
   },
   "source": [
    "## Stride arrays"
   ]
  },
  {
   "cell_type": "markdown",
   "metadata": {
    "tags": []
   },
   "source": [
    "DArray base implementation uses stride array algebra. In short, all the elements of the darrays are stored in a storage which is a contiguous array. A darray is a view over the storage which defines a stride arithmetic. If operations allows to use the same storage (it is possible to perform the transformation manipulating only shape, offset and stride information), than it will create a new view. This allows fast operations if possible."
   ]
  },
  {
   "cell_type": "markdown",
   "metadata": {
    "tags": []
   },
   "source": [
    "Let's build an array which contains a sequence of numbers."
   ]
  },
  {
   "cell_type": "code",
   "execution_count": 24,
   "metadata": {
    "tags": []
   },
   "outputs": [
    {
     "data": {
      "text/plain": [
       "BaseStride{DOUBLE,[2, 3, 4],0,[12, 4, 1]}\n",
       "[[[  0  1  2  3 ]   \n",
       "  [  4  5  6  7 ]   \n",
       "  [  8  9 10 11 ]]  \n",
       " [[ 12 13 14 15 ]   \n",
       "  [ 16 17 18 19 ]   \n",
       "  [ 20 21 22 23 ]]] \n"
      ]
     },
     "execution_count": 24,
     "metadata": {},
     "output_type": "execute_result"
    }
   ],
   "source": [
    "var x = dm.seq(dt, Shape.of(2,3,4));\n",
    "x"
   ]
  },
  {
   "cell_type": "markdown",
   "metadata": {
    "tags": []
   },
   "source": [
    "Let's dive a little bit into the description of the darray. `BaseStride` is the class which implements the darray, which means it uses stride arithmetic to index the values from storage. `FLOAT` is the data type of the elements, in this case being `float` value type from Java.\n",
    "\n",
    "Next we have some numeric information. `[2,3,4]` is the shape. This is to be expected, since we specified that shape when we created the darray. This means we have a darray with three dimensions, first axis of size `2`, second axis of size `3` and the third axis of size `4`.\n",
    "\n",
    "The next information is the number `0`. This is the offset. The offset for a strided array is a position in the contiguous storage where the first element of the darray is stored. Sometimes this offset is not zero, and we will provide and example soon.\n",
    "\n",
    "The last numeric information is `[12,4,1]`. These are the strides. We have a stride for each dimension in the darray. The meaning of stride is the following: *how many elements have to be skipped to see the next element in the given dimension*. The stride and offset gives a way to compute the position of an element in the storage, given an index for that element.\n",
    "\n",
    "$$ptr[i,j,k] = offset + i*stride[0] + j*stride[1] + k * stride[2]$$\n",
    "\n",
    "The above formula is valid for three dimensions, of course. In general for `D` dimensions we have:\n",
    "\n",
    "$$ptr[i_0,i_1,..,i_{D-1}] = offset + \\sum_{j=0}^{D-1} i_j * stride[j]$$"
   ]
  },
  {
   "cell_type": "markdown",
   "metadata": {
    "tags": []
   },
   "source": [
    "`x` is a 3 dimensional array. The first dimension has size `2`. This allows the interpretation of `x` as being an array of 2 matrices of shape `[3,4]`. We can select an element based on an axis and index using `sel`. Furthermore, `selsq`, which is an abbreviation of *select and squeeze* removes the given axis from the darray."
   ]
  },
  {
   "cell_type": "code",
   "execution_count": 25,
   "metadata": {
    "tags": []
   },
   "outputs": [
    {
     "data": {
      "text/plain": [
       "BaseStride{DOUBLE,[3, 4],0,[4, 1]}\n",
       "[[ 0 1  2  3 ]  \n",
       " [ 4 5  6  7 ]  \n",
       " [ 8 9 10 11 ]] \n"
      ]
     },
     "metadata": {},
     "output_type": "display_data"
    },
    {
     "data": {
      "text/plain": [
       "BaseStride{DOUBLE,[3, 4],12,[4, 1]}\n",
       "[[ 12 13 14 15 ]  \n",
       " [ 16 17 18 19 ]  \n",
       " [ 20 21 22 23 ]] \n"
      ]
     },
     "metadata": {},
     "output_type": "display_data"
    },
    {
     "data": {
      "text/plain": [
       "7a8541bc-8dfe-4714-8cff-426c0e09ee72"
      ]
     },
     "execution_count": 25,
     "metadata": {},
     "output_type": "execute_result"
    }
   ],
   "source": [
    "// first matrix\n",
    "display(x.selsq(0,0));\n",
    "display(x.selsq(0,1));"
   ]
  },
  {
   "cell_type": "markdown",
   "metadata": {
    "tags": []
   },
   "source": [
    "Notice the offset of the second darray, which is `12`. The two darrays have the same shapes and strides, which means their layout in memory is the same, but their offset is different. This is because `x` is stored in C order (the default order in storage, but that can be changed also), which means it first stores the elements of the first matrix at offset `0` and after that it stores the elements of the second matrix at offset `12`, which is the same value as the number of elements of the first darray."
   ]
  },
  {
   "cell_type": "markdown",
   "metadata": {
    "tags": []
   },
   "source": [
    "Multiple other operations on the layout creates different views on the same storage. General transposition, for example, creates the following darray."
   ]
  },
  {
   "cell_type": "code",
   "execution_count": 26,
   "metadata": {
    "tags": []
   },
   "outputs": [
    {
     "data": {
      "text/plain": [
       "BaseStride{DOUBLE,[4, 3, 2],0,[1, 4, 12]}\n",
       "[[[  0 12 ]   \n",
       "  [  4 16 ]   \n",
       "  [  8 20 ]]  \n",
       " [[  1 13 ]   \n",
       "  [  5 17 ]   \n",
       "  [  9 21 ]]  \n",
       " [[  2 14 ]   \n",
       "  [  6 18 ]   \n",
       "  [ 10 22 ]]  \n",
       " [[  3 15 ]   \n",
       "  [  7 19 ]   \n",
       "  [ 11 23 ]]] \n"
      ]
     },
     "execution_count": 26,
     "metadata": {},
     "output_type": "execute_result"
    }
   ],
   "source": [
    "x.t_()"
   ]
  },
  {
   "cell_type": "markdown",
   "metadata": {
    "tags": []
   },
   "source": [
    "Notice how the shape dimensions are reversed, the same offset, but strides are different, since there are different dimension sizes. To check if two darrays have the same storage one have to compare the storage instances."
   ]
  },
  {
   "cell_type": "code",
   "execution_count": 27,
   "metadata": {
    "tags": []
   },
   "outputs": [
    {
     "data": {
      "text/plain": [
       "rapaio.darray.storage.array.DoubleArrayStorage@7d65e2c7"
      ]
     },
     "metadata": {},
     "output_type": "display_data"
    },
    {
     "data": {
      "text/plain": [
       "rapaio.darray.storage.array.DoubleArrayStorage@7d65e2c7"
      ]
     },
     "metadata": {},
     "output_type": "display_data"
    },
    {
     "data": {
      "text/plain": [
       "true"
      ]
     },
     "metadata": {},
     "output_type": "display_data"
    },
    {
     "data": {
      "text/plain": [
       "6abe27d1-e2d7-494e-a8f0-b821c23aa7db"
      ]
     },
     "execution_count": 27,
     "metadata": {},
     "output_type": "execute_result"
    }
   ],
   "source": [
    "display(x.storage());\n",
    "display(x.t_().storage());\n",
    "display(x.storage() == x.t_().storage());"
   ]
  },
  {
   "cell_type": "markdown",
   "metadata": {
    "tags": []
   },
   "source": [
    "**Note on syntax:**\n",
    "Some methods have two variants, the first one named `operation` and the second one `operation_`, which is the same name ended with underscore. When the method name ends with underscore the operation works on the same storage as the original darray, when there is no ending underscore a new copy is created. Not all operations allows this syntax, since some are not able to work on the same storage and some others works only on the same storage. \n",
    "\n",
    "When this syntax is used, both scenarios are implemented. This is valid for the transpose operation also. Notice the storage instance:"
   ]
  },
  {
   "cell_type": "code",
   "execution_count": 28,
   "metadata": {
    "tags": []
   },
   "outputs": [
    {
     "data": {
      "text/plain": [
       "rapaio.darray.storage.array.DoubleArrayStorage@7d65e2c7"
      ]
     },
     "metadata": {},
     "output_type": "display_data"
    },
    {
     "data": {
      "text/plain": [
       "rapaio.darray.storage.array.DoubleArrayStorage@7d65e2c7"
      ]
     },
     "metadata": {},
     "output_type": "display_data"
    },
    {
     "data": {
      "text/plain": [
       "rapaio.darray.storage.array.DoubleArrayStorage@f1ca99e"
      ]
     },
     "metadata": {},
     "output_type": "display_data"
    },
    {
     "data": {
      "text/plain": [
       "e1977075-a1a3-4683-b674-e3975d9512b7"
      ]
     },
     "execution_count": 28,
     "metadata": {},
     "output_type": "execute_result"
    }
   ],
   "source": [
    "display(x.storage());\n",
    "display(x.t_().storage());\n",
    "display(x.t().storage());"
   ]
  },
  {
   "cell_type": "markdown",
   "metadata": {
    "tags": []
   },
   "source": [
    "## Data iterators"
   ]
  },
  {
   "cell_type": "markdown",
   "metadata": {
    "tags": []
   },
   "source": [
    "The elements of a darray can be accessed in multiple ways. One way is based on indexes. The index of an element is an array of semi-positive integer numbers, each less than its corresponding dimension. Thus the index of an element describes the order of that element in each dimension."
   ]
  },
  {
   "cell_type": "code",
   "execution_count": 30,
   "metadata": {
    "tags": []
   },
   "outputs": [
    {
     "data": {
      "text/plain": [
       "BaseStride{FLOAT,[4, 5],0,[5, 1]}\n",
       "[[  0.682409405708313   -1.860346794128418   -0.3640243411064148   0.907001256942749   -0.2078128606081009 ]  \n",
       " [  1.9437248706817627   0.5633633732795715  -0.04871172457933426 -0.5485519170761108   1.6434990167617798 ]  \n",
       " [  0.9172410368919373   0.3495040833950043  -0.3341809809207916  -0.35777759552001953 -0.1645195335149765 ]  \n",
       " [ -0.10719511657953262 -0.06851354241371155 -0.07772722095251083  0.9436370730400085  -1.0320192575454712 ]] \n"
      ]
     },
     "execution_count": 30,
     "metadata": {},
     "output_type": "execute_result"
    }
   ],
   "source": [
    "dt = DType.FLOAT;\n",
    "var x = dm.random(dt, Shape.of(4,5), random);\n",
    "x"
   ]
  },
  {
   "cell_type": "markdown",
   "metadata": {
    "tags": []
   },
   "source": [
    "We have a matrix of `4` rows and `5` columns. To access the element from second row and third column we can use `get` methods:"
   ]
  },
  {
   "cell_type": "code",
   "execution_count": 32,
   "metadata": {
    "tags": []
   },
   "outputs": [
    {
     "data": {
      "text/plain": [
       "-0.048711725"
      ]
     },
     "metadata": {},
     "output_type": "display_data"
    },
    {
     "data": {
      "text/plain": [
       "-0.048711725"
      ]
     },
     "metadata": {},
     "output_type": "display_data"
    },
    {
     "data": {
      "text/plain": [
       "0"
      ]
     },
     "metadata": {},
     "output_type": "display_data"
    },
    {
     "data": {
      "text/plain": [
       "6d62c01f-11d2-4933-aea0-e7d8d8e4f4a4"
      ]
     },
     "execution_count": 32,
     "metadata": {},
     "output_type": "execute_result"
    }
   ],
   "source": [
    "display(x.get(1,2));\n",
    "// if we want directly the value type\n",
    "display(x.getFloat(1,2));\n",
    "// we can de a cast, also, if it is useful, notice that 0 is the rounded value of the original one\n",
    "display(x.getInt(1,2));"
   ]
  },
  {
   "cell_type": "markdown",
   "metadata": {
    "tags": []
   },
   "source": [
    "To iterate on the elements using indexes one can use the following iterator:"
   ]
  },
  {
   "cell_type": "code",
   "execution_count": 33,
   "metadata": {
    "tags": []
   },
   "outputs": [
    {
     "name": "stdout",
     "output_type": "stream",
     "text": [
      "0.6824094, -1.8603468, -0.36402434, 0.90700126, -0.20781286, 1.9437249, 0.5633634, -0.048711725, -0.5485519, 1.643499, 0.91724104, 0.34950408, -0.33418098, -0.3577776, -0.16451953, -0.10719512, -0.06851354, -0.07772722, 0.9436371, -1.0320193, "
     ]
    }
   ],
   "source": [
    "var it = x.iterator();\n",
    "while(it.hasNext()) {\n",
    "    System.out.print(it.next() + \", \");\n",
    "}"
   ]
  },
  {
   "cell_type": "markdown",
   "metadata": {
    "tags": []
   },
   "source": [
    "The default order is `Order.C` C-style order, which means last dimensions loops faster. In the case of the matrix we iterate first on rows, and after that, in the inner loop, we iterate over columns. So, in C order, columns loops faster than rows. \n",
    "\n",
    "One can use also other orders, like `Order.F` Fortran-style order, which means first dimensions loops faster. There is also `Order.S` which is the storage order, the best possible order in which elements can be iterated so that accessing them is cache friendly. Also, `Order.A` means automatic order, which can be determined by an algorithm. We also have `Order.defaultOrder()` which is the configured default order, in our case being C."
   ]
  },
  {
   "cell_type": "code",
   "execution_count": 34,
   "metadata": {
    "tags": []
   },
   "outputs": [
    {
     "name": "stdout",
     "output_type": "stream",
     "text": [
      "0.6824094, 1.9437249, 0.91724104, -0.10719512, -1.8603468, 0.5633634, 0.34950408, -0.06851354, -0.36402434, -0.048711725, -0.33418098, -0.07772722, 0.90700126, -0.5485519, -0.3577776, 0.9436371, -0.20781286, 1.643499, -0.16451953, -1.0320193, "
     ]
    }
   ],
   "source": [
    "var it = x.iterator(Order.F);\n",
    "while(it.hasNext()) {\n",
    "    System.out.print(it.next()+\", \");\n",
    "}"
   ]
  },
  {
   "cell_type": "markdown",
   "metadata": {
    "tags": []
   },
   "source": [
    "Another kind of iterator is to iterate by pointer. The pointer of an element is basically the position of that element in the underlying storage. The advantage of using pointer elements is that it can be faster since some optimizations are realized if possible. To access elements based on their pointer value you can used `ptrGet` methods."
   ]
  },
  {
   "cell_type": "code",
   "execution_count": 35,
   "metadata": {
    "tags": []
   },
   "outputs": [
    {
     "name": "stdout",
     "output_type": "stream",
     "text": [
      "0.6824094, -1.8603468, -0.36402434, 0.90700126, -0.20781286, 1.9437249, 0.5633634, -0.048711725, -0.5485519, 1.643499, 0.91724104, 0.34950408, -0.33418098, -0.3577776, -0.16451953, -0.10719512, -0.06851354, -0.07772722, 0.9436371, -1.0320193, "
     ]
    }
   ],
   "source": [
    "var pit = x.ptrIterator();\n",
    "while(pit.hasNext()) {\n",
    "    System.out.print(x.ptrGet(pit.next()) + \", \");\n",
    "}"
   ]
  },
  {
   "cell_type": "markdown",
   "metadata": {
    "tags": []
   },
   "source": [
    "## Operations on shapes"
   ]
  },
  {
   "cell_type": "markdown",
   "metadata": {
    "tags": []
   },
   "source": [
    "In general we can consider that a darray is an organized indexed view over some data elements which are lies into a storage. Many operations on those objects changes only this organization of data. Some of the operations are able to create a new view over the same data and for some other this is impossible, and a new storage with copied data is necessary. \n",
    "\n",
    "The idea of multidimensional array of elements can be seen in a recursive fashion. For example a darray in three dimensions can be understood as an indexed array of darrays of 2 dimensions, which in turn can be seen as arrays of unidimensional objects, which in a final turn can be seen as an indexed array of individual values, or scalars. As we can see this is a matter of organization, and this kind of operations helps us to give a proper form more usefull for understanding, for computation or for other reasons."
   ]
  },
  {
   "cell_type": "code",
   "execution_count": 57,
   "metadata": {
    "tags": []
   },
   "outputs": [
    {
     "data": {
      "text/plain": [
       "BaseStride{FLOAT,[2, 3, 2],0,[6, 2, 1]}\n",
       "[[[  0  1 ]   \n",
       "  [  2  3 ]   \n",
       "  [  4  5 ]]  \n",
       " [[  6  7 ]   \n",
       "  [  8  9 ]   \n",
       "  [ 10 11 ]]] \n"
      ]
     },
     "execution_count": 57,
     "metadata": {},
     "output_type": "execute_result"
    }
   ],
   "source": [
    "var x = dm.seq(dt, Shape.of(2,3,2));\n",
    "x"
   ]
  },
  {
   "cell_type": "code",
   "execution_count": 62,
   "metadata": {
    "tags": []
   },
   "outputs": [
    {
     "data": {
      "text/plain": [
       "[BaseStride{FLOAT,[3, 2],0,[2, 1]}\n",
       "[[ 0 1 ]  \n",
       " [ 2 3 ]  \n",
       " [ 4 5 ]] \n",
       ", BaseStride{FLOAT,[3, 2],6,[2, 1]}\n",
       "[[  6  7 ]  \n",
       " [  8  9 ]  \n",
       " [ 10 11 ]] \n",
       "]"
      ]
     },
     "execution_count": 62,
     "metadata": {},
     "output_type": "execute_result"
    }
   ],
   "source": [
    "// split into pieces of the same size on the first dimension\n",
    "x.chunk(0, false, 1);"
   ]
  },
  {
   "cell_type": "code",
   "execution_count": 72,
   "metadata": {
    "tags": []
   },
   "outputs": [
    {
     "data": {
      "text/plain": [
       "BaseStride{FLOAT,[3],0,[2]}\n",
       "[ 0 2 4 ] \n"
      ]
     },
     "metadata": {},
     "output_type": "display_data"
    },
    {
     "data": {
      "text/plain": [
       "BaseStride{FLOAT,[3],1,[2]}\n",
       "[ 1 3 5 ] \n"
      ]
     },
     "metadata": {},
     "output_type": "display_data"
    },
    {
     "data": {
      "text/plain": [
       "BaseStride{FLOAT,[3],6,[2]}\n",
       "[ 6 8 10 ] \n"
      ]
     },
     "metadata": {},
     "output_type": "display_data"
    },
    {
     "data": {
      "text/plain": [
       "BaseStride{FLOAT,[3],7,[2]}\n",
       "[ 7 9 11 ] \n"
      ]
     },
     "metadata": {},
     "output_type": "display_data"
    }
   ],
   "source": [
    "// split into pieces of the same size on first and last dimension\n",
    "List<DArray<Float>> list = x.chunkAll(false,new int[]{1,3,1});\n",
    "list.forEach(da->display(da.squeeze(0, 2)));"
   ]
  },
  {
   "cell_type": "code",
   "execution_count": 73,
   "metadata": {
    "tags": []
   },
   "outputs": [
    {
     "data": {
      "text/plain": [
       "BaseStride{FLOAT,[3],0,[1]}\n",
       "[ -0.32171013951301575 -0.17304112017154694 -0.4335041344165802 ] \n"
      ]
     },
     "metadata": {},
     "output_type": "display_data"
    },
    {
     "data": {
      "text/plain": [
       "BaseStride{FLOAT,[3],0,[1]}\n",
       "[ -0.48131176829338074 -0.144036203622818 -1.3020426034927368 ] \n"
      ]
     },
     "metadata": {},
     "output_type": "display_data"
    },
    {
     "data": {
      "text/plain": [
       "BaseStride{FLOAT,[3],0,[1]}\n",
       "[ 0.6593151688575745 -0.950773298740387 0.8610353469848633 ] \n"
      ]
     },
     "metadata": {},
     "output_type": "display_data"
    },
    {
     "data": {
      "text/plain": [
       "cc5a5b5c-8e6a-4f18-a5c5-1b14ae077790"
      ]
     },
     "execution_count": 73,
     "metadata": {},
     "output_type": "execute_result"
    }
   ],
   "source": [
    "// define some vectors\n",
    "var a = dm.random(dt, Shape.of(3), random);\n",
    "var b = dm.random(dt, Shape.of(3), random);\n",
    "var c = dm.random(dt, Shape.of(3), random);\n",
    "display(a);\n",
    "display(b);\n",
    "display(c);"
   ]
  },
  {
   "cell_type": "code",
   "execution_count": 83,
   "metadata": {
    "tags": []
   },
   "outputs": [
    {
     "data": {
      "text/plain": [
       "BaseStride{FLOAT,[3, 3],0,[3, 1]}\n",
       "[[ -0.32171013951301575 -0.17304112017154694 -0.4335041344165802 ]  \n",
       " [ -0.48131176829338074 -0.144036203622818   -1.3020426034927368 ]  \n",
       " [  0.6593151688575745  -0.950773298740387    0.8610353469848633 ]] \n"
      ]
     },
     "execution_count": 83,
     "metadata": {},
     "output_type": "execute_result"
    }
   ],
   "source": [
    "// stack all of them as rows in a matrix. \n",
    "dm.stack(0, List.<DArray<Float>>of(a,b,c))"
   ]
  },
  {
   "cell_type": "code",
   "execution_count": 84,
   "metadata": {
    "tags": []
   },
   "outputs": [
    {
     "data": {
      "text/plain": [
       "BaseStride{FLOAT,[3, 3],0,[3, 1]}\n",
       "[[ -0.32171013951301575 -0.48131176829338074  0.6593151688575745 ]  \n",
       " [ -0.17304112017154694 -0.144036203622818   -0.950773298740387  ]  \n",
       " [ -0.4335041344165802  -1.3020426034927368   0.8610353469848633 ]] \n"
      ]
     },
     "execution_count": 84,
     "metadata": {},
     "output_type": "execute_result"
    }
   ],
   "source": [
    "// stack all of them as columns in a matrix\n",
    "dm.stack(1, List.<DArray<Float>>of(a,b,c))"
   ]
  },
  {
   "cell_type": "code",
   "execution_count": 85,
   "metadata": {
    "tags": []
   },
   "outputs": [
    {
     "data": {
      "text/plain": [
       "BaseStride{FLOAT,[9],0,[1]}\n",
       "[ -0.32171013951301575 -0.17304112017154694 -0.4335041344165802 -0.48131176829338074 -0.144036203622818 -1.3020426034927368 0.6593151688575745 -0.950773298740387 0.8610353469848633 ] \n"
      ]
     },
     "execution_count": 85,
     "metadata": {},
     "output_type": "execute_result"
    }
   ],
   "source": [
    "// concatenate all elements along the single available dimension of the elements\n",
    "dm.cat(0, List.<DArray<Float>>of(a,b,c))"
   ]
  },
  {
   "cell_type": "markdown",
   "metadata": {
    "tags": []
   },
   "source": []
  },
  {
   "cell_type": "markdown",
   "metadata": {
    "tags": []
   },
   "source": []
  },
  {
   "cell_type": "markdown",
   "metadata": {
    "tags": []
   },
   "source": []
  },
  {
   "cell_type": "markdown",
   "metadata": {
    "tags": []
   },
   "source": []
  },
  {
   "cell_type": "markdown",
   "metadata": {
    "tags": []
   },
   "source": [
    "## Elementwise operations"
   ]
  },
  {
   "cell_type": "markdown",
   "metadata": {
    "tags": []
   },
   "source": []
  },
  {
   "cell_type": "markdown",
   "metadata": {
    "tags": []
   },
   "source": []
  },
  {
   "cell_type": "markdown",
   "metadata": {
    "tags": []
   },
   "source": [
    "## Reduce operations"
   ]
  },
  {
   "cell_type": "markdown",
   "metadata": {
    "tags": []
   },
   "source": []
  },
  {
   "cell_type": "markdown",
   "metadata": {
    "tags": []
   },
   "source": []
  },
  {
   "cell_type": "markdown",
   "metadata": {
    "tags": []
   },
   "source": [
    "## Binary operations"
   ]
  },
  {
   "cell_type": "markdown",
   "metadata": {
    "tags": []
   },
   "source": []
  },
  {
   "cell_type": "markdown",
   "metadata": {
    "tags": []
   },
   "source": []
  },
  {
   "cell_type": "markdown",
   "metadata": {
    "tags": []
   },
   "source": [
    "## Broadcasting"
   ]
  },
  {
   "cell_type": "markdown",
   "metadata": {
    "tags": []
   },
   "source": []
  },
  {
   "cell_type": "markdown",
   "metadata": {
    "tags": []
   },
   "source": []
  },
  {
   "cell_type": "markdown",
   "metadata": {
    "tags": []
   },
   "source": []
  },
  {
   "cell_type": "markdown",
   "metadata": {
    "tags": []
   },
   "source": [
    "## Matrix decompositions\n",
    "\n",
    "Some fundamental matrix decompositions are available. Usually those can be found as operations with an abbreviated name. Some examples includes singluar value decomposition (`svd`), eigenvalue decomposition (`eig`), or QR decomposition `qr`."
   ]
  },
  {
   "cell_type": "code",
   "execution_count": 36,
   "metadata": {
    "tags": []
   },
   "outputs": [
    {
     "data": {
      "text/plain": [
       "BaseStride{FLOAT,[4, 2],0,[2, 1]}\n",
       "[[  0.9695566296577454  -0.09966190159320831 ]  \n",
       " [ -0.5811431407928467  -0.8561254143714905  ]  \n",
       " [ -0.9181374907493591   1.1062313318252563  ]  \n",
       " [ -0.03361855819821358 -0.19940824806690216 ]] \n"
      ]
     },
     "metadata": {},
     "output_type": "display_data"
    },
    {
     "data": {
      "text/plain": [
       "e349cf03-69e0-4062-be5d-f30bcd1dfc89"
      ]
     },
     "execution_count": 36,
     "metadata": {},
     "output_type": "execute_result"
    }
   ],
   "source": [
    "var x = dm.random(dt, Shape.of(4,2), random);\n",
    "display(x);"
   ]
  },
  {
   "cell_type": "code",
   "execution_count": 37,
   "metadata": {
    "tags": []
   },
   "outputs": [
    {
     "data": {
      "text/plain": [
       "BaseStride{FLOAT,[4, 2],0,[2, 1]}\n",
       "[[  0.4795474410057068  -0.4799862802028656  ]  \n",
       " [  0.08935008198022842  0.8497121930122375  ]  \n",
       " [ -0.8703932762145996  -0.16638758778572083 ]  \n",
       " [  0.06683049350976944  0.14112931489944458 ]] \n"
      ]
     },
     "metadata": {},
     "output_type": "display_data"
    },
    {
     "data": {
      "text/plain": [
       "BaseStride{FLOAT,[2, 2],0,[2, 1]}\n",
       "[[ 1.635522723197937 0                 ]  \n",
       " [ 0                 1.205543041229248 ]] \n"
      ]
     },
     "metadata": {},
     "output_type": "display_data"
    },
    {
     "data": {
      "text/plain": [
       "BaseStride{FLOAT,[2, 2],0,[2, 1]}\n",
       "[[  0.7397739887237549 -0.6728554368019104 ]  \n",
       " [ -0.6728554368019104 -0.7397739887237549 ]] \n"
      ]
     },
     "metadata": {},
     "output_type": "display_data"
    },
    {
     "data": {
      "text/plain": [
       "BaseStride{FLOAT,[4, 2],0,[2, 1]}\n",
       "[[  0.9695565700531006  -0.0996619164943695  ]  \n",
       " [ -0.5811430811882019  -0.8561253547668457  ]  \n",
       " [ -0.9181374907493591   1.1062313318252563  ]  \n",
       " [ -0.03361855447292328 -0.19940824806690216 ]] \n"
      ]
     },
     "metadata": {},
     "output_type": "display_data"
    },
    {
     "data": {
      "text/plain": [
       "rank of x:"
      ]
     },
     "metadata": {},
     "output_type": "display_data"
    },
    {
     "data": {
      "text/plain": [
       "2"
      ]
     },
     "metadata": {},
     "output_type": "display_data"
    },
    {
     "data": {
      "text/plain": [
       "fad95e59-5b59-4df9-a563-b59f9e465d1d"
      ]
     },
     "execution_count": 37,
     "metadata": {},
     "output_type": "execute_result"
    }
   ],
   "source": [
    "// singular value decomposition\n",
    "var u = x.svd().u();\n",
    "var s = x.svd().s();\n",
    "var v = x.svd().v();\n",
    "\n",
    "display(u);\n",
    "display(s);\n",
    "display(v);\n",
    "\n",
    "// reconstruction of x\n",
    "display(u.mm(s).mm(v.t()));\n",
    "\n",
    "display(\"rank of x:\");\n",
    "display(x.svd().rank());"
   ]
  },
  {
   "cell_type": "code",
   "execution_count": 38,
   "metadata": {
    "tags": []
   },
   "outputs": [
    {
     "data": {
      "text/plain": [
       "BaseStride{FLOAT,[4, 2],0,[2, 1]}\n",
       "[[ -0.665600061416626     0.1316402405500412  ]  \n",
       " [  0.39895445108413696  -0.7555326819419861  ]  \n",
       " [  0.6303008794784546    0.6228885054588318  ]  \n",
       " [  0.023079121485352516 -0.15443818271160126 ]] \n"
      ]
     },
     "execution_count": 38,
     "metadata": {},
     "output_type": "execute_result"
    }
   ],
   "source": [
    "// QR decomposition\n",
    "x.qr().q()"
   ]
  },
  {
   "cell_type": "code",
   "execution_count": 39,
   "metadata": {
    "tags": []
   },
   "outputs": [
    {
     "data": {
      "text/plain": [
       "norm of the first vector column:"
      ]
     },
     "metadata": {},
     "output_type": "display_data"
    },
    {
     "data": {
      "text/plain": [
       "0.99999994"
      ]
     },
     "metadata": {},
     "output_type": "display_data"
    },
    {
     "data": {
      "text/plain": [
       "inner product of the two column vectors:"
      ]
     },
     "metadata": {},
     "output_type": "display_data"
    },
    {
     "data": {
      "text/plain": [
       "4.656613E-10"
      ]
     },
     "metadata": {},
     "output_type": "display_data"
    },
    {
     "data": {
      "text/plain": [
       "1fcb2e52-84a3-4b8d-991f-fa0dfc7194ed"
      ]
     },
     "execution_count": 39,
     "metadata": {},
     "output_type": "execute_result"
    }
   ],
   "source": [
    "// q is orthogonal\n",
    "var q = x.qr().q();\n",
    "display(\"norm of the first vector column:\");\n",
    "display(q.selsq(1,0).inner(q.selsq(1,0)));\n",
    "display(\"inner product of the two column vectors:\");\n",
    "display(q.selsq(1,0).inner(q.selsq(1,1)));"
   ]
  },
  {
   "cell_type": "code",
   "execution_count": 40,
   "metadata": {
    "tags": []
   },
   "outputs": [
    {
     "data": {
      "text/plain": [
       "BaseStride{FLOAT,[4, 2],0,[2, 1]}\n",
       "[[  0.9695566296577454  -0.09966190159320831 ]  \n",
       " [ -0.5811431407928467  -0.8561254143714905  ]  \n",
       " [ -0.9181374907493591   1.1062313318252563  ]  \n",
       " [ -0.03361855819821358 -0.19940824806690216 ]] \n"
      ]
     },
     "metadata": {},
     "output_type": "display_data"
    },
    {
     "data": {
      "text/plain": [
       "BaseStride{FLOAT,[4, 2],0,[2, 1]}\n",
       "[[  0.9695565700531006  -0.09966188669204712 ]  \n",
       " [ -0.5811431407928467  -0.8561254739761353  ]  \n",
       " [ -0.9181374907493591   1.106231451034546   ]  \n",
       " [ -0.03361855819821358 -0.19940824806690216 ]] \n"
      ]
     },
     "metadata": {},
     "output_type": "display_data"
    },
    {
     "data": {
      "text/plain": [
       "89ea25d3-15ea-4b73-a76a-5c4924531fce"
      ]
     },
     "execution_count": 40,
     "metadata": {},
     "output_type": "execute_result"
    }
   ],
   "source": [
    "var r = x.qr().r();\n",
    "// basic reconstruction\n",
    "display(x);\n",
    "display(q.mm(r));"
   ]
  },
  {
   "cell_type": "code",
   "execution_count": 41,
   "metadata": {
    "tags": []
   },
   "outputs": [
    {
     "data": {
      "text/plain": [
       "BaseStride{FLOAT,[2, 4],0,[4, 1]}\n",
       "[[ 0.48480424284935    -0.433839350938797  -0.3008265793323517 -0.0485406331717968 ]  \n",
       " [ 0.09725435823202133 -0.5581792593002319  0.4601832330226898 -0.1140972450375557 ]] \n"
      ]
     },
     "metadata": {},
     "output_type": "display_data"
    },
    {
     "data": {
      "text/plain": [
       "BaseStride{FLOAT,[2, 2],0,[2, 1]}\n",
       "[[  1                        -0.0000000046566128730773926 ]  \n",
       " [ -0.0000000421423465013504  0.9999998807907104          ]] \n"
      ]
     },
     "metadata": {},
     "output_type": "display_data"
    },
    {
     "data": {
      "text/plain": [
       "a5c06ce4-1671-4f2d-924d-8838274cf57d"
      ]
     },
     "execution_count": 41,
     "metadata": {},
     "output_type": "execute_result"
    }
   ],
   "source": [
    "// compute inverse of a matrix using QR decomposition\n",
    "var xinv = x.qr().inv();\n",
    "display(xinv);\n",
    "display(xinv.mm(x));"
   ]
  },
  {
   "cell_type": "code",
   "execution_count": 43,
   "metadata": {
    "tags": []
   },
   "outputs": [
    {
     "data": {
      "text/plain": [
       "BaseStride{FLOAT,[4, 4],0,[4, 1]}\n",
       "[[  0.10020556300878525  0.3454208970069885 -1.1442604064941406  -0.006700537167489529 ]  \n",
       " [ -1.9218206405639648  -1.7930243015289307 -0.04050852730870247  0.398999959230423    ]  \n",
       " [ -0.2643210291862488   1.5562230348587036 -0.2933931052684784   0.3751673102378845   ]  \n",
       " [  0.7403811812400818   1.2483185529708862  0.25033804774284363  1.9779791831970215   ]] \n"
      ]
     },
     "execution_count": 43,
     "metadata": {},
     "output_type": "execute_result"
    }
   ],
   "source": [
    "var x = dm.random(dt, Shape.of(4, 4), random);\n",
    "x"
   ]
  },
  {
   "cell_type": "code",
   "execution_count": 44,
   "metadata": {
    "tags": []
   },
   "outputs": [
    {
     "data": {
      "text/plain": [
       "BaseStride{FLOAT,[4],0,[1]}\n",
       "[ -1.424954891204834 0.7558175325393677 -0.5863436460494995 1.2770365476608276 ] \n"
      ]
     },
     "execution_count": 44,
     "metadata": {},
     "output_type": "execute_result"
    }
   ],
   "source": [
    "var y = dm.random(dt, Shape.of(4), random);\n",
    "y"
   ]
  },
  {
   "cell_type": "code",
   "execution_count": 45,
   "metadata": {
    "tags": []
   },
   "outputs": [
    {
     "data": {
      "text/plain": [
       "BaseStride{FLOAT,[4, 4],0,[4, 1]}\n",
       "[[ -0.14278841018676758  0.2610751688480377  0.6709297895431519   -0.008556830696761608 ]  \n",
       " [  2.7385077476501465  -1.3551992177963257  0.023751918226480484  0.5095375180244446   ]  \n",
       " [  0.3766455352306366   1.1762206554412842  0.17202918231487274   0.47910237312316895  ]  \n",
       " [ -1.0550098419189453   0.9435010552406311 -0.14678412675857544   2.525951623916626    ]] \n"
      ]
     },
     "execution_count": 45,
     "metadata": {},
     "output_type": "execute_result"
    }
   ],
   "source": [
    "x.mul(y)"
   ]
  },
  {
   "cell_type": "code",
   "execution_count": 46,
   "metadata": {
    "tags": []
   },
   "outputs": [
    {
     "data": {
      "text/plain": [
       "BaseStride{FLOAT,[4, 4],0,[4, 1]}\n",
       "[[ -0.14278841018676758 -0.49220919609069824  1.6305195093154907   0.009547962807118893 ]  \n",
       " [ -1.4525457620620728  -1.3551992177963257  -0.03061705455183983  0.30157116055488586  ]  \n",
       " [  0.15498295426368713 -0.9124814867973328   0.17202918231487274 -0.21997696161270142  ]  \n",
       " [  0.9454938173294067   1.5941483974456787   0.3196908235549927   2.525951623916626    ]] \n"
      ]
     },
     "execution_count": 46,
     "metadata": {},
     "output_type": "execute_result"
    }
   ],
   "source": [
    "x.mul(y.stretch(1)) "
   ]
  },
  {
   "cell_type": "code",
   "execution_count": 47,
   "metadata": {},
   "outputs": [
    {
     "data": {
      "text/plain": [
       "BaseStride{FLOAT,[4, 4],0,[4, 1]}\n",
       "[[ -0.14278841018676758  0.2610751688480377  0.6709297895431519   -0.008556830696761608 ]  \n",
       " [  2.7385077476501465  -1.3551992177963257  0.023751918226480484  0.5095375180244446   ]  \n",
       " [  0.3766455352306366   1.1762206554412842  0.17202918231487274   0.47910237312316895  ]  \n",
       " [ -1.0550098419189453   0.9435010552406311 -0.14678412675857544   2.525951623916626    ]] \n"
      ]
     },
     "execution_count": 47,
     "metadata": {},
     "output_type": "execute_result"
    }
   ],
   "source": [
    "x.mul(y.stretch(0))"
   ]
  },
  {
   "cell_type": "markdown",
   "metadata": {},
   "source": [
    "## Copy, cast, concatenate, split"
   ]
  },
  {
   "cell_type": "markdown",
   "metadata": {},
   "source": []
  },
  {
   "cell_type": "markdown",
   "metadata": {},
   "source": []
  },
  {
   "cell_type": "markdown",
   "metadata": {},
   "source": []
  },
  {
   "cell_type": "markdown",
   "metadata": {},
   "source": []
  },
  {
   "cell_type": "markdown",
   "metadata": {},
   "source": []
  },
  {
   "cell_type": "markdown",
   "metadata": {},
   "source": []
  }
 ],
 "metadata": {
  "kernelspec": {
   "display_name": "Java (rjk 2.2.0 preview23)",
   "language": "java",
   "name": "rapaio-jupyter-kernel-preview23"
  },
  "language_info": {
   "codemirror_mode": "java",
   "file_extension": ".jshell",
   "mimetype": "text/x-java-source",
   "name": "java",
   "nbconvert_exporter": "script",
   "pygments_lexer": "java",
   "version": "23.0.1+8-FR"
  }
 },
 "nbformat": 4,
 "nbformat_minor": 4
}
