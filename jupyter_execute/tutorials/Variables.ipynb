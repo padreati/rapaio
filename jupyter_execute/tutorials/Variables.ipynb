{
 "cells": [
  {
   "cell_type": "markdown",
   "metadata": {},
   "source": [
    "# Variables"
   ]
  },
  {
   "cell_type": "code",
   "execution_count": 1,
   "metadata": {
    "tags": []
   },
   "outputs": [
    {
     "name": "stdout",
     "output_type": "stream",
     "text": [
      "Adding dependency \u001b[0m\u001b[1m\u001b[32mio.github.padreati:rapaio-lib:7.0.0\n",
      "\u001b[0mSolving dependencies\n",
      "Resolved artifacts count: 4\n",
      "Add to classpath: \u001b[0m\u001b[32m/home/ati/work/rapaio-jupyter-kernel/target/mima_cache/io/github/padreati/rapaio-lib/7.0.0/rapaio-lib-7.0.0.jar\u001b[0m\n",
      "\u001b[0mAdd to classpath: \u001b[0m\u001b[32m/home/ati/work/rapaio-jupyter-kernel/target/mima_cache/io/github/padreati/rapaio-code-gen/7.0.0/rapaio-code-gen-7.0.0.jar\u001b[0m\n",
      "\u001b[0mAdd to classpath: \u001b[0m\u001b[32m/home/ati/work/rapaio-jupyter-kernel/target/mima_cache/org/antlr/ST4/4.3.4/ST4-4.3.4.jar\u001b[0m\n",
      "\u001b[0mAdd to classpath: \u001b[0m\u001b[32m/home/ati/work/rapaio-jupyter-kernel/target/mima_cache/org/antlr/antlr-runtime/3.5.3/antlr-runtime-3.5.3.jar\u001b[0m\n",
      "\u001b[0m"
     ]
    }
   ],
   "source": [
    "%load ../../rapaio-bootstrap.ipynb"
   ]
  },
  {
   "cell_type": "markdown",
   "metadata": {
    "toc-hr-collapsed": false
   },
   "source": [
    "Variable represents unidimensional sets of observations which comes from the same random variable (hence the name). Because the values of a variable are supposed to be generated from the same process, they have the same type and semantic. Variables have names and are of some given types. `Var` implementations can be categorized as storage variables and view variables. Storage variables are those variables which directly contains and maintain data. View variables are higher constructs obtained by filtering and/or merging other variables. View variables does not contain data directly, but maintain refferences to storage variables it wrap and allows reading and updating operations in the same way as storage variables. "
   ]
  },
  {
   "cell_type": "markdown",
   "metadata": {
    "toc-hr-collapsed": false
   },
   "source": [
    "Strorage variables implemented have different storage types and representations. We have `VarDouble`, `VarInt`, `VarNominal`, `VarBinary`, `VarLong`, `VarString` and `VarInstant`."
   ]
  },
  {
   "cell_type": "markdown",
   "metadata": {
    "toc-hr-collapsed": false
   },
   "source": [
    "## VarDouble"
   ]
  },
  {
   "cell_type": "markdown",
   "metadata": {
    "toc-hr-collapsed": false
   },
   "source": [
    "Numeric double variables are implemented by `VarDouble` and are used to handle discrete or continuous numerical values. Double variables offers value and label representations. All other representations can be used, but with caution since it can alter the content. For example int representation truncates floating point values to the biggest integer values, however the int setter sets a correct value since an integer can be converted to a double with no information loss."
   ]
  },
  {
   "cell_type": "markdown",
   "metadata": {
    "toc-hr-collapsed": false
   },
   "source": [
    "### Various builders\n",
    "\n",
    "Double variables can be built in various was and there are handy shortcuts for various scenarios."
   ]
  },
  {
   "cell_type": "code",
   "execution_count": 2,
   "metadata": {
    "tags": []
   },
   "outputs": [],
   "source": [
    "// builds a variable with no data\n",
    "Var empty1 = VarDouble.empty();\n",
    "\n",
    "// builds a variable of a given size which contains only missing data\n",
    "Var empty2 = VarDouble.empty(100);\n",
    "\n",
    "// a sequence of numbers, starting from 0, ending with 5 with step 1\n",
    "Var seq1 = VarDouble.seq(5);\n",
    "\n",
    "// a sequence of numbers, starting from 1, ending with 5 with step 1\n",
    "Var seq2 = VarDouble.seq(1, 5);\n",
    "\n",
    "// a sequence of numbers starting at 0, ending at 1 with step 0.1\n",
    "Var seq3 = VarDouble.seq(0, 1, 0.1);\n",
    "\n",
    "// build a variable of a given size which contains only zeros\n",
    "Var fill1 = VarDouble.fill(5);\n",
    "\n",
    "// builds a variable of a given size which contains only ones\n",
    "Var fill2 = VarDouble.fill(5, 1);\n",
    "\n",
    "// numeric variable which contains the values copied from another variable\n",
    "Var copy1 = VarDouble.copy(seq1);\n",
    "\n",
    "// numeric variable with values copied from a collection\n",
    "Normal normal = Normal.std();\n",
    "List<Double> list1 = DoubleStream.generate(normal::sampleNext).limit(10).boxed().collect(Collectors.toList());\n",
    "Var copy2 = VarDouble.copy(list1);\n",
    "\n",
    "// numeric variable with values copied from a double array\n",
    "Var copy3 = VarDouble.copy(1, 3, 4.0, 7);\n",
    "\n",
    "// numeric variable with values copied from an int array\n",
    "Var copy4 = VarDouble.copy(1, 3, 4, 7);\n",
    "\n",
    "// numeric variables with values generated as the sqrt of the row number\n",
    "Var from1 = VarDouble.from(10, Math::sqrt);\n",
    "\n",
    "// numeric variable with values generated using a function which receives a row value\n",
    "// as parameter and outputs a double value; in this case we generate values as\n",
    "// a sum of the values of other two variables\n",
    "Var from2 = VarDouble.from(4, row -> copy3.getDouble(row) + copy4.getDouble(row));\n",
    "\n",
    "// numeric variable with values generated from values of another variable using\n",
    "// a transformation provided via a lambda function\n",
    "Var from3 = VarDouble.from(from1, x -> x + 1);"
   ]
  },
  {
   "cell_type": "markdown",
   "metadata": {},
   "source": [
    "**Wrapper around a double array**\n",
    "This builder creates a new numeric variable instance as a wrapper around a double array of values. Notice that it is not the same as the copy builder, since in the wrapper case any change in the new numerical variable is reflected also in the original array of numbers. In the case of the copy builder this is not true, since the copy builder \\(as its name implies\\) creates an internal copy of the array.\n"
   ]
  },
  {
   "cell_type": "code",
   "execution_count": 3,
   "metadata": {
    "tags": []
   },
   "outputs": [
    {
     "name": "stdout",
     "output_type": "stream",
     "text": [
      "VarDouble [name:\"?\", rowCount:4, values: 1.0, 4.0, 9.0, 16.0]VarDouble [name:\"?\", rowCount:4, values: 1.0, 4.0, 17.0, 16.0]"
     ]
    }
   ],
   "source": [
    "double[] array = DoubleArrays.newFrom(1, 5, x -> x*x);\n",
    "Var wrap1 = VarDouble.wrap(array);\n",
    "\n",
    "wrap1.printString();\n",
    "array[2] = 17;\n",
    "wrap1.printString();"
   ]
  },
  {
   "cell_type": "markdown",
   "metadata": {},
   "source": [
    "#### Printing variables"
   ]
  },
  {
   "cell_type": "markdown",
   "metadata": {},
   "source": [
    "Most of the objects which contains information implements the `Printable` interface. This interface allows one to display a summary of the content of the given object. This is the case also with the numerical variables. Additionally, the numerical variables implements also two other methods, one which displays all the values and another one which displays only the first values."
   ]
  },
  {
   "cell_type": "code",
   "execution_count": 9,
   "metadata": {
    "tags": []
   },
   "outputs": [
    {
     "name": "stdout",
     "output_type": "stream",
     "text": [
      "VarDouble [name:\"x\", rowCount:200, values: 0.0, 1.0, 1.4142135623730951, 1.7320508075688772, 2.0, 2.23606797749979, 2.449489742783178, 2.6457513110645907, 2.8284271247461903, 3.0, ..., 14.071247279470288, 14.106735979665885]VarDouble [name:\"x\", rowCount:200]\n",
      " row         value         row         value         row         value        \n",
      "  [0]  0                   [34]  5.830951894845301   [68]  8.246211251235321  \n",
      "  [1]  1                   [35]  5.916079783099616   [69]  8.306623862918075  \n",
      "  [2]  1.4142135623730951  [36]  6                   [70]  8.366600265340756  \n",
      "  [3]  1.7320508075688772  [37]  6.082762530298219   [71]  8.426149773176359  \n",
      "  [4]  2                   [38]  6.164414002968976   [72]  8.48528137423857   \n",
      "  [5]  2.23606797749979    [39]  6.244997998398398   [73]  8.54400374531753   \n",
      "  [6]  2.449489742783178   [40]  6.324555320336759   [74]  8.602325267042627  \n",
      "  [7]  2.6457513110645907  [41]  6.4031242374328485  [75]  8.660254037844387  \n",
      "  [8]  2.8284271247461903  [42]  6.48074069840786    [76]  8.717797887081348  \n",
      "  [9]  3                   [43]  6.557438524302      [77]  8.774964387392123  \n",
      " [10]  3.1622776601683795  [44]  6.6332495807108     [78]  8.831760866327848  \n",
      " [11]  3.3166247903554     [45]  6.708203932499369   ...          ...         \n",
      " [12]  3.4641016151377544  [46]  6.782329983125268  [180] 13.416407864998739  \n",
      " [13]  3.605551275463989   [47]  6.855654600401044  [181] 13.45362404707371   \n",
      " [14]  3.7416573867739413  [48]  6.928203230275509  [182] 13.490737563232042  \n",
      " [15]  3.872983346207417   [49]  7                  [183] 13.527749258468683  \n",
      " [16]  4                   [50]  7.0710678118654755 [184] 13.564659966250536  \n",
      " [17]  4.123105625617661   [51]  7.14142842854285   [185] 13.601470508735444  \n",
      " [18]  4.242640687119285   [52]  7.211102550927978  [186] 13.638181696985855  \n",
      " [19]  4.358898943540674   [53]  7.280109889280518  [187] 13.674794331177344  \n",
      " [20]  4.47213595499958    [54]  7.3484692283495345 [188] 13.711309200802088  \n",
      " [21]  4.58257569495584    [55]  7.416198487095663  [189] 13.74772708486752   \n",
      " [22]  4.69041575982343    [56]  7.483314773547883  [190] 13.784048752090222  \n",
      " [23]  4.795831523312719   [57]  7.54983443527075   [191] 13.820274961085254  \n",
      " [24]  4.898979485566356   [58]  7.615773105863909  [192] 13.856406460551018  \n",
      " [25]  5                   [59]  7.681145747868608  [193] 13.892443989449804  \n",
      " [26]  5.0990195135927845  [60]  7.745966692414834  [194] 13.92838827718412   \n",
      " [27]  5.196152422706632   [61]  7.810249675906654  [195] 13.96424004376894   \n",
      " [28]  5.291502622129181   [62]  7.874007874011811  [196] 14                  \n",
      " [29]  5.385164807134504   [63]  7.937253933193772  [197] 14.035668847618199  \n",
      " [30]  5.477225575051661   [64]  8                  [198] 14.071247279470288  \n",
      " [31]  5.5677643628300215  [65]  8.06225774829855   [199] 14.106735979665885  \n",
      " [32]  5.656854249492381   [66]  8.12403840463596                             \n",
      " [33]  5.744562646538029   [67]  8.18535277187245   \n",
      "VarDouble [name:\"x\", rowCount:200]\n",
      " row         value         row         value         row         value        \n",
      "  [0]  0                   [67]  8.18535277187245   [134] 11.575836902790225  \n",
      "  [1]  1                   [68]  8.246211251235321  [135] 11.61895003862225   \n",
      "  [2]  1.4142135623730951  [69]  8.306623862918075  [136] 11.661903789690601  \n",
      "  [3]  1.7320508075688772  [70]  8.366600265340756  [137] 11.704699910719626  \n",
      "  [4]  2                   [71]  8.426149773176359  [138] 11.74734012447073   \n",
      "  [5]  2.23606797749979    [72]  8.48528137423857   [139] 11.789826122551595  \n",
      "  [6]  2.449489742783178   [73]  8.54400374531753   [140] 11.832159566199232  \n",
      "  [7]  2.6457513110645907  [74]  8.602325267042627  [141] 11.874342087037917  \n",
      "  [8]  2.8284271247461903  [75]  8.660254037844387  [142] 11.916375287812984  \n",
      "  [9]  3                   [76]  8.717797887081348  [143] 11.958260743101398  \n",
      " [10]  3.1622776601683795  [77]  8.774964387392123  [144] 12                  \n",
      " [11]  3.3166247903554     [78]  8.831760866327848  [145] 12.041594578792296  \n",
      " [12]  3.4641016151377544  [79]  8.888194417315589  [146] 12.083045973594572  \n",
      " [13]  3.605551275463989   [80]  8.94427190999916   [147] 12.12435565298214   \n",
      " [14]  3.7416573867739413  [81]  9                  [148] 12.165525060596439  \n",
      " [15]  3.872983346207417   [82]  9.055385138137417  [149] 12.206555615733702  \n",
      " [16]  4                   [83]  9.1104335791443    [150] 12.24744871391589   \n",
      " [17]  4.123105625617661   [84]  9.16515138991168   [151] 12.288205727444508  \n",
      " [18]  4.242640687119285   [85]  9.219544457292887  [152] 12.328828005937952  \n",
      " [19]  4.358898943540674   [86]  9.273618495495704  [153] 12.36931687685298   \n",
      " [20]  4.47213595499958    [87]  9.327379053088816  [154] 12.409673645990857  \n",
      " [21]  4.58257569495584    [88]  9.38083151964686   [155] 12.449899597988733  \n",
      " [22]  4.69041575982343    [89]  9.433981132056603  [156] 12.489995996796797  \n",
      " [23]  4.795831523312719   [90]  9.486832980505138  [157] 12.529964086141668  \n",
      " [24]  4.898979485566356   [91]  9.539392014169456  [158] 12.569805089976535  \n",
      " [25]  5                   [92]  9.591663046625438  [159] 12.609520212918492  \n",
      " [26]  5.0990195135927845  [93]  9.643650760992955  [160] 12.649110640673518  \n",
      " [27]  5.196152422706632   [94]  9.695359714832659  [161] 12.68857754044952   \n",
      " [28]  5.291502622129181   [95]  9.746794344808963  [162] 12.727922061357855  \n",
      " [29]  5.385164807134504   [96]  9.797958971132712  [163] 12.767145334803704  \n",
      " [30]  5.477225575051661   [97]  9.848857801796104  [164] 12.806248474865697  \n",
      " [31]  5.5677643628300215  [98]  9.899494936611665  [165] 12.84523257866513   \n",
      " [32]  5.656854249492381   [99]  9.9498743710662    [166] 12.884098726725126  \n",
      " [33]  5.744562646538029  [100] 10                  [167] 12.922847983320086  \n",
      " [34]  5.830951894845301  [101] 10.04987562112089   [168] 12.96148139681572   \n",
      " [35]  5.916079783099616  [102] 10.099504938362077  [169] 13                  \n",
      " [36]  6                  [103] 10.14889156509222   [170] 13.038404810405298  \n",
      " [37]  6.082762530298219  [104] 10.198039027185569  [171] 13.076696830622021  \n",
      " [38]  6.164414002968976  [105] 10.246950765959598  [172] 13.114877048604     \n",
      " [39]  6.244997998398398  [106] 10.295630140987     [173] 13.152946437965905  \n",
      " [40]  6.324555320336759  [107] 10.344080432788601  [174] 13.19090595827292   \n",
      " [41]  6.4031242374328485 [108] 10.392304845413264  [175] 13.228756555322953  \n",
      " [42]  6.48074069840786   [109] 10.44030650891055   [176] 13.2664991614216    \n",
      " [43]  6.557438524302     [110] 10.488088481701515  [177] 13.30413469565007   \n",
      " [44]  6.6332495807108    [111] 10.535653752852738  [178] 13.341664064126334  \n",
      " [45]  6.708203932499369  [112] 10.583005244258363  [179] 13.379088160259652  \n",
      " [46]  6.782329983125268  [113] 10.63014581273465   [180] 13.416407864998739  \n",
      " [47]  6.855654600401044  [114] 10.677078252031311  [181] 13.45362404707371   \n",
      " [48]  6.928203230275509  [115] 10.723805294763608  [182] 13.490737563232042  \n",
      " [49]  7                  [116] 10.770329614269007  [183] 13.527749258468683  \n",
      " [50]  7.0710678118654755 [117] 10.816653826391969  [184] 13.564659966250536  \n",
      " [51]  7.14142842854285   [118] 10.862780491200215  [185] 13.601470508735444  \n",
      " [52]  7.211102550927978  [119] 10.908712114635714  [186] 13.638181696985855  \n",
      " [53]  7.280109889280518  [120] 10.954451150103322  [187] 13.674794331177344  \n",
      " [54]  7.3484692283495345 [121] 11                  [188] 13.711309200802088  \n",
      " [55]  7.416198487095663  [122] 11.045361017187261  [189] 13.74772708486752   \n",
      " [56]  7.483314773547883  [123] 11.090536506409418  [190] 13.784048752090222  \n",
      " [57]  7.54983443527075   [124] 11.135528725660043  [191] 13.820274961085254  \n",
      " [58]  7.615773105863909  [125] 11.180339887498949  [192] 13.856406460551018  \n",
      " [59]  7.681145747868608  [126] 11.224972160321824  [193] 13.892443989449804  \n",
      " [60]  7.745966692414834  [127] 11.269427669584644  [194] 13.92838827718412   \n",
      " [61]  7.810249675906654  [128] 11.313708498984761  [195] 13.96424004376894   \n",
      " [62]  7.874007874011811  [129] 11.357816691600547  [196] 14                  \n",
      " [63]  7.937253933193772  [130] 11.40175425099138   [197] 14.035668847618199  \n",
      " [64]  8                  [131] 11.445523142259598  [198] 14.071247279470288  \n",
      " [65]  8.06225774829855   [132] 11.489125293076057  [199] 14.106735979665885  \n",
      " [66]  8.12403840463596   [133] 11.532562594670797  \n",
      "> summary(name: x, type: DOUBLE)\n",
      "rows: 200, complete: 200, missing: 0\n",
      "        x [dbl]      \n",
      "   Min. :  0.0000000 \n",
      "1st Qu. :  7.0533009 \n",
      " Median :  9.9749372 \n",
      "   Mean :  9.3917104 \n",
      "2nd Qu. : 12.2167789 \n",
      "   Max. : 14.1067360 \n",
      "                     \n",
      "\n"
     ]
    }
   ],
   "source": [
    "// build a numerical variable with values as the sqrt\n",
    "// of the first 200 integer values\n",
    "Var x = VarDouble.from(200, Math::sqrt).name(\"x\");\n",
    "\n",
    "// prints the text produced by toString \n",
    "x.printString();\n",
    "\n",
    "// print a reasonable part of value\n",
    "x.printContent();\n",
    "\n",
    "// print all values of the variable\n",
    "x.printFullContent();\n",
    "\n",
    "// print a summary of the content of the variable\n",
    "x.printSummary();"
   ]
  },
  {
   "cell_type": "code",
   "execution_count": 10,
   "metadata": {
    "tags": []
   },
   "outputs": [
    {
     "data": {
      "image/png": "[encoded data removed]"
     },
     "execution_count": 10,
     "metadata": {},
     "output_type": "execute_result"
    }
   ],
   "source": [
    "WS.image(points(x, VarDouble.from(x.size(), () -> Normal.std().sampleNext()), fill(1), pch.circleFull()), 600, 300);"
   ]
  },
  {
   "cell_type": "markdown",
   "metadata": {},
   "source": [
    "#### Accessing tensor operations through tensor_() and tensor()\n",
    "One can leverage the tensor operations to be applied over variables. For that purpose there are two methods: `tensor_` and `tensor`. \n",
    "`tensor_` builds a tensor which uses as data storage wrapper directly over the variable. \n",
    "In this way one can operate directly on the values of the variable using tensor operations. \n",
    "The tensor type is given as parameter, while the method without parameter returns a `Tensor<Double>` instance.\n",
    "\n",
    "If a copy tensor is desired, than the methods without underscore should be called instead. The new tensors will contain a copy of the data and no operations on them, including in place, will affect the original `Var` object."
   ]
  },
  {
   "cell_type": "code",
   "execution_count": 11,
   "metadata": {
    "tags": []
   },
   "outputs": [
    {
     "data": {
      "text/plain": [
       "1878.3420754046183"
      ]
     },
     "execution_count": 11,
     "metadata": {},
     "output_type": "execute_result"
    }
   ],
   "source": [
    "// computes the sum of all values in variable\n",
    "x.darray_().nanSum();"
   ]
  },
  {
   "cell_type": "code",
   "execution_count": 12,
   "metadata": {
    "tags": []
   },
   "outputs": [
    {
     "name": "stdout",
     "output_type": "stream",
     "text": [
      "[ 0.6123724356957945 1.1726039399558574 1.337614878196671 1.4515683957598682 1.541103500742244 1.6158799390733798 1.6806218321749773 1.7380308717236845 1.7898120361496597 1.8371173070873836 1.8807651794331954 1.9213601407220355 1.9593625532651568 1.9951318942526053 2.0289547522736777 2.061063644385446 2.091650066335189 2.120873788233911 2.1488696300891044 2.175752500524973 ... ] \n"
     ]
    }
   ],
   "source": [
    "// apply a lambda function on a copy of the varialble\n",
    "x.darray().apply(v -> Math.sqrt(v + 3./8)).printContent()"
   ]
  },
  {
   "cell_type": "code",
   "execution_count": 14,
   "metadata": {
    "tags": []
   },
   "outputs": [
    {
     "data": {
      "text/plain": [
       "BaseStride{DOUBLE,[200],0,[1]}\n",
       "[ 2.718281828459045 3.718281828459045 4.1324953908321405 4.450332636027922 4.718281828459045 4.9543498059588345 5.167771571242223 5.364033139523636 5.546708953205235 5.718281828459045 5.880559488627425 6.0349066188144445 6.1823834435968 6.323833103923034 6.459939215232986 6.591265174666463 6.718281828459045 6.841387454076706 6.96092251557833 7.0771807719997195 ... ] \n"
      ]
     },
     "execution_count": 14,
     "metadata": {},
     "output_type": "execute_result"
    }
   ],
   "source": [
    "// add a constant to all values of a copy\n",
    "x.darray().add(Math.E);"
   ]
  },
  {
   "cell_type": "code",
   "execution_count": 16,
   "metadata": {
    "tags": []
   },
   "outputs": [
    {
     "name": "stdout",
     "output_type": "stream",
     "text": [
      "VarDouble [name:\"x\", rowCount:200]\n",
      " row         value         row         value         row         value        \n",
      "  [0]  0                   [34]  5.830951894845301   [68]  8.246211251235321  \n",
      "  [1]  1                   [35]  5.916079783099616   [69]  8.306623862918075  \n",
      "  [2]  1.4142135623730951  [36]  6                   [70]  8.366600265340756  \n",
      "  [3]  1.7320508075688772  [37]  6.082762530298219   [71]  8.426149773176359  \n",
      "  [4]  2                   [38]  6.164414002968976   [72]  8.48528137423857   \n",
      "  [5]  2.23606797749979    [39]  6.244997998398398   [73]  8.54400374531753   \n",
      "  [6]  2.449489742783178   [40]  6.324555320336759   [74]  8.602325267042627  \n",
      "  [7]  2.6457513110645907  [41]  6.4031242374328485  [75]  8.660254037844387  \n",
      "  [8]  2.8284271247461903  [42]  6.48074069840786    [76]  8.717797887081348  \n",
      "  [9]  3                   [43]  6.557438524302      [77]  8.774964387392123  \n",
      " [10]  3.1622776601683795  [44]  6.6332495807108     [78]  8.831760866327848  \n",
      " [11]  3.3166247903554     [45]  6.708203932499369   ...          ...         \n",
      " [12]  3.4641016151377544  [46]  6.782329983125268  [180] 13.416407864998739  \n",
      " [13]  3.605551275463989   [47]  6.855654600401044  [181] 13.45362404707371   \n",
      " [14]  3.7416573867739413  [48]  6.928203230275509  [182] 13.490737563232042  \n",
      " [15]  3.872983346207417   [49]  7                  [183] 13.527749258468683  \n",
      " [16]  4                   [50]  7.0710678118654755 [184] 13.564659966250536  \n",
      " [17]  4.123105625617661   [51]  7.14142842854285   [185] 13.601470508735444  \n",
      " [18]  4.242640687119285   [52]  7.211102550927978  [186] 13.638181696985855  \n",
      " [19]  4.358898943540674   [53]  7.280109889280518  [187] 13.674794331177344  \n",
      " [20]  4.47213595499958    [54]  7.3484692283495345 [188] 13.711309200802088  \n",
      " [21]  4.58257569495584    [55]  7.416198487095663  [189] 13.74772708486752   \n",
      " [22]  4.69041575982343    [56]  7.483314773547883  [190] 13.784048752090222  \n",
      " [23]  4.795831523312719   [57]  7.54983443527075   [191] 13.820274961085254  \n",
      " [24]  4.898979485566356   [58]  7.615773105863909  [192] 13.856406460551018  \n",
      " [25]  5                   [59]  7.681145747868608  [193] 13.892443989449804  \n",
      " [26]  5.0990195135927845  [60]  7.745966692414834  [194] 13.92838827718412   \n",
      " [27]  5.196152422706632   [61]  7.810249675906654  [195] 13.96424004376894   \n",
      " [28]  5.291502622129181   [62]  7.874007874011811  [196] 14                  \n",
      " [29]  5.385164807134504   [63]  7.937253933193772  [197] 14.035668847618199  \n",
      " [30]  5.477225575051661   [64]  8                  [198] 14.071247279470288  \n",
      " [31]  5.5677643628300215  [65]  8.06225774829855   [199] 14.106735979665885  \n",
      " [32]  5.656854249492381   [66]  8.12403840463596                             \n",
      " [33]  5.744562646538029   [67]  8.18535277187245   \n",
      "VarDouble [name:\"x\", rowCount:200]\n",
      " row         value         row         value         row         value        \n",
      "  [0]   0                  [34]  58.309518948453004  [68]  82.46211251235322  \n",
      "  [1]  10                  [35]  59.16079783099616   [69]  83.06623862918075  \n",
      "  [2]  14.142135623730951  [36]  60                  [70]  83.66600265340756  \n",
      "  [3]  17.32050807568877   [37]  60.82762530298219   [71]  84.2614977317636   \n",
      "  [4]  20                  [38]  61.64414002968976   [72]  84.85281374238569  \n",
      "  [5]  22.360679774997898  [39]  62.44997998398398   [73]  85.44003745317531  \n",
      "  [6]  24.49489742783178   [40]  63.24555320336759   [74]  86.02325267042627  \n",
      "  [7]  26.457513110645905  [41]  64.03124237432849   [75]  86.60254037844388  \n",
      "  [8]  28.284271247461902  [42]  64.8074069840786    [76]  87.17797887081348  \n",
      "  [9]  30                  [43]  65.57438524302      [77]  87.74964387392123  \n",
      " [10]  31.622776601683796  [44]  66.33249580710799   [78]  88.31760866327848  \n",
      " [11]  33.166247903553995  [45]  67.0820393249937    ...          ...         \n",
      " [12]  34.64101615137754   [46]  67.82329983125268  [180] 134.1640786499874   \n",
      " [13]  36.05551275463989   [47]  68.55654600401044  [181] 134.53624047073708  \n",
      " [14]  37.416573867739416  [48]  69.28203230275508  [182] 134.90737563232042  \n",
      " [15]  38.72983346207417   [49]  70                 [183] 135.27749258468683  \n",
      " [16]  40                  [50]  70.71067811865476  [184] 135.64659966250537  \n",
      " [17]  41.23105625617661   [51]  71.41428428542851  [185] 136.01470508735443  \n",
      " [18]  42.426406871192846  [52]  72.11102550927978  [186] 136.38181696985856  \n",
      " [19]  43.58898943540674   [53]  72.80109889280519  [187] 136.74794331177344  \n",
      " [20]  44.721359549995796  [54]  73.48469228349535  [188] 137.11309200802089  \n",
      " [21]  45.8257569495584    [55]  74.16198487095663  [189] 137.4772708486752   \n",
      " [22]  46.9041575982343    [56]  74.83314773547883  [190] 137.84048752090223  \n",
      " [23]  47.958315233127195  [57]  75.4983443527075   [191] 138.20274961085255  \n",
      " [24]  48.98979485566356   [58]  76.15773105863909  [192] 138.56406460551017  \n",
      " [25]  50                  [59]  76.81145747868608  [193] 138.92443989449805  \n",
      " [26]  50.99019513592785   [60]  77.45966692414834  [194] 139.2838827718412   \n",
      " [27]  51.96152422706632   [61]  78.10249675906654  [195] 139.64240043768942  \n",
      " [28]  52.91502622129181   [62]  78.74007874011811  [196] 140                 \n",
      " [29]  53.85164807134504   [63]  79.37253933193772  [197] 140.356688476182    \n",
      " [30]  54.772255750516614  [64]  80                 [198] 140.71247279470288  \n",
      " [31]  55.67764362830022   [65]  80.62257748298549  [199] 141.06735979665885  \n",
      " [32]  56.568542494923804  [66]  81.24038404635961                            \n",
      " [33]  57.445626465380286  [67]  81.85352771872451  \n"
     ]
    }
   ],
   "source": [
    "// Modify the values of a variable through tensor API\n",
    "x.printContent();\n",
    "x.darray_().mul_(10.);\n",
    "x.printContent();"
   ]
  },
  {
   "cell_type": "markdown",
   "metadata": {},
   "source": [
    "## Nominal variables"
   ]
  },
  {
   "cell_type": "markdown",
   "metadata": {},
   "source": [
    "Nominal variables are defined by`VarNominal`and contains string valued categories. Nominal variables offers integer and label representations. The label representation describes the categories as labels or texts, while integer representation is an integer indexe on categories. The index representation does not imply an order between categories/labels. "
   ]
  },
  {
   "cell_type": "markdown",
   "metadata": {},
   "source": [
    "### Various builders"
   ]
  },
  {
   "cell_type": "markdown",
   "metadata": {},
   "source": [
    "Nominal variables can be built in various was and are handy shortcuts for various scenarios."
   ]
  },
  {
   "cell_type": "code",
   "execution_count": 17,
   "metadata": {
    "tags": []
   },
   "outputs": [
    {
     "data": {
      "text/plain": [
       "[a, b]"
      ]
     },
     "execution_count": 17,
     "metadata": {},
     "output_type": "execute_result"
    }
   ],
   "source": [
    "// creates an empty nominal variable with provided levels\n",
    "var nom1 = VarNominal.empty(10, \"a\", \"b\");\n",
    "// note the first label which is a placeholder for missing values\n",
    "nom1.levels();"
   ]
  },
  {
   "cell_type": "code",
   "execution_count": 18,
   "metadata": {
    "tags": []
   },
   "outputs": [
    {
     "name": "stdout",
     "output_type": "stream",
     "text": [
      "VarNominal [name:\"?\", rowCount:10, values: even, odd, even, odd, even, odd, even, odd, even, odd]"
     ]
    }
   ],
   "source": [
    "VarNominal.from(10, row -> row % 2 == 0 ? \"even\" : \"odd\").printString();"
   ]
  },
  {
   "cell_type": "code",
   "execution_count": 19,
   "metadata": {
    "tags": []
   },
   "outputs": [
    {
     "name": "stdout",
     "output_type": "stream",
     "text": [
      "VarNominal [name:\"?\", rowCount:4]\n",
      "row value \n",
      "[0]   a   \n",
      "[1]   b   \n",
      "[2]   c   \n",
      "[3]   b   \n"
     ]
    }
   ],
   "source": [
    "VarNominal.copy(\"a\", \"b\", \"c\", \"b\").printContent()"
   ]
  },
  {
   "cell_type": "code",
   "execution_count": 20,
   "metadata": {
    "tags": []
   },
   "outputs": [
    {
     "data": {
      "text/plain": [
       "UniqueLabel{count=3, values=[a:1,b:2,c:1]}"
      ]
     },
     "execution_count": 20,
     "metadata": {},
     "output_type": "execute_result"
    }
   ],
   "source": [
    "Unique.of(VarNominal.copy(\"a\",\"b\",\"c\",\"b\"))"
   ]
  },
  {
   "cell_type": "markdown",
   "metadata": {},
   "source": [
    "## Overview of variable types"
   ]
  },
  {
   "cell_type": "markdown",
   "metadata": {},
   "source": [
    "All variables implements a common API making easy the manipulation of it's content in a generic way. However, depending on type, some variables might not implement some operations or rely back on specific implementations which makes sense for that variable type. For example, for a numeric variable it makes sense to set the value at some specific index in order to change it. For nominal variables, the same operation would not make sense. Instead of the meaning 'change numerical value at some given position' will have the following semantic 'change the string value to that category associated with the rounded integer value of the double parameter'. Let's see an example:  "
   ]
  },
  {
   "cell_type": "code",
   "execution_count": 22,
   "metadata": {
    "tags": []
   },
   "outputs": [
    {
     "name": "stdout",
     "output_type": "stream",
     "text": [
      "VarNominal [name:\"?\", rowCount:2, values: a, b]VarNominal [name:\"?\", rowCount:2, values: b, b]"
     ]
    }
   ],
   "source": [
    "// we create a nominal value with label `a` of first position and label `b` on the second position\n",
    "var nom = VarNominal.copy(\"a\", \"b\");\n",
    "nom.printString();\n",
    "\n",
    "// set the value from the first position to the label which corresponds to indexed label 2, which is `b`\n",
    "nom.setDouble(0, 1.1);\n",
    "// let's see the result\n",
    "nom.printString();"
   ]
  },
  {
   "cell_type": "markdown",
   "metadata": {},
   "source": [
    "### Missing values"
   ]
  },
  {
   "cell_type": "markdown",
   "metadata": {},
   "source": [
    "All variables offers API for missing values. A missing value is a special value which is used as placeholder for an unspecified value. We can have missing values for various reasons. There are cases when the data set does not contains some values because the experimenter did not collect it. Sometimes having a value does not make sense, for example a male cannot be pregnant, so measuring any metric related with pregnancy have missing value for male subjects. Also, missing values can appear as an effect of data manipulation operations, like joining two data frames which does not present a one-to-one presence relation.\n",
    "\n",
    "Missing values are different for each representation, which makes sense since a double value have a different type than a String. "
   ]
  },
  {
   "cell_type": "code",
   "execution_count": 23,
   "metadata": {
    "tags": []
   },
   "outputs": [
    {
     "name": "stdout",
     "output_type": "stream",
     "text": [
      "NaN\n",
      "?\n",
      "2.147483647E9\n"
     ]
    }
   ],
   "source": [
    "WS.println(VarDouble.MISSING_VALUE);\n",
    "WS.println(VarNominal.MISSING_VALUE);\n",
    "WS.println(VarInt.MISSING_VALUE);"
   ]
  },
  {
   "cell_type": "markdown",
   "metadata": {},
   "source": [
    "Most of time we do not have to deals directly with the missing value placeholders, since `Var` and `Frame` interfaces offers a way to handle gracefully missing value operations. Below is an illustrative example:"
   ]
  },
  {
   "cell_type": "code",
   "execution_count": 24,
   "metadata": {
    "tags": []
   },
   "outputs": [
    {
     "name": "stdout",
     "output_type": "stream",
     "text": [
      "VarDouble [name:\"x\", rowCount:11, values: 0.0, 1.0, 2.0, 3.0, 4.0, 5.0, 6.0, 7.0, 8.0, 9.0, 10.0]"
     ]
    }
   ],
   "source": [
    "var x = VarDouble.seq(10).name(\"x\");\n",
    "x.printString();"
   ]
  },
  {
   "cell_type": "code",
   "execution_count": 25,
   "metadata": {
    "tags": []
   },
   "outputs": [
    {
     "name": "stdout",
     "output_type": "stream",
     "text": [
      "VarDouble [name:\"x\", rowCount:11, values: 0.0, 1.0, ?, 3.0, ?, 5.0, ?, 7.0, 8.0, 9.0, 10.0]"
     ]
    }
   ],
   "source": [
    "// put missing on values from indexes 2,4 and 6\n",
    "x.setMissing(2);\n",
    "x.setMissing(4);\n",
    "x.setMissing(6);\n",
    "x.printString();"
   ]
  },
  {
   "cell_type": "code",
   "execution_count": 26,
   "metadata": {
    "tags": []
   },
   "outputs": [
    {
     "data": {
      "text/plain": [
       "8"
      ]
     },
     "execution_count": 26,
     "metadata": {},
     "output_type": "execute_result"
    }
   ],
   "source": [
    "// count the number of non missing values\n",
    "x.stream().complete().count();"
   ]
  },
  {
   "cell_type": "code",
   "execution_count": 27,
   "metadata": {
    "tags": []
   },
   "outputs": [
    {
     "data": {
      "text/plain": [
       "43.0"
      ]
     },
     "execution_count": 27,
     "metadata": {},
     "output_type": "execute_result"
    }
   ],
   "source": [
    "// compute the sum of all non missing values\n",
    "x.darray_().nanSum();"
   ]
  },
  {
   "cell_type": "markdown",
   "metadata": {},
   "source": [
    "### Var Iterators"
   ]
  },
  {
   "cell_type": "markdown",
   "metadata": {},
   "source": [
    "Each `Var` allows easy data manipulation through iterators. There is a generic construct available for each variable implementation which under the form of `VSpot`. In the terminology used in `rapaio` a spot is a position in a variable which can contain a value. Since that value can have different reporesentation, the `VSpot` interface is used to manipulate what happen in a given position. Additionally there are various iterators which can be used for other data representations. The example below are illustrative:"
   ]
  },
  {
   "cell_type": "code",
   "execution_count": 28,
   "metadata": {
    "tags": []
   },
   "outputs": [],
   "source": [
    "var d = VarDouble.seq(3).name(\"d\");"
   ]
  },
  {
   "cell_type": "code",
   "execution_count": 29,
   "metadata": {
    "tags": []
   },
   "outputs": [
    {
     "name": "stdout",
     "output_type": "stream",
     "text": [
      "0.0\n",
      "1.0\n",
      "2.0\n",
      "3.0\n"
     ]
    }
   ],
   "source": [
    "// iterate through double values, we can do this because we have the specific type VarDouble\n",
    "for(double value : d) WS.println(value)"
   ]
  },
  {
   "cell_type": "code",
   "execution_count": 30,
   "metadata": {
    "tags": []
   },
   "outputs": [
    {
     "name": "stdout",
     "output_type": "stream",
     "text": [
      "0.0\n",
      "1.0\n",
      "2.0\n",
      "3.0\n"
     ]
    }
   ],
   "source": [
    "// for each spot print the string representation\n",
    "d.forEachSpot(s -> WS.println(s.getLabel()))"
   ]
  },
  {
   "cell_type": "code",
   "execution_count": 31,
   "metadata": {
    "tags": []
   },
   "outputs": [
    {
     "name": "stdout",
     "output_type": "stream",
     "text": [
      "6.0\n",
      "6.0\n"
     ]
    }
   ],
   "source": [
    "// compute the sum using spot iterator and streaming API\n",
    "WS.println(d.stream().mapToDouble(VSpot::getDouble).sum());\n",
    "WS.println(d.darray_().nanSum());"
   ]
  },
  {
   "cell_type": "code",
   "execution_count": 32,
   "metadata": {
    "tags": []
   },
   "outputs": [
    {
     "name": "stdout",
     "output_type": "stream",
     "text": [
      "VarInt [name:\"?\", rowCount:3, values: 0, 2, 4]"
     ]
    }
   ],
   "source": [
    "// display the row indexes of all values which are missing\n",
    "var y = VarDouble.copy(1, Double.NaN, 2, Double.NaN, 3);\n",
    "// collect indexes to an int array\n",
    "int[] indexes = y.stream().filter(s -> !s.isMissing()).mapToInt(s -> s.row()).toArray();\n",
    "// create a var int wrapper to see the content\n",
    "VarInt.wrap(indexes).printString();"
   ]
  },
  {
   "cell_type": "code",
   "execution_count": null,
   "metadata": {},
   "outputs": [],
   "source": []
  }
 ],
 "metadata": {
  "kernelspec": {
   "display_name": "Java (rjk 2.2.0 preview23)",
   "language": "java",
   "name": "rapaio-jupyter-kernel-preview23"
  },
  "language_info": {
   "codemirror_mode": "java",
   "file_extension": ".jshell",
   "mimetype": "text/x-java-source",
   "name": "java",
   "nbconvert_exporter": "script",
   "pygments_lexer": "java",
   "version": "23.0.1+8-FR"
  }
 },
 "nbformat": 4,
 "nbformat_minor": 4
}