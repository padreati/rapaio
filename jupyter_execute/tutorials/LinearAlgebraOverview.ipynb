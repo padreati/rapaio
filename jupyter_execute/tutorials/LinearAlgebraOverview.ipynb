{
 "cells": [
  {
   "cell_type": "markdown",
   "metadata": {},
   "source": [
    "# Linear Algebra Overview"
   ]
  },
  {
   "cell_type": "code",
   "execution_count": 1,
   "metadata": {
    "tags": []
   },
   "outputs": [
    {
     "name": "stdout",
     "output_type": "stream",
     "text": [
      "Adding dependency \u001b[0m\u001b[1m\u001b[32mio.github.padreati:rapaio-lib:7.0.0\n",
      "\u001b[0mSolving dependencies\n",
      "Resolved artifacts count: 4\n",
      "Add to classpath: \u001b[0m\u001b[32m/home/ati/work/rapaio-jupyter-kernel/target/mima_cache/io/github/padreati/rapaio-lib/7.0.0/rapaio-lib-7.0.0.jar\u001b[0m\n",
      "\u001b[0mAdd to classpath: \u001b[0m\u001b[32m/home/ati/work/rapaio-jupyter-kernel/target/mima_cache/io/github/padreati/rapaio-code-gen/7.0.0/rapaio-code-gen-7.0.0.jar\u001b[0m\n",
      "\u001b[0mAdd to classpath: \u001b[0m\u001b[32m/home/ati/work/rapaio-jupyter-kernel/target/mima_cache/org/antlr/ST4/4.3.4/ST4-4.3.4.jar\u001b[0m\n",
      "\u001b[0mAdd to classpath: \u001b[0m\u001b[32m/home/ati/work/rapaio-jupyter-kernel/target/mima_cache/org/antlr/antlr-runtime/3.5.3/antlr-runtime-3.5.3.jar\u001b[0m\n",
      "\u001b[0m"
     ]
    }
   ],
   "source": [
    "%load ../../rapaio-bootstrap.ipynb"
   ]
  },
  {
   "cell_type": "code",
   "execution_count": 2,
   "metadata": {
    "tags": []
   },
   "outputs": [
    {
     "data": {
      "text/plain": [
       "rapaio.printer.standard.StandardPrinter@1d0ceafb"
      ]
     },
     "execution_count": 2,
     "metadata": {},
     "output_type": "execute_result"
    }
   ],
   "source": [
    "WS.getPrinter().withOptions(floatFormat(Format.floatFlexShort()));"
   ]
  },
  {
   "cell_type": "markdown",
   "metadata": {},
   "source": [
    "`Rapaio` library is commited to offer a rich set of tools for manipulating linear algebra objects and structures. \n",
    "Since 7.0.0 version, DArrays are available which replaced the older custom implementations. DArrays are n-dimensional arrays which stores data elements of the same type indexed by dimensions.\n",
    "Current implementation offers only stride dense vector arrays, but the design allows future implementations like sparse arrays.\n",
    "\n",
    "DArrays offers many operations, besides standard manipulation data tools, there are implemented also some non trivial operations and also matrix decompositions and linear solvers. There are implementations for four numerical data types: `byte`, `int`, `float` and `double`. "
   ]
  },
  {
   "cell_type": "markdown",
   "metadata": {},
   "source": [
    "## Shape of a DArray"
   ]
  },
  {
   "cell_type": "markdown",
   "metadata": {},
   "source": [
    "DArray elements are indexed by dimensions. You can think of a tensor as a hyper cube of data elements with one element in each position from the hypercube. A darray can have 0, 1, 2 or more dimensions. Each dimension have a dimension size. The dimensions and the size of each dimension is described by a `Shape` object.\n",
    "The total number of elements is given by the product of all dimension sizes, or 1 if there is no dimension."
   ]
  },
  {
   "cell_type": "code",
   "execution_count": 3,
   "metadata": {},
   "outputs": [
    {
     "data": {
      "text/plain": [
       "Shape: []"
      ]
     },
     "metadata": {},
     "output_type": "display_data"
    },
    {
     "data": {
      "text/plain": [
       "Shape: [1]"
      ]
     },
     "metadata": {},
     "output_type": "display_data"
    },
    {
     "data": {
      "text/plain": [
       "1"
      ]
     },
     "metadata": {},
     "output_type": "display_data"
    },
    {
     "data": {
      "text/plain": [
       "1"
      ]
     },
     "metadata": {},
     "output_type": "display_data"
    },
    {
     "data": {
      "text/plain": [
       "58d7ffd6-41a3-4d6b-a44e-785cb9ce5626"
      ]
     },
     "execution_count": 3,
     "metadata": {},
     "output_type": "execute_result"
    }
   ],
   "source": [
    "// a shape with no dimensions\n",
    "display(Shape.of());\n",
    "\n",
    "// a shape with 1 dimension / a vector of size 1\n",
    "display(Shape.of(1));\n",
    "\n",
    "// Both shapes are of size 1, but they are different shapes\n",
    "display(Shape.of().size());\n",
    "display(Shape.of(1).size());"
   ]
  },
  {
   "cell_type": "markdown",
   "metadata": {},
   "source": [
    "A darray with no dimensions is a scalar and can be created with:"
   ]
  },
  {
   "cell_type": "code",
   "execution_count": 4,
   "metadata": {},
   "outputs": [],
   "source": [
    "DArrayManager am = DArrayManager.base();"
   ]
  },
  {
   "cell_type": "code",
   "execution_count": 5,
   "metadata": {},
   "outputs": [
    {
     "data": {
      "text/plain": [
       "Shape: []"
      ]
     },
     "metadata": {},
     "output_type": "display_data"
    },
    {
     "data": {
      "text/plain": [
       "BaseStride{DOUBLE,[],0,[]}\n",
       " 1  \n"
      ]
     },
     "metadata": {},
     "output_type": "display_data"
    },
    {
     "data": {
      "text/plain": [
       "0988d4ec-3752-4db7-85ad-dbfe305da14e"
      ]
     },
     "execution_count": 5,
     "metadata": {},
     "output_type": "execute_result"
    }
   ],
   "source": [
    "var scalar = am.scalar(DType.DOUBLE, 1.);\n",
    "display(scalar.shape());\n",
    "display(scalar)"
   ]
  },
  {
   "cell_type": "markdown",
   "metadata": {},
   "source": [
    "A DArray with a single dimension is a vector, with two dimensions it is called a matrix and in general with more than two dimensions it is called a tensor. Some examples:"
   ]
  },
  {
   "cell_type": "code",
   "execution_count": 6,
   "metadata": {
    "tags": []
   },
   "outputs": [
    {
     "name": "stdout",
     "output_type": "stream",
     "text": [
      "[ 0 1 2 3 4 5 6 7 8 9 10 11 12 13 14 15 16 17 18 19 20 21 22 23 24 25 26 27 28 29 30 31 32 33 34 35 36 37 38 39 40 41 42 43 44 45 46 47 48 49 50 51 52 53 54 55 56 57 58 59 60 61 62 63 64 65 66 67 68 69 70 71 72 73 74 75 76 77 78 79 80 81 82 83 84 85 86 87 88 89 90 91 92 93 94 95 96 97 98 99 ] \n"
     ]
    }
   ],
   "source": [
    "am.seq(DType.FLOAT, Shape.of(100)).printFullContent()"
   ]
  },
  {
   "cell_type": "markdown",
   "metadata": {},
   "source": [
    "Tensors can have multiple implemntations. The implementation details of a tensor is governed by a `TensorManager`. Tensor manager describes which storage factory to be used, which implementation of the operations, and various parameters. In order to make things easier, there is a default tensor manager which uses Java arrays and no vectorization. Methods for working with the default tensor manager are exposed by the class `Tensors`, which offers shortcuts. Since the default tensor manager uses Java arrays as data storage, it is possible to wrap an array into a tensor of appropriate type and use tensor operations to change values in the array. For example we will create an array of double values and a wrapper tensor around it. Using tensor methods we can change the values from the array."
   ]
  },
  {
   "cell_type": "code",
   "execution_count": 7,
   "metadata": {},
   "outputs": [
    {
     "name": "stdout",
     "output_type": "stream",
     "text": [
      "0.6931471805599453\n",
      "1.0986122886681096\n",
      "1.3862943611198906\n"
     ]
    }
   ],
   "source": [
    "double[] array = new double[] {1., 2., 3.};\n",
    "// the default tensor manager wraps a double array if we request a Tensor<Double>\n",
    "var t = am.stride(DType.DOUBLE, array);\n",
    "t.log1p_();\n",
    "\n",
    "for(double a : array) {\n",
    "    System.out.println(a);\n",
    "}"
   ]
  },
  {
   "cell_type": "code",
   "execution_count": 8,
   "metadata": {
    "tags": []
   },
   "outputs": [
    {
     "name": "stdout",
     "output_type": "stream",
     "text": [
      "1.0\n",
      "4.0\n",
      "9.0\n",
      "16.0\n"
     ]
    }
   ],
   "source": [
    "// To change the type we can use the longer methods\n",
    "float[] floatArray = new float[] {1.f, 2, 3, 4};\n",
    "var floatTensor = am.stride(DType.FLOAT, floatArray);\n",
    "floatTensor.sqr_();\n",
    "for(float f : floatArray) {\n",
    "    System.out.println(f);\n",
    "}"
   ]
  },
  {
   "cell_type": "code",
   "execution_count": 9,
   "metadata": {},
   "outputs": [
    {
     "name": "stdout",
     "output_type": "stream",
     "text": [
      "1.0\n",
      "4.0\n",
      "9.0\n",
      "16.0\n"
     ]
    }
   ],
   "source": [
    "// using the wrong type will not wrap the array, but will copy the data\n",
    "DArray<Double> doubleArray = am.stride(DType.DOUBLE, floatArray);\n",
    "doubleArray.sqrt_();\n",
    "for(float f : floatArray) {\n",
    "    System.out.println(f);\n",
    "}\n",
    "// we can see that the values remain unchanged"
   ]
  },
  {
   "cell_type": "code",
   "execution_count": 10,
   "metadata": {},
   "outputs": [
    {
     "data": {
      "text/plain": [
       "-0.49948335406718436"
      ]
     },
     "metadata": {},
     "output_type": "display_data"
    },
    {
     "name": "stdout",
     "output_type": "stream",
     "text": [
      "BaseStride{DOUBLE,[3],0,[1]}\n",
      "[ 0.605 0.477 -0.499 ] \n",
      "[[ 1 0 0 ]  \n",
      " [ 0 1 0 ]  \n",
      " [ 0 0 1 ]] \n"
     ]
    }
   ],
   "source": [
    "DArray<Double> m = am.eye(DType.DOUBLE, 3);\n",
    "Random random = new Random(42);\n",
    "DArray<Double> u = am.random(DType.DOUBLE, Shape.of(3), random);\n",
    "display(u.inner(m.selsq(0, 2)));\n",
    "u.printString();\n",
    "m.printContent();"
   ]
  },
  {
   "cell_type": "code",
   "execution_count": 11,
   "metadata": {
    "tags": []
   },
   "outputs": [
    {
     "name": "stdout",
     "output_type": "stream",
     "text": [
      "[[ 1 0 0 ]  \n",
      " [ 0 1 0 ]  \n",
      " [ 0 0 1 ]] \n"
     ]
    },
    {
     "data": {
      "text/plain": [
       "1.0"
      ]
     },
     "execution_count": 11,
     "metadata": {},
     "output_type": "execute_result"
    }
   ],
   "source": [
    "DArray<Double> mtm = m.t_().mm(m);\n",
    "mtm.printContent();\n",
    "mtm.lu().det();"
   ]
  },
  {
   "cell_type": "code",
   "execution_count": 12,
   "metadata": {
    "tags": []
   },
   "outputs": [
    {
     "data": {
      "text/plain": [
       "1.0"
      ]
     },
     "execution_count": 12,
     "metadata": {},
     "output_type": "execute_result"
    }
   ],
   "source": [
    "mtm.svd().singularValues().prod();"
   ]
  },
  {
   "cell_type": "code",
   "execution_count": 13,
   "metadata": {
    "tags": []
   },
   "outputs": [
    {
     "data": {
      "text/plain": [
       "BaseStride{DOUBLE,[3, 3],0,[3, 1]}\n",
       "[[ -1  0  0 ]  \n",
       " [  0 -1  0 ]  \n",
       " [  0  0 -1 ]] \n"
      ]
     },
     "execution_count": 13,
     "metadata": {},
     "output_type": "execute_result"
    }
   ],
   "source": [
    "mtm.qr().q()"
   ]
  },
  {
   "cell_type": "code",
   "execution_count": 14,
   "metadata": {
    "tags": []
   },
   "outputs": [
    {
     "data": {
      "text/plain": [
       "BaseStride{DOUBLE,[3, 3],0,[3, 1]}\n",
       "[[ -1  0  0 ]  \n",
       " [  0 -1  0 ]  \n",
       " [  0  0 -1 ]] \n"
      ]
     },
     "execution_count": 14,
     "metadata": {},
     "output_type": "execute_result"
    }
   ],
   "source": [
    "mtm.qr().r()"
   ]
  },
  {
   "cell_type": "code",
   "execution_count": 15,
   "metadata": {
    "tags": []
   },
   "outputs": [
    {
     "data": {
      "text/plain": [
       "-1.0"
      ]
     },
     "execution_count": 15,
     "metadata": {},
     "output_type": "execute_result"
    }
   ],
   "source": [
    "mtm.qr().r().diag().prod()"
   ]
  },
  {
   "cell_type": "code",
   "execution_count": 16,
   "metadata": {
    "tags": []
   },
   "outputs": [],
   "source": [
    "var x = am.random(DType.DOUBLE, Shape.of(4, 4), random)"
   ]
  },
  {
   "cell_type": "code",
   "execution_count": 17,
   "metadata": {
    "tags": []
   },
   "outputs": [],
   "source": [
    "var y = am.random(DType.DOUBLE, Shape.of(4), random)"
   ]
  },
  {
   "cell_type": "code",
   "execution_count": 18,
   "metadata": {
    "tags": []
   },
   "outputs": [
    {
     "data": {
      "text/plain": [
       "BaseStride{DOUBLE,[4, 4],0,[4, 1]}\n",
       "[[ -0.131  0.29   0.233 -0.068 ]  \n",
       " [ -0.132 -0.062  0.14   0.283 ]  \n",
       " [ -0.035  0.457 -0.052 -0.187 ]  \n",
       " [  0.053 -0.548  0.168 -0.191 ]] \n"
      ]
     },
     "execution_count": 18,
     "metadata": {},
     "output_type": "execute_result"
    }
   ],
   "source": [
    "x.mul(y)"
   ]
  },
  {
   "cell_type": "code",
   "execution_count": 19,
   "metadata": {
    "tags": []
   },
   "outputs": [
    {
     "data": {
      "text/plain": [
       "BaseStride{DOUBLE,[4, 4],0,[4, 1]}\n",
       "[[ -0.131  0.094  0.287 -0.074 ]  \n",
       " [ -0.404 -0.062  0.531  0.95  ]  \n",
       " [ -0.029  0.121 -0.052 -0.166 ]  \n",
       " [  0.048 -0.163  0.19  -0.191 ]] \n"
      ]
     },
     "execution_count": 19,
     "metadata": {},
     "output_type": "execute_result"
    }
   ],
   "source": [
    "x.mul(y.stretch(1)) "
   ]
  },
  {
   "cell_type": "code",
   "execution_count": 20,
   "metadata": {},
   "outputs": [
    {
     "data": {
      "text/plain": [
       "BaseStride{DOUBLE,[4, 4],0,[4, 1]}\n",
       "[[ -0.131  0.29   0.233 -0.068 ]  \n",
       " [ -0.132 -0.062  0.14   0.283 ]  \n",
       " [ -0.035  0.457 -0.052 -0.187 ]  \n",
       " [  0.053 -0.548  0.168 -0.191 ]] \n"
      ]
     },
     "execution_count": 20,
     "metadata": {},
     "output_type": "execute_result"
    }
   ],
   "source": [
    "x.mul(y.stretch(0))"
   ]
  },
  {
   "cell_type": "code",
   "execution_count": null,
   "metadata": {},
   "outputs": [],
   "source": []
  },
  {
   "cell_type": "code",
   "execution_count": 42,
   "metadata": {},
   "outputs": [
    {
     "data": {
      "text/plain": [
       "BaseStride{DOUBLE,[10, 4],0,[4, 1]}\n",
       "[[ -0.901  1.019 -1.34  -1.315 ]  \n",
       " [ -1.143 -0.132 -1.34  -1.315 ]  \n",
       " [ -1.385  0.328 -1.397 -1.315 ]  \n",
       " [ -1.507  0.098 -1.283 -1.315 ]  \n",
       " [ -1.022  1.249 -1.34  -1.315 ]  \n",
       " [ -0.537  1.94  -1.17  -1.052 ]  \n",
       " [ -1.507  0.789 -1.34  -1.184 ]  \n",
       " [ -1.022  0.789 -1.283 -1.315 ]  \n",
       " [ -1.749 -0.362 -1.34  -1.315 ]  \n",
       " [ -1.143  0.098 -1.283 -1.447 ]] \n"
      ]
     },
     "execution_count": 42,
     "metadata": {},
     "output_type": "execute_result"
    }
   ],
   "source": [
    "// load first 4 numeric features of iris dataset into a matrix\n",
    "var x = Datasets.loadIrisDataset().mapVars(VarRange.of(\"0~3\")).darray();\n",
    "// compute mean on row axis\n",
    "var m = x.mean1d(0);\n",
    "// compute sd on row axis\n",
    "var std = x.std1d(0, 0);\n",
    "// create a matrix which is the standardized version of m\n",
    "var s = x.sub(m).div(std);\n",
    "// print first 10 rows of standardized values\n",
    "s.sel(0, IntArrays.newSeq(10))"
   ]
  },
  {
   "cell_type": "code",
   "execution_count": 41,
   "metadata": {},
   "outputs": [
    {
     "data": {
      "text/plain": [
       "BaseStride{DOUBLE,[4],0,[1]}\n",
       "[ -0 0 -0 -0 ] \n"
      ]
     },
     "execution_count": 41,
     "metadata": {},
     "output_type": "execute_result"
    }
   ],
   "source": [
    "s.mean1d(0)"
   ]
  },
  {
   "cell_type": "code",
   "execution_count": 31,
   "metadata": {},
   "outputs": [
    {
     "data": {
      "text/plain": [
       "BaseStride{DOUBLE,[4],0,[1]}\n",
       "[ 0.828 0.436 1.765 0.762 ] \n"
      ]
     },
     "execution_count": 31,
     "metadata": {},
     "output_type": "execute_result"
    }
   ],
   "source": [
    "var std = x.std1d(0, 1);\n",
    "std"
   ]
  },
  {
   "cell_type": "code",
   "execution_count": 32,
   "metadata": {},
   "outputs": [
    {
     "data": {
      "text/plain": [
       "BaseStride{DOUBLE,[150, 4],0,[4, 1]}\n",
       "[[  -0.898  1.016 -1.336 -1.311 ]   \n",
       " [  -1.139 -0.132 -1.336 -1.311 ]   \n",
       " [  -1.381  0.327 -1.392 -1.311 ]   \n",
       " [  -1.501  0.098 -1.279 -1.311 ]   \n",
       " [  -1.018  1.245 -1.336 -1.311 ]   \n",
       " [  -0.535  1.933 -1.166 -1.049 ]   \n",
       " [  -1.501  0.786 -1.336 -1.18  ]   \n",
       " [  -1.018  0.786 -1.279 -1.311 ]   \n",
       " [  -1.743 -0.361 -1.336 -1.311 ]   \n",
       " [  -1.139  0.098 -1.279 -1.442 ]   \n",
       " [  -0.535  1.474 -1.279 -1.311 ]   \n",
       " [  -1.26   0.786 -1.222 -1.311 ]   \n",
       " [  -1.26  -0.132 -1.336 -1.442 ]   \n",
       " [  -1.864 -0.132 -1.506 -1.442 ]   \n",
       " [  -0.052  2.163 -1.449 -1.311 ]   \n",
       " [  -0.173  3.08  -1.279 -1.049 ]   \n",
       " [  -0.535  1.933 -1.392 -1.049 ]   \n",
       " [  -0.898  1.016 -1.336 -1.18  ]   \n",
       " [  -0.173  1.704 -1.166 -1.18  ]   \n",
       " [  -0.898  1.704 -1.279 -1.18  ]   \n",
       " [  -0.535  0.786 -1.166 -1.311 ]   \n",
       " [  -0.898  1.474 -1.279 -1.049 ]   \n",
       " [  -1.501  1.245 -1.562 -1.311 ]   \n",
       " [  -0.898  0.557 -1.166 -0.917 ]   \n",
       " [  -1.26   0.786 -1.053 -1.311 ]   \n",
       " [  -1.018 -0.132 -1.222 -1.311 ]   \n",
       " [  -1.018  0.786 -1.222 -1.049 ]   \n",
       " [  -0.777  1.016 -1.279 -1.311 ]   \n",
       " [  -0.777  0.786 -1.336 -1.311 ]   \n",
       " [  -1.381  0.327 -1.222 -1.311 ]   \n",
       " [  -1.26   0.098 -1.222 -1.311 ]   \n",
       " [  -0.535  0.786 -1.279 -1.049 ]   \n",
       " [  -0.777  2.392 -1.279 -1.442 ]   \n",
       " [  -0.415  2.622 -1.336 -1.311 ]   \n",
       " [  -1.139  0.098 -1.279 -1.311 ]   \n",
       " [  -1.018  0.327 -1.449 -1.311 ]   \n",
       " [  -0.415  1.016 -1.392 -1.311 ]   \n",
       " [  -1.139  1.245 -1.336 -1.442 ]   \n",
       " [  -1.743 -0.132 -1.392 -1.311 ]   \n",
       " [  -0.898  0.786 -1.279 -1.311 ]   \n",
       "...  ...    ...    ...    ...   ... \n"
      ]
     },
     "execution_count": 32,
     "metadata": {},
     "output_type": "execute_result"
    }
   ],
   "source": [
    "x.sub(m).div(std)"
   ]
  },
  {
   "cell_type": "code",
   "execution_count": null,
   "metadata": {},
   "outputs": [],
   "source": []
  }
 ],
 "metadata": {
  "kernelspec": {
   "display_name": "Java (rjk 2.2.0 preview23)",
   "language": "java",
   "name": "rapaio-jupyter-kernel-preview23"
  },
  "language_info": {
   "codemirror_mode": "java",
   "file_extension": ".jshell",
   "mimetype": "text/x-java-source",
   "name": "java",
   "nbconvert_exporter": "script",
   "pygments_lexer": "java",
   "version": "23.0.1+8-FR"
  }
 },
 "nbformat": 4,
 "nbformat_minor": 4
}