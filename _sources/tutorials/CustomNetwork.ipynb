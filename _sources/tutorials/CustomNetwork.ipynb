{
 "cells": [
  {
   "cell_type": "markdown",
   "id": "940c5723-3555-4caf-8660-24ca82297aea",
   "metadata": {},
   "source": [
    "# Custom networks"
   ]
  },
  {
   "cell_type": "markdown",
   "id": "b577cdf0-f44d-4ddf-96dd-593145e7b4b9",
   "metadata": {},
   "source": [
    "A simple dense neural network can be written using a container network like `Sequence`. This is valid, concise and useful. Still, this does not allow a lot of customization, other than changing various parameters for different layers. Even if it involves a little bit more work, there is another way to create custom networks which brings more floxibility. This is the purpose of this tutorial."
   ]
  },
  {
   "cell_type": "code",
   "execution_count": 41,
   "id": "35816b13-60be-427f-9946-c8214d439087",
   "metadata": {},
   "outputs": [
    {
     "name": "stdout",
     "output_type": "stream",
     "text": [
      "Adding dependency \u001b[0m\u001b[1m\u001b[32mio.github.padreati:rapaio-lib:7.0.1\n",
      "\u001b[0mSolving dependencies\n",
      "Resolved artifacts count: 1\n",
      "Add to classpath: \u001b[0m\u001b[32m/home/ati/work/rapaio-jupyter-kernel/target/mima_cache/io/github/padreati/rapaio-lib/7.0.1/rapaio-lib-7.0.1.jar\u001b[0m\n",
      "\u001b[0m"
     ]
    }
   ],
   "source": [
    "%load ../../rapaio-bootstrap.ipynb"
   ]
  },
  {
   "cell_type": "markdown",
   "id": "08b11805-9521-4dfa-8c46-d475c4d4c30a",
   "metadata": {},
   "source": [
    "In order to setup the thigs we need a problem. A simple problem to let us concentrate our attention on the central topic. For that we will use the well-known advertising dataset, from ISLR book."
   ]
  },
  {
   "cell_type": "code",
   "execution_count": 42,
   "id": "2afd8305-4ada-4fbb-9cbc-b2b817791597",
   "metadata": {},
   "outputs": [],
   "source": [
    "// first step is to create a tensor manager\n",
    "TensorManager tm = TensorManager.ofFloat();\n",
    "tm.seed(42);"
   ]
  },
  {
   "cell_type": "code",
   "execution_count": 43,
   "id": "a35c129c-3a8f-4ad3-90ec-5ea63edf2b1b",
   "metadata": {},
   "outputs": [
    {
     "name": "stdout",
     "output_type": "stream",
     "text": [
      "Frame Summary\n",
      "=============\n",
      "* rowCount: 200\n",
      "* complete: 200/200\n",
      "* varCount: 4\n",
      "* varNames: \n",
      "\n",
      "0.        TV : dbl | \n",
      "1.     Radio : dbl | \n",
      "2. Newspaper : dbl | \n",
      "3.     Sales : dbl | \n",
      "\n",
      "* summary: \n",
      "       TV [dbl]           Radio [dbl]       Newspaper [dbl]           Sales [dbl]      \n",
      "   Min. :   0.7000000    Min. :  0.0000000     Min. :   0.3000000    Min. :  1.6000000 \n",
      "1st Qu. :  74.3750000 1st Qu. :  9.9750000  1st Qu. :  12.7500000 1st Qu. : 10.3750000 \n",
      " Median : 149.7500000  Median : 22.9000000   Median :  25.7500000  Median : 12.9000000 \n",
      "   Mean : 147.0425000    Mean : 23.2640000     Mean :  30.5540000    Mean : 14.0225000 \n",
      "2nd Qu. : 218.8250000 2nd Qu. : 36.5250000  2nd Qu. :  45.1000000 2nd Qu. : 17.4000000 \n",
      "   Max. : 296.4000000    Max. : 49.6000000     Max. : 114.0000000    Max. : 27.0000000 \n",
      "                                                                                       \n",
      "\n"
     ]
    }
   ],
   "source": [
    "// and get the dataset\n",
    "Frame df = Datasets.loadISLAdvertising();\n",
    "df.printSummary();"
   ]
  },
  {
   "cell_type": "markdown",
   "id": "cf52cf6e-21f1-47d7-8b61-a7996a95e5be",
   "metadata": {},
   "source": [
    "As can be seen is a very simple regression problem, three input features, nothing fancy. We get also a tensor dataset for training and testing."
   ]
  },
  {
   "cell_type": "code",
   "execution_count": 30,
   "id": "10186cf7-459f-484d-aa7b-57f3efb85d21",
   "metadata": {},
   "outputs": [],
   "source": [
    "DArray<?> x = df.mapVars(\"TV\", \"Radio\", \"Newspaper\").darray().cast(tm.dt());\n",
    "DArray<?> y = df.mapVars(\"Sales\").darray().cast(tm.dt());"
   ]
  },
  {
   "cell_type": "code",
   "execution_count": 32,
   "id": "05748234-2547-483f-81af-e5acab20e1a1",
   "metadata": {},
   "outputs": [],
   "source": [
    "TabularDataset ds = new TabularDataset(tm, x, y);\n",
    "TabularDataset[] split = ds.trainTestSplit(0.2);\n",
    "TabularDataset train = split[0];\n",
    "TabularDataset test = split[1];"
   ]
  },
  {
   "cell_type": "code",
   "execution_count": 44,
   "id": "dd2ca391-8d4e-45a5-87f8-ce32e6514367",
   "metadata": {},
   "outputs": [],
   "source": [
    "VarDouble trainLoss = VarDouble.empty().name(\"trainLoss\");\n",
    "VarDouble testLoss = VarDouble.empty().name(\"testLoss\");\n",
    "// mean squared error for a regression problem\n",
    "Loss loss = new MSELoss(tm);"
   ]
  },
  {
   "cell_type": "markdown",
   "id": "19e9444b-a2fb-415e-a20c-e23daec51778",
   "metadata": {},
   "source": [
    "We can continue continue with a `Sequence` which can have some standard dense neural network layers, which would be fine. But we can also create the `Network` by itself. In `rapaio` the network, which has to implement `Network` interface is a recursive component. Networks can act by themself and can be used in another networks, which also can be used in another networks as layers, and so on. \n",
    "\n",
    "In order to create a network, the most direct way is to derive from `AbstractNetwork`."
   ]
  },
  {
   "cell_type": "code",
   "execution_count": 47,
   "id": "e291be0e-2fbe-4ad2-a24c-85c7ba3379f3",
   "metadata": {},
   "outputs": [],
   "source": [
    "class AdvertisingNetwork extends AbstractNetwork {\n",
    "    final LayerNorm norm1;\n",
    "    final Linear linear1;\n",
    "    final ELU act1;\n",
    "    final Linear linear2;\n",
    "    final ELU act2;\n",
    "    static final int hidden = 12;\n",
    "\n",
    "    public AdvertisingNetwork(TensorManager tm) {\n",
    "        super(tm);\n",
    "        norm1 = new LayerNorm(tm, Shape.of(3));\n",
    "        linear1 = new Linear(tm, 3, hidden, true);\n",
    "        act1 = new ELU(tm);\n",
    "        linear2 = new Linear(tm, hidden, 1, true);\n",
    "        act2 = new ELU(tm);\n",
    "    }\n",
    "\n",
    "    // This does not need to be implemented in this case\n",
    "    @Override\n",
    "    public List<Tensor> parameters() {\n",
    "        List<Tensor> params = new ArrayList<>();\n",
    "        params.addAll(norm1.parameters());\n",
    "        params.addAll(linear1.parameters());\n",
    "        params.addAll(act1.parameters());\n",
    "        params.addAll(linear2.parameters());\n",
    "        params.addAll(act2.parameters());\n",
    "        return params;\n",
    "    }\n",
    "\n",
    "    // This does not need to be implemented in this case\n",
    "    @Override\n",
    "    public NetworkState state() {\n",
    "        NetworkState state = new NetworkState();\n",
    "        state.merge(norm1.state());\n",
    "        state.merge(linear1.state());\n",
    "        state.merge(act1.state());\n",
    "        state.merge(linear2.state());\n",
    "        state.merge(act2.state());\n",
    "        return state;\n",
    "    }\n",
    "\n",
    "    public Tensor forward11(Tensor x) {\n",
    "        x = x.add(1).log();\n",
    "        x = norm1.forward11(x);\n",
    "        x = linear1.forward11(x);\n",
    "        x = act1.forward11(x);\n",
    "        x = linear2.forward11(x);\n",
    "        x = act2.forward11(x);\n",
    "        return x;\n",
    "    }\n",
    "}"
   ]
  },
  {
   "cell_type": "markdown",
   "id": "66f18e5f-d800-4996-93e6-69b092af891e",
   "metadata": {},
   "source": [
    "The previous code needs a larger explanation. There are three main components which needs you attention when you implement your own network: parameters, network state and forward method. Those three components deals with three behaviors a network must provide.\n",
    "\n",
    "## Custom network components\n",
    "\n",
    "### Network parameters\n",
    "\n",
    "A network parameter is a tensor which is optimized during learning. In other words it is the part of the network which changes during learning. Actually those are the things the network *learns* during training. \n",
    "\n",
    "Since the optimization part is delegated to some strategy which implements `Optimizer`, any network which is in process of training, needs to tell to that strategy which tensors to optimize. The standard terminology is to call those tensors parameters, so we follow that closely. \n",
    "\n",
    "There is a comment in before the method implementation which let us know that we don't need to implement that method in this case. This is true, but we implemented here for illustrative purposes. The reason why in this case the implementation of parameters is not required is given by the default implementation of this method. The default implementation uses reflection and searches for all members of out custom model which implements `Network` interface and collects recursively all their parameters. Basically what our implementation does, but using reflection. Since all our layers, which are also networks, are declared as field members of our custom class, the generic implementation should perform well and we do not need to implement that behaviour now.\n",
    "\n",
    "### Network state\n",
    "\n",
    "A network can be serialized on a persistent storage and later loaded from a persistent storage and use it for inference or even further training. In `rapaio` we do not save the network class in itself. This is because we want to be consistent with all the custom constructors and custom code when a network is created. For that reason storing and loading from a persistent storage is not done on the class code, but on all the values of the variables which determines the behavior of the network. We call this *network state*.\n",
    "\n",
    "`NetworkState` is a container which contains all those variables which determines the behavior of a network. Thus when we recreate an instance of a network using its normal constructor code and load its state from a persistent storage, that new instance will behave precisely like the opriginal instance.\n",
    "\n",
    "This method needs to capture recursively the network state from all their components. In a similar fashion as with the parameters, we notice a comment which let us know that for this case the implementation is not needed. This is also true here because of its default implementation, which uses reflection to collect and merge all network states from all the members of the class which implements `Network`. If there are additional things which are not covered by the default scenario, we need a custom implementation to handle this case.\n",
    "\n",
    "### Network forward method\n",
    "\n",
    "Network forward method contains the code which the network performs to do the forward step from backpropagation algorithm. It is the same step which is performed by a network to do inference. Thus, forward method describes in code the way how the network process input tensors to obtain output tensors. \n",
    "\n",
    "There are two forward methods described in the `Network` interface. The generic one called `Tensor[] forward(Tensor... inputs)`, receives an array of tensors which are the inputs and produces another array of tensors which are the inference results or outputs. This method allows one to consider any number of inputs and any number of outputs. \n",
    "\n",
    "The default implementation of `forward`, delegates its behavior to `Tensor forward11(Tensor x)`. This method is a special case of the previous method and takes a single input tensor and produces a single output tensor. Since this is the most encountered scenario for inference it was decribed as a separate method. \n",
    "\n",
    "For brevity, we removed the custom implementations of parameters and network state to see better the custom code."
   ]
  },
  {
   "cell_type": "code",
   "execution_count": 48,
   "id": "a96f588f-a8ca-4029-85e1-e39d670899ca",
   "metadata": {},
   "outputs": [],
   "source": [
    "class AdvertisingNetwork extends AbstractNetwork {\n",
    "    final LayerNorm norm1;\n",
    "    final Linear linear1;\n",
    "    final ELU act1;\n",
    "    final Linear linear2;\n",
    "    final ELU act2;\n",
    "    static final int hidden = 12;\n",
    "\n",
    "    public AdvertisingNetwork(TensorManager tm) {\n",
    "        super(tm);\n",
    "        norm1 = new LayerNorm(tm, Shape.of(3));\n",
    "        linear1 = new Linear(tm, 3, hidden, true);\n",
    "        act1 = new ELU(tm);\n",
    "        linear2 = new Linear(tm, hidden, 1, true);\n",
    "        act2 = new ELU(tm);\n",
    "    }\n",
    "    public Tensor forward11(Tensor x) {\n",
    "        x = x.add(1).log();\n",
    "        x = norm1.forward11(x);\n",
    "        x = linear1.forward11(x);\n",
    "        x = act1.forward11(x);\n",
    "        x = linear2.forward11(x);\n",
    "        x = act2.forward11(x);\n",
    "        return x;\n",
    "    }\n",
    "}"
   ]
  },
  {
   "cell_type": "markdown",
   "id": "e95c5856-c999-4449-9d28-50174d55a6ed",
   "metadata": {},
   "source": [
    "## Why a custom network?\n",
    "\n",
    "A natural question can arise, which is why the hell to write a custom network code, since the default behavior is enough. The answer is that the default behavior you get by using containers and layers is not always enough. \n",
    "\n",
    "If you look closely at `forward11` method implementation you will see the first line which is `x = x.add(1).log()`. This line adds `1` to inputs and applies logarithm on those. This is not something which can be done with layers. Or at least you need a custom layer to implement that operation, which takes the same effort as the displayed implementation. Other things can also be done, which is basically almost any Java code. The only constraint is that if any calculus impacts the learning computation chain and it needs derivative computation, it must be done through tensor operations. \n",
    "\n",
    "Anything else is handled well. For illustrative purposes we can think of some scenarios which can be implemented using custom networks:\n",
    "\n",
    "* suppose one has a variable length input, it can handle that through code in forward method\n",
    "* collecting some statistics regarding values in the computed tensors, statistics which does not affect learning, but allows one to get a better insight on the learning process\n",
    "* changing some parameter dinamically (like learning rate of the optimizer, for example)\n",
    "\n",
    "Many other scenarios are possible, only the imagination is the limit. Things will work well as long as computing is done through tensors.\n",
    "\n",
    "## Running out custom network\n",
    "\n",
    "Below we use our custom created network, we do training and testing as usual."
   ]
  },
  {
   "cell_type": "code",
   "execution_count": 49,
   "id": "4f823fb1-d9ea-4ddc-86d4-32869d15e642",
   "metadata": {},
   "outputs": [],
   "source": [
    "int epochs = 200;\n",
    "double lr = 1e-3;"
   ]
  },
  {
   "cell_type": "code",
   "execution_count": 50,
   "id": "0a9d2922-34d7-4ec1-9c9e-e2f1880e76fc",
   "metadata": {},
   "outputs": [],
   "source": [
    "Network nn = new AdvertisingNetwork(tm);\n",
    "Optimizer optimizer = Optimizer.Adam(tm, nn.parameters()).lr.set(lr);"
   ]
  },
  {
   "cell_type": "code",
   "execution_count": 51,
   "id": "810a7470-bad3-4af9-a213-8b76cf571bbd",
   "metadata": {},
   "outputs": [
    {
     "name": "stdout",
     "output_type": "stream",
     "text": [
      "epoch 0, train loss: 2163.835, test loss: 10302.107\n",
      "epoch 10, train loss: 1729.624, test loss: 8233.459\n",
      "epoch 20, train loss: 1022.213, test loss: 4899.007\n",
      "epoch 30, train loss: 517.155, test loss: 2457.991\n",
      "epoch 40, train loss: 452.038, test loss: 2124.178\n",
      "epoch 50, train loss: 419.682, test loss: 2160.812\n",
      "epoch 60, train loss: 427.569, test loss: 2151.771\n",
      "epoch 70, train loss: 408.787, test loss: 2105.669\n",
      "epoch 80, train loss: 385.598, test loss: 1985.541\n",
      "epoch 90, train loss: 333.357, test loss: 1781.508\n",
      "epoch 100, train loss: 305.792, test loss: 1614.575\n",
      "epoch 110, train loss: 287.768, test loss: 1488.391\n",
      "epoch 120, train loss: 270.393, test loss: 1468.078\n",
      "epoch 130, train loss: 266.784, test loss: 1393.898\n",
      "epoch 140, train loss: 266.476, test loss: 1410.740\n",
      "epoch 150, train loss: 262.315, test loss: 1377.406\n",
      "epoch 160, train loss: 259.111, test loss: 1351.840\n",
      "epoch 170, train loss: 258.878, test loss: 1327.265\n",
      "epoch 180, train loss: 258.344, test loss: 1340.381\n",
      "epoch 190, train loss: 258.744, test loss: 1363.121\n"
     ]
    }
   ],
   "source": [
    "for (int i = 0; i < epochs; i++) {\n",
    "\n",
    "    optimizer.zeroGrad();\n",
    "    nn.train();\n",
    "\n",
    "    int batchCount = 0;\n",
    "    double trainLossValue = 0;\n",
    "    Iterator<Batch> batchIterator = train.batchIterator(10, true, false);\n",
    "    while (batchIterator.hasNext()) {\n",
    "        Batch batch = batchIterator.next();\n",
    "        Tensor pred = nn.forward11(batch.tensor(0));\n",
    "        Loss.Output lossOut = loss.forward(pred, batch.tensor(1));\n",
    "\n",
    "        trainLossValue += lossOut.lossValue();\n",
    "        batchCount++;\n",
    "\n",
    "        Autograd.backward(lossOut.tensor());\n",
    "        optimizer.step();\n",
    "    }\n",
    "\n",
    "    trainLossValue /= batchCount;\n",
    "    trainLoss.addDouble(trainLossValue);\n",
    "\n",
    "    nn.eval();\n",
    "    Tensor pred = nn.forward11(test.tensor(0));\n",
    "    Loss.Output lossOut = loss.forward(pred, test.tensor(1));\n",
    "    double testLossValue = lossOut.lossValue();\n",
    "    testLoss.addDouble(testLossValue);\n",
    "\n",
    "    if (i % 10 == 0) {\n",
    "        printf(\"epoch %d, train loss: %.3f, test loss: %.3f%n\", i, trainLossValue, testLossValue);\n",
    "    }\n",
    "}"
   ]
  },
  {
   "cell_type": "code",
   "execution_count": 52,
   "id": "38dd7747-d978-4238-b268-818a66af6fbd",
   "metadata": {},
   "outputs": [
    {
     "data": {
      "image/png": "[encoded data removed]"
     },
     "execution_count": 52,
     "metadata": {},
     "output_type": "execute_result"
    }
   ],
   "source": [
    "WS.image(Plotter.lines(trainLoss, color(1)).lines(testLoss, color(2)).legend(Legend.UP_LEFT, labels(\"train\", \"test\")), 800, 400);"
   ]
  },
  {
   "cell_type": "markdown",
   "id": "be9e4ecc-aab1-42b5-9d11-ca1b94a8e2b2",
   "metadata": {},
   "source": [
    "## Conclusion\n",
    "\n",
    "Wrting custom networks is not complicated and pays the price in flexibility you gain while experimenting, training, and for other purposes. Take care about the three components of a network, which needs to be implemented. If you follow a standard architecture where you declare as field members all the layers you use in inference, you need only to write custom code for forward method. This flexibility is a main driver in fast iteration and experimentation which is omnipresent in the first stages of a network architecture development, while not loosing any performance of level of quality in the code."
   ]
  },
  {
   "cell_type": "code",
   "execution_count": null,
   "id": "45d77421-58ad-4449-a4dc-c12d46c38131",
   "metadata": {},
   "outputs": [],
   "source": []
  }
 ],
 "metadata": {
  "kernelspec": {
   "display_name": "Java (rjk 2.2.0 preview23)",
   "language": "java",
   "name": "rapaio-jupyter-kernel-preview23"
  },
  "language_info": {
   "codemirror_mode": "java",
   "file_extension": ".jshell",
   "mimetype": "text/x-java-source",
   "name": "java",
   "nbconvert_exporter": "script",
   "pygments_lexer": "java",
   "version": "23.0.1+8-FR"
  }
 },
 "nbformat": 4,
 "nbformat_minor": 5
}
