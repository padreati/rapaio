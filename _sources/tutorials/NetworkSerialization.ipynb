{
 "cells": [
  {
   "cell_type": "markdown",
   "id": "5e763ee2-cdca-40c1-b8ec-6eede635fb07",
   "metadata": {},
   "source": [
    "# Network Serialization"
   ]
  },
  {
   "cell_type": "markdown",
   "id": "85882c3b-6ae6-4a7f-83c8-df37ad59a609",
   "metadata": {},
   "source": [
    "In this short tutorial we explain how network serialization works and how to create custom networks with proper serialization."
   ]
  },
  {
   "cell_type": "code",
   "execution_count": 1,
   "id": "9f7a25a9-5ccc-445f-8a24-83a5f906dcea",
   "metadata": {},
   "outputs": [
    {
     "name": "stdout",
     "output_type": "stream",
     "text": [
      "Adding dependency \u001b[0m\u001b[1m\u001b[32mio.github.padreati:rapaio-lib:7.0.1\n",
      "\u001b[0mSolving dependencies\n",
      "Resolved artifacts count: 1\n",
      "Add to classpath: \u001b[0m\u001b[32m/home/ati/work/rapaio-jupyter-kernel/target/mima_cache/io/github/padreati/rapaio-lib/7.0.1/rapaio-lib-7.0.1.jar\u001b[0m\n",
      "\u001b[0m"
     ]
    }
   ],
   "source": [
    "%load ../../rapaio-bootstrap.ipynb"
   ]
  },
  {
   "cell_type": "markdown",
   "id": "d24aa6fd-ca23-4a06-9ea7-1390002094ad",
   "metadata": {},
   "source": [
    "Serialization is the process of saving an object to an external medium and loading it for later usage. Thus, for neural networks as it is the case for most of the machine learning models, this feature is critical. This allows one to separate the process of learning and inference, since both of them might have different requirements, and also allow one to use a model at a later time and/or on a different machine.\n",
    "\n",
    "Usually in `rapaio` library the model instance is persisted. For neural networks this is different, however, what is saved and load is the model state. The *network state* consists in all the tensors which are involved in computation, either for inference or training, and defines the computational behavior of the neural network. \n",
    "\n",
    "The reason why a neural network model instance is not saved directly, but his state, it is a design decision. Creating custom neural networks should be considered first when you want to build a model and we don't want to interfere with the instance construction phase of a neural network (the code called in constructor). Saving and instantiating the model directly would create a parallel way to construct networks, a prone to errors process and hard to maintain. Since neural networks takes tensors as inputs, do computations which involves other tensors, and compute some outputs in the form of tensors, the involved tensors is the only critical part which needs to pe stored in a persistent way. \n",
    "\n",
    "Persisting and loading neural networks offline involves two stages. The first stage is always object creation, which basically means usinga constructor to create a new instance of the model. The second stage is to load its state from a persistent storage, state which will override the behavior of the newly created instance into the behavior of the persisted network. "
   ]
  },
  {
   "cell_type": "markdown",
   "id": "43191231-447e-482f-934f-64b855ab976c",
   "metadata": {},
   "source": [
    "## Example of custom network\n",
    "\n",
    "For illustration purposes we will use a custom network model, bring some data and train it. We define a function which takes a 4 dimensional input. We generate a random data set and split into test and train."
   ]
  },
  {
   "cell_type": "code",
   "execution_count": 2,
   "id": "f231fa31-5312-4177-bf93-15c52d3b5132",
   "metadata": {},
   "outputs": [],
   "source": [
    "double fun4d(double x1, double x2, double x3, double x4) {\n",
    "    return Math.sin(x1) * Math.cos(x2) + x3 + x4 * x4 + Math.sqrt(Math.abs(x1 + x3));\n",
    "}"
   ]
  },
  {
   "cell_type": "code",
   "execution_count": 3,
   "id": "975ddb48-916d-44e7-be4c-a091a9f7c2f4",
   "metadata": {},
   "outputs": [],
   "source": [
    "TensorManager tm = TensorManager.ofFloat();\n",
    "tm.seed(42);"
   ]
  },
  {
   "cell_type": "code",
   "execution_count": 4,
   "id": "8d32e284-f3db-4ed8-bce9-283300c25e0d",
   "metadata": {},
   "outputs": [],
   "source": [
    "final int N = 1_000;\n",
    "Tensor x = tm.randomTensor(Shape.of(N, 4), tm.random());\n",
    "Tensor y = tm.zerosTensor(Shape.of(N));\n",
    "for (int i = 0; i < N; i++) {\n",
    "    DArray<?> row = x.value().selsq(0, i);\n",
    "    y.value().setDouble(tm.random().nextDouble() / 100 + fun4d(row.getDouble(0), \n",
    "        row.getDouble(1), row.getDouble(2), row.getDouble(3)), i);\n",
    "}\n",
    "\n",
    "\n",
    "TabularDataset[] split = new TabularDataset(tm, x, y).trainTestSplit(0.2);\n",
    "TabularDataset train = split[0];\n",
    "TabularDataset test = split[1];"
   ]
  },
  {
   "cell_type": "markdown",
   "id": "14af50dc-3a25-4607-9fc8-bc34f1aaaac0",
   "metadata": {},
   "source": [
    "We then define a neural network to handle the regression problem."
   ]
  },
  {
   "cell_type": "code",
   "execution_count": 5,
   "id": "3b86ead3-c974-4318-983b-b38130ddd709",
   "metadata": {},
   "outputs": [],
   "source": [
    "static class Fun4dNetwork extends AbstractNetwork {\n",
    "    final BatchNorm1D norm1;\n",
    "    final Linear linear1;\n",
    "    final ReLU relu1;\n",
    "    final BatchNorm1D norm2;\n",
    "    final Linear linear2;\n",
    "\n",
    "    public Fun4dNetwork(TensorManager tm) {\n",
    "        super(tm);\n",
    "        norm1 = new BatchNorm1D(tm, 4);\n",
    "        linear1 = new Linear(tm, 4, 1_000, true);\n",
    "        relu1 = new ReLU(tm);\n",
    "        norm2 = new BatchNorm1D(tm, 1_000);\n",
    "        linear2 = new Linear(tm, 1_000, 1, true);\n",
    "    }\n",
    "    public Tensor forward11(Tensor x) {\n",
    "        x = norm1.forward11(x);\n",
    "        x = linear1.forward11(x);\n",
    "        x = relu1.forward11(x);\n",
    "        x = norm2.forward11(x);\n",
    "        x = linear2.forward11(x);\n",
    "        return x;\n",
    "    }\n",
    "}"
   ]
  },
  {
   "cell_type": "markdown",
   "id": "6f544de4-1601-414b-8f03-4ae222455574",
   "metadata": {},
   "source": [
    "In order to see that the network is viable we fit it on train data and test it."
   ]
  },
  {
   "cell_type": "code",
   "execution_count": 6,
   "id": "ab62a51c-e1f0-4109-afdd-020c2b081970",
   "metadata": {},
   "outputs": [
    {
     "name": "stdout",
     "output_type": "stream",
     "text": [
      "Epoch: 1, Train loss: 6.463082, test loss: 6.558301\n",
      "Epoch: 25, Train loss: 1.342792, test loss: 1.395550\n",
      "Epoch: 50, Train loss: 0.612419, test loss: 0.622492\n",
      "Epoch: 75, Train loss: 0.263298, test loss: 0.259663\n",
      "Epoch: 100, Train loss: 0.204112, test loss: 0.194072\n",
      "Epoch: 125, Train loss: 0.181188, test loss: 0.172728\n",
      "Epoch: 150, Train loss: 0.158991, test loss: 0.155328\n",
      "Epoch: 175, Train loss: 0.137773, test loss: 0.137477\n",
      "Epoch: 200, Train loss: 0.117931, test loss: 0.120677\n",
      "Epoch: 225, Train loss: 0.100027, test loss: 0.105606\n",
      "Epoch: 250, Train loss: 0.084605, test loss: 0.092792\n",
      "Epoch: 275, Train loss: 0.071990, test loss: 0.082608\n",
      "Epoch: 300, Train loss: 0.061805, test loss: 0.074530\n",
      "Epoch: 325, Train loss: 0.053378, test loss: 0.068135\n",
      "Epoch: 350, Train loss: 0.046240, test loss: 0.062288\n",
      "Epoch: 375, Train loss: 0.040201, test loss: 0.057271\n",
      "Epoch: 400, Train loss: 0.035062, test loss: 0.052875\n"
     ]
    }
   ],
   "source": [
    "Network nn = new Fun4dNetwork(tm);\n",
    "\n",
    "int EPOCHS = 400;\n",
    "int BATCH_SIZE = 100;\n",
    "\n",
    "Optimizer optimizer = Optimizer.Adam(tm, nn.parameters()).lr.set(1e-3);\n",
    "\n",
    "VarDouble trainLoss = VarDouble.empty().name(\"trainLoss\");\n",
    "VarDouble testLoss = VarDouble.empty().name(\"testLoss\");\n",
    "\n",
    "Loss loss = new MSELoss(tm);\n",
    "\n",
    "for (int epoch = 1; epoch <= EPOCHS; epoch++) {\n",
    "\n",
    "    nn.train();\n",
    "    optimizer.zeroGrad();\n",
    "\n",
    "    var batchOut = nn.batchForward(BATCH_SIZE, true, false, train.tensor(0));\n",
    "    var lossOut = loss.batchForward(batchOut, train.tensor(1));\n",
    "\n",
    "    double trainLossValue = lossOut.lossValue();\n",
    "    trainLoss.addDouble(trainLossValue);\n",
    "\n",
    "    Autograd.backward(lossOut.tensor());\n",
    "    optimizer.step();\n",
    "\n",
    "    nn.eval();\n",
    "    Tensor outputs = nn.forward11(tm.var(test.darray(0)));\n",
    "    lossOut = loss.forward(outputs, tm.var(test.darray(1)));\n",
    "    double teLoss = lossOut.lossValue();\n",
    "    testLoss.addDouble(teLoss);\n",
    "\n",
    "    if (epoch == 1 || epoch % 25 == 0) {\n",
    "        System.out.printf(\"Epoch: %d, Train loss: %.6f, test loss: %.6f\\n\", epoch, trainLossValue, teLoss);\n",
    "    }\n",
    "}\n"
   ]
  },
  {
   "cell_type": "code",
   "execution_count": 7,
   "id": "8e238ba3-bf0f-4af2-abd9-1156bbcd2a3f",
   "metadata": {},
   "outputs": [
    {
     "data": {
      "image/png": "[encoded data removed]"
     },
     "execution_count": 7,
     "metadata": {},
     "output_type": "execute_result"
    }
   ],
   "source": [
    "WS.image(lines(trainLoss, color(1), lwd(1)).lines(testLoss, color(2), lwd(1)), 800, 300);\n"
   ]
  },
  {
   "cell_type": "markdown",
   "id": "088d6529-444b-485f-abc8-7161f1d14e06",
   "metadata": {},
   "source": [
    "As you can see the network do it's job. But the performance of the network is not important now. The point is that we have a network which is not in the initial state, its state changed after some hundred epochs on training data."
   ]
  },
  {
   "cell_type": "markdown",
   "id": "305ba2f5-0bcb-42d9-85f9-86c76e9a73df",
   "metadata": {},
   "source": [
    "## Save network state"
   ]
  },
  {
   "cell_type": "markdown",
   "id": "ae6093d8-6359-4ec2-88d7-d4338da9e834",
   "metadata": {},
   "source": [
    "We want to use the network later, loaded from a persistent storage, which in our case is a file on disk. In order to save the network state we have to call one of the method named `saveState`. Let's save it to a file."
   ]
  },
  {
   "cell_type": "code",
   "execution_count": 8,
   "id": "0abcd79c-ada1-4825-8f9e-8f55a02dc282",
   "metadata": {},
   "outputs": [],
   "source": [
    "nn.saveState(new File(\"./fun4d-network.bin\"));"
   ]
  },
  {
   "cell_type": "markdown",
   "id": "2a6b08fa-8052-4fc3-9501-33806ca17e30",
   "metadata": {},
   "source": [
    "The name of the file is not important, neither its extension. We used `.bin` for that purpose, but it can be actually anything, as long as we remember it."
   ]
  },
  {
   "cell_type": "markdown",
   "id": "73d77800-1d76-4242-bcc0-d9ac842cb087",
   "metadata": {},
   "source": [
    "### How save state works?\n",
    "\n",
    "The `Network` models exposes its state through method `state()`. This method returns in a list all the tensors which are involved in neural network computations. Tensors have two main important properties: its value and its gradient. The gradient is a volatile information, since it can be changed after any kind of `Autograd.backward` call. Anyhow, the gradient values are relevant only to the optimizer and they are not involved in inferences. Thus, gradients are not relevant for serialization.\n",
    "\n",
    "But tensors' values are important for serialization. The values of the tensors together with the code of forward methods determines completely the results of the inferences. Those values will be persisted. It is also relevant that network state maintains the order of those tensors, information which will be relevant when the state will be loaded from a persistent storage.\n",
    "\n",
    "**Important note**\n",
    "\n",
    "When you need to implement the method `state()` for a custom network it is very important to expose through network state the actual tensor instances, not a copy of those tensors. Tensors acts like containers for tensor values, in other words acts like references to those values. The same tensors will be used at loading the network state. If you expose a copy of the actual tensors, then that copy will be updated with the new value and your network will not receive its state."
   ]
  },
  {
   "cell_type": "markdown",
   "id": "f635b16c-4601-46d7-8400-fd13b8597d55",
   "metadata": {},
   "source": [
    "## Creating a new instance of the network"
   ]
  },
  {
   "cell_type": "markdown",
   "id": "aada4fe3-0d73-48e0-9b23-873f4882cb1c",
   "metadata": {},
   "source": [
    "Imagine now that we closed our main program. Thus we do not have a network object. We must create it. We should create a new instance of the network in a normal way. If we have different ways to create a network, with different parameters, it would be a good idea to create the new instance in the same way that we created the network instance who's state we persisted. "
   ]
  },
  {
   "cell_type": "code",
   "execution_count": 9,
   "id": "c989f5e2-fec8-4fd5-91bd-922da031922e",
   "metadata": {},
   "outputs": [],
   "source": [
    "TensorManager tm = TensorManager.ofFloat();\n",
    "Network nn2 = new Fun4dNetwork(tm);"
   ]
  },
  {
   "cell_type": "markdown",
   "id": "0c72f74a-d8c1-4a44-b8a1-e9277b928bbc",
   "metadata": {},
   "source": [
    "After we have a network instance of the same type and created in the same way as the network who's state we persisted before, we can load from the persistent storage the serialized network state into the new network instance. We do that by calling on of the methods named `loadState`."
   ]
  },
  {
   "cell_type": "code",
   "execution_count": 10,
   "id": "1dae7f7c-7a70-412b-b77f-ed63e0068942",
   "metadata": {},
   "outputs": [],
   "source": [
    "nn2.loadState(new File(\"./fun4d-network.bin\"));"
   ]
  },
  {
   "cell_type": "markdown",
   "id": "bf329165-4b49-41cf-920b-3a5f1396b751",
   "metadata": {},
   "source": [
    "That is all, actually.\n",
    "\n",
    "### How load network state works\n",
    "\n",
    "Loading the network state into a new network object works in the following way. Using the same `state()` method, the deserialization code have access to the tensors which will receive the new values. The deserialization code reads each value (which is an darray, actually) from the persistent storage, and sets that value to the corresponding tensor object from the network state. In human plain words, it overrides the values of the involved tensors with the values from the persistent storage. This is why it is important to expose the actual tensors through state method, and not some copy of them."
   ]
  },
  {
   "cell_type": "markdown",
   "id": "0dd2610c-2069-4fc5-9730-62e0db0069d8",
   "metadata": {},
   "source": [
    "## Tensting the new network instance\n",
    "\n",
    "We now have to networks, the original one and another one which was loaded from disk. They should behave in the same way. You can trust me or you can do a test. I urge you to chose the second way. \n",
    "\n",
    "To test the fact that those networks produces the same results we will predict the same input features with both networks. After that we see if there is any difference between them."
   ]
  },
  {
   "cell_type": "code",
   "execution_count": 11,
   "id": "e44300f7-fdb6-4eb3-8cab-f7feb21fa6f0",
   "metadata": {},
   "outputs": [],
   "source": [
    "var prediction1 = nn.forward11(train.tensor(0)).value();\n",
    "var prediction2 = nn2.forward11(train.tensor(0)).value();"
   ]
  },
  {
   "cell_type": "code",
   "execution_count": 12,
   "id": "4148d497-eebc-4b0a-aa4a-4dec4af35e48",
   "metadata": {},
   "outputs": [
    {
     "data": {
      "text/plain": [
       "0.0"
      ]
     },
     "execution_count": 12,
     "metadata": {},
     "output_type": "execute_result"
    }
   ],
   "source": [
    "// compute the sum of absolute differences\n",
    "prediction1.sub(prediction2).abs().sum();"
   ]
  },
  {
   "cell_type": "markdown",
   "id": "9a26023e-d1f2-4eb8-b07b-ac6f43519268",
   "metadata": {},
   "source": [
    "As you can see there is no difference. Thus we can conclude that, at least for inference purposes, the networks are the same."
   ]
  },
  {
   "cell_type": "markdown",
   "id": "bf0bfde8-7fb5-48fe-a50d-48b76ba79ba1",
   "metadata": {},
   "source": [
    "## Other aspects of network serialization\n",
    "\n",
    "The network serialization uses a binary protocol which was implemented in the library to store those values. There is also a text protocol which was written for debugging purpose. That protocol can be used to see the actual stored content in a textual format. If you want to play with it you can use some code like: `nn.saveState(TextAtomProtocol.outputToStream(System.out))`.\n",
    "\n",
    "You can serialize a network state in other type of storages. For that purpose use the universal `OutputStream` interface, since there are `saveState` and `loadState` state methods which handles those interfaces. "
   ]
  },
  {
   "cell_type": "code",
   "execution_count": null,
   "id": "1f275c4f-8d68-4891-993b-298fb07bb694",
   "metadata": {},
   "outputs": [],
   "source": []
  }
 ],
 "metadata": {
  "kernelspec": {
   "display_name": "Java (rjk 2.2.0 preview23)",
   "language": "java",
   "name": "rapaio-jupyter-kernel-preview23"
  },
  "language_info": {
   "codemirror_mode": "java",
   "file_extension": ".jshell",
   "mimetype": "text/x-java-source",
   "name": "java",
   "nbconvert_exporter": "script",
   "pygments_lexer": "java",
   "version": "23.0.1+8-FR"
  }
 },
 "nbformat": 4,
 "nbformat_minor": 5
}
