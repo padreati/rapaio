{
 "cells": [
  {
   "cell_type": "markdown",
   "metadata": {},
   "source": [
    "# Linear Algebra Overview"
   ]
  },
  {
   "cell_type": "code",
   "execution_count": 1,
   "metadata": {
    "tags": []
   },
   "outputs": [
    {
     "name": "stdout",
     "output_type": "stream",
     "text": [
      "Adding dependency \u001b[0m\u001b[1m\u001b[32mio.github.padreati:rapaio-lib:7.0.1\n",
      "\u001b[0mSolving dependencies\n",
      "Resolved artifacts count: 1\n",
      "Add to classpath: \u001b[0m\u001b[32m/home/ati/work/rapaio-jupyter-kernel/target/mima_cache/io/github/padreati/rapaio-lib/7.0.1/rapaio-lib-7.0.1.jar\u001b[0m\n",
      "\u001b[0m"
     ]
    }
   ],
   "source": [
    "%load ../../rapaio-bootstrap.ipynb"
   ]
  },
  {
   "cell_type": "markdown",
   "metadata": {},
   "source": [
    "`DArrays` are multi-dimensional arrays which stores data elements of the same type indexed by dimensions. Current implementation offers only stride dense vector arrays, but the design allows future implementations like sparse arrays.\n",
    "\n",
    "DArrays offers many operations, besides standard manipulation data tools, there are implemented also some non trivial operations and also matrix decompositions and linear solvers. There are implementations for four numerical data types: `byte`, `int`, `float` and `double`. "
   ]
  },
  {
   "cell_type": "markdown",
   "metadata": {},
   "source": [
    "## DArrayManager"
   ]
  },
  {
   "cell_type": "markdown",
   "metadata": {},
   "source": [
    "Working with darrays starts with having a `DArrayManager`. A DArrayManager handles all the internals which are required for an implementation of DArrays. Even if there is a single implementation of DArrays, which works with standard Java arrays and uses stride algebra and simd vectorization, multiple implementations are possible. One example is to use MemorySegments when simd instructions will be able to work with indexed operations.\n",
    "\n",
    "DArray manager describes which storage factory to be used, which implementation of the operations, and other various parameters.\n",
    "\n",
    "One can create darrays with this tensor manager using also `DArrays` class. However it is advisable to use a DArrayManager every time since this will maintain code compatbility in the future when new DArray implementations will be available. Switching to other implementations will require a single line of code change, where you choose the DArrayManager implementation."
   ]
  },
  {
   "cell_type": "code",
   "execution_count": 2,
   "metadata": {},
   "outputs": [],
   "source": [
    "DArrayManager dm = DArrayManager.base();\n",
    "DType dt = DType.DOUBLE;"
   ]
  },
  {
   "cell_type": "markdown",
   "metadata": {},
   "source": [
    "## Shape of a DArray"
   ]
  },
  {
   "cell_type": "markdown",
   "metadata": {},
   "source": [
    "DArray elements are indexed by dimensions. You can think of a darray as a hypercube of data elements with one element in each position of the hypercube. A darray can have 0, 1, 2 or more dimensions. Each dimension have a dimension size. The dimensions and the size of each dimension is described by a `Shape` object.\n",
    "\n",
    "The total number of elements is given by the product of all dimension sizes, or 1 if there is no dimension."
   ]
  },
  {
   "cell_type": "code",
   "execution_count": 3,
   "metadata": {},
   "outputs": [
    {
     "name": "stdout",
     "output_type": "stream",
     "text": [
      "Shape: []\n",
      "Shape: [1]\n",
      "1\n",
      "1\n"
     ]
    }
   ],
   "source": [
    "// a shape with no dimensions\n",
    "println(Shape.of());\n",
    "\n",
    "// a shape with 1 dimension / a vector of size 1\n",
    "println(Shape.of(1));\n",
    "\n",
    "// Both shapes are of size 1, but they are different shapes\n",
    "println(Shape.of().size());\n",
    "println(Shape.of(1).size());"
   ]
  },
  {
   "cell_type": "markdown",
   "metadata": {},
   "source": [
    "## DArray creation"
   ]
  },
  {
   "cell_type": "markdown",
   "metadata": {},
   "source": [
    "A darray with no dimensions is a scalar and can be created with:"
   ]
  },
  {
   "cell_type": "code",
   "execution_count": 4,
   "metadata": {},
   "outputs": [
    {
     "name": "stdout",
     "output_type": "stream",
     "text": [
      "Shape: []\n",
      "BaseStride{DOUBLE,[],0,[]}\n",
      " 1  \n",
      "\n"
     ]
    }
   ],
   "source": [
    "var scalar = dm.scalar(dt, 1.);\n",
    "println(scalar.shape());\n",
    "println(scalar)"
   ]
  },
  {
   "cell_type": "markdown",
   "metadata": {},
   "source": [
    "A DArray with a single dimension is a vector, with two dimensions it is called a matrix and in general with more than two dimensions it is called a tensor. "
   ]
  },
  {
   "cell_type": "code",
   "execution_count": 5,
   "metadata": {
    "tags": []
   },
   "outputs": [
    {
     "name": "stdout",
     "output_type": "stream",
     "text": [
      "[ 0 1 2 3 4 5 6 7 8 9 10 11 12 13 14 15 16 17 18 19 20 21 22 23 24 25 26 27 28 29 30 31 32 33 34 35 36 37 38 39 40 41 42 43 44 45 46 47 48 49 50 51 52 53 54 55 56 57 58 59 60 61 62 63 64 65 66 67 68 69 70 71 72 73 74 75 76 77 78 79 80 81 82 83 84 85 86 87 88 89 90 91 92 93 94 95 96 97 98 99 ] \n"
     ]
    }
   ],
   "source": [
    "dm.seq(DType.FLOAT, Shape.of(100)).printFullContent()"
   ]
  },
  {
   "cell_type": "markdown",
   "metadata": {},
   "source": [
    "Since the default darray manager uses Java arrays as data storage, it is possible to wrap an array into a darray of appropriate type and use darray operations to change values in the array. For example we will create an array of double values and a wrapper darray around it. \n",
    "Using darray methods we can change the values from the array."
   ]
  },
  {
   "cell_type": "code",
   "execution_count": 6,
   "metadata": {},
   "outputs": [
    {
     "name": "stdout",
     "output_type": "stream",
     "text": [
      "0.6931471805599453\n",
      "1.0986122886681096\n",
      "1.3862943611198906\n"
     ]
    }
   ],
   "source": [
    "double[] array = new double[] {1., 2., 3.};\n",
    "// the default tensor manager wraps a double array if we request a Tensor<Double>\n",
    "var t = dm.stride(dt, array);\n",
    "t.log1p_(); // call the in-place log1p operation\n",
    "Arrays.stream(array).forEach(System.out::println);"
   ]
  },
  {
   "cell_type": "markdown",
   "metadata": {
    "tags": []
   },
   "source": [
    "The same thing happens for other value types (from the supperted ones which are: `double`,`float`,`int` and `byte`)"
   ]
  },
  {
   "cell_type": "code",
   "execution_count": 7,
   "metadata": {
    "tags": []
   },
   "outputs": [
    {
     "name": "stdout",
     "output_type": "stream",
     "text": [
      "1.0\n",
      "4.0\n",
      "9.0\n",
      "16.0\n"
     ]
    }
   ],
   "source": [
    "float[] floatArray = new float[] {1.f, 2, 3, 4};\n",
    "var floatTensor = dm.stride(DType.FLOAT, floatArray);\n",
    "floatTensor.sqr_();\n",
    "for(float f : floatArray) {\n",
    "    println(f);\n",
    "}"
   ]
  },
  {
   "cell_type": "markdown",
   "metadata": {},
   "source": [
    "Using a different type will not wrap the array, but will copy the data into a new darray."
   ]
  },
  {
   "cell_type": "code",
   "execution_count": 8,
   "metadata": {},
   "outputs": [
    {
     "name": "stdout",
     "output_type": "stream",
     "text": [
      "original value at index[0]: 1.000000, corresponding darray value: 1.000000\n",
      "original value at index[1]: 4.000000, corresponding darray value: 2.000000\n",
      "original value at index[2]: 9.000000, corresponding darray value: 3.000000\n",
      "original value at index[3]: 16.000000, corresponding darray value: 4.000000\n"
     ]
    }
   ],
   "source": [
    "var doubleArray = dm.stride(dt, floatArray);\n",
    "doubleArray.sqrt_();\n",
    "for(int i=0; i<floatArray.length; i++) {\n",
    "    printf(\"original value at index[%d]: %f, corresponding darray value: %f%n\", \n",
    "                      i, floatArray[i], doubleArray.get(i));\n",
    "}\n",
    "// we can see that the values remain unchanged"
   ]
  },
  {
   "cell_type": "markdown",
   "metadata": {},
   "source": [
    "The are also other constructors. "
   ]
  },
  {
   "cell_type": "code",
   "execution_count": 9,
   "metadata": {},
   "outputs": [
    {
     "name": "stdout",
     "output_type": "stream",
     "text": [
      "m: BaseStride{DOUBLE,[3, 3],0,[3, 1]}\n",
      "[[ 1 0 0 ]  \n",
      " [ 0 1 0 ]  \n",
      " [ 0 0 1 ]] \n",
      "\n",
      "u: BaseStride{DOUBLE,[3],0,[1]}\n",
      "[ 0.6054611363173034 0.47673188281383294 -0.49948335406718436 ] \n",
      "\n",
      "vector inner product between u and third row of m, which basically is the third element of u:\n",
      "-0.49948335406718436\n",
      "-0.49948335406718436\n"
     ]
    }
   ],
   "source": [
    "var m = dm.eye(dt, 3);\n",
    "println(\"m: \", m);\n",
    "\n",
    "Random random = new Random(42);\n",
    "var u = dm.random(dt, Shape.of(3), random);\n",
    "println(\"u: \", u);\n",
    "println(\"vector inner product between u and third row of m, which basically is the third element of u:\");\n",
    "println(u.inner(m.selsq(0, 2)));\n",
    "println(u.get(2))"
   ]
  },
  {
   "cell_type": "markdown",
   "metadata": {
    "tags": []
   },
   "source": [
    "Since `m` is the identity matrix, it's transpose is also identity, \n",
    "matrix multiplication between the two produces also identity and \n",
    "the determinant of `m` should be `1`:"
   ]
  },
  {
   "cell_type": "code",
   "execution_count": 10,
   "metadata": {
    "tags": []
   },
   "outputs": [
    {
     "data": {
      "text/markdown": [
       "$m^T m = I$"
      ]
     },
     "metadata": {},
     "output_type": "display_data"
    },
    {
     "name": "stdout",
     "output_type": "stream",
     "text": [
      "[[ 1 0 0 ]  \n",
      " [ 0 1 0 ]  \n",
      " [ 0 0 1 ]] \n",
      "1.0\n"
     ]
    }
   ],
   "source": [
    "var mtm = m.t_().mm(m);\n",
    "display(\"text/markdown\", \"$m^T m = I$\");\n",
    "mtm.printContent();\n",
    "println(mtm.lu().det());"
   ]
  },
  {
   "cell_type": "markdown",
   "metadata": {
    "tags": []
   },
   "source": [
    "## Stride arrays"
   ]
  },
  {
   "cell_type": "markdown",
   "metadata": {
    "tags": []
   },
   "source": [
    "DArray base implementation uses stride array algebra. In short, all the elements of the darrays are stored in a storage which is a contiguous array. A darray is a view over the storage which defines a stride arithmetic. If operations allows to use the same storage (it is possible to perform the transformation manipulating only shape, offset and stride information), than it will create a new view. This allows fast operations if possible."
   ]
  },
  {
   "cell_type": "markdown",
   "metadata": {
    "tags": []
   },
   "source": [
    "Let's build an array which contains a sequence of numbers."
   ]
  },
  {
   "cell_type": "code",
   "execution_count": 11,
   "metadata": {
    "tags": []
   },
   "outputs": [
    {
     "data": {
      "text/plain": [
       "BaseStride{DOUBLE,[2, 3, 4],0,[12, 4, 1]}\n",
       "[[[  0  1  2  3 ]   \n",
       "  [  4  5  6  7 ]   \n",
       "  [  8  9 10 11 ]]  \n",
       " [[ 12 13 14 15 ]   \n",
       "  [ 16 17 18 19 ]   \n",
       "  [ 20 21 22 23 ]]] \n"
      ]
     },
     "execution_count": 11,
     "metadata": {},
     "output_type": "execute_result"
    }
   ],
   "source": [
    "var x = dm.seq(dt, Shape.of(2,3,4));\n",
    "x"
   ]
  },
  {
   "cell_type": "markdown",
   "metadata": {
    "tags": []
   },
   "source": [
    "Let's dive a little bit into the description of the darray. `BaseStride` is the class which implements the darray, which means it uses stride arithmetic to index the values from storage. `FLOAT` is the data type of the elements, in this case being `float` value type from Java.\n",
    "\n",
    "Next we have some numeric information. `[2,3,4]` is the shape. This is to be expected, since we specified that shape when we created the darray. This means we have a darray with three dimensions, first axis of size `2`, second axis of size `3` and the third axis of size `4`.\n",
    "\n",
    "The next information is the number `0`. This is the offset. The offset for a strided array is a position in the contiguous storage where the first element of the darray is stored. Sometimes this offset is not zero, and we will provide and example soon.\n",
    "\n",
    "The last numeric information is `[12,4,1]`. These are the strides. We have a stride for each dimension in the darray. The meaning of stride is the following: *how many elements have to be skipped to see the next element in the given dimension*. The stride and offset gives a way to compute the position of an element in the storage, given an index for that element.\n",
    "\n",
    "$$ptr[i,j,k] = offset + i*stride[0] + j*stride[1] + k * stride[2]$$\n",
    "\n",
    "The above formula is valid for three dimensions, of course. In general for `D` dimensions we have:\n",
    "\n",
    "$$ptr[i_0,i_1,..,i_{D-1}] = offset + \\sum_{j=0}^{D-1} i_j * stride[j]$$"
   ]
  },
  {
   "cell_type": "markdown",
   "metadata": {
    "tags": []
   },
   "source": [
    "`x` is a 3 dimensional array. The first dimension has size `2`. This allows the interpretation of `x` as being an array of 2 matrices of shape `[3,4]`. We can select an element based on an axis and index using `sel`. Furthermore, `selsq`, which is an abbreviation of *select and squeeze* removes the given axis from the darray."
   ]
  },
  {
   "cell_type": "code",
   "execution_count": 12,
   "metadata": {
    "tags": []
   },
   "outputs": [
    {
     "name": "stdout",
     "output_type": "stream",
     "text": [
      "BaseStride{DOUBLE,[3, 4],0,[4, 1]}\n",
      "[[ 0 1  2  3 ]  \n",
      " [ 4 5  6  7 ]  \n",
      " [ 8 9 10 11 ]] \n",
      "\n",
      "BaseStride{DOUBLE,[3, 4],12,[4, 1]}\n",
      "[[ 12 13 14 15 ]  \n",
      " [ 16 17 18 19 ]  \n",
      " [ 20 21 22 23 ]] \n",
      "\n"
     ]
    }
   ],
   "source": [
    "// first matrix\n",
    "println(x.selsq(0,0));\n",
    "println(x.selsq(0,1));"
   ]
  },
  {
   "cell_type": "markdown",
   "metadata": {
    "tags": []
   },
   "source": [
    "Notice the offset of the second darray, which is `12`. The two darrays have the same shapes and strides, which means their layout in memory is the same, but their offset is different. This is because `x` is stored in C order (the default order in storage, but that can be changed also), which means it first stores the elements of the first matrix at offset `0` and after that it stores the elements of the second matrix at offset `12`, which is the same value as the number of elements of the first darray."
   ]
  },
  {
   "cell_type": "markdown",
   "metadata": {
    "tags": []
   },
   "source": [
    "Multiple other operations on the layout creates different views on the same storage. General transposition, for example, creates the following darray."
   ]
  },
  {
   "cell_type": "code",
   "execution_count": 13,
   "metadata": {
    "tags": []
   },
   "outputs": [
    {
     "data": {
      "text/plain": [
       "BaseStride{DOUBLE,[4, 3, 2],0,[1, 4, 12]}\n",
       "[[[  0 12 ]   \n",
       "  [  4 16 ]   \n",
       "  [  8 20 ]]  \n",
       " [[  1 13 ]   \n",
       "  [  5 17 ]   \n",
       "  [  9 21 ]]  \n",
       " [[  2 14 ]   \n",
       "  [  6 18 ]   \n",
       "  [ 10 22 ]]  \n",
       " [[  3 15 ]   \n",
       "  [  7 19 ]   \n",
       "  [ 11 23 ]]] \n"
      ]
     },
     "execution_count": 13,
     "metadata": {},
     "output_type": "execute_result"
    }
   ],
   "source": [
    "x.t_()"
   ]
  },
  {
   "cell_type": "markdown",
   "metadata": {
    "tags": []
   },
   "source": [
    "Notice how the shape dimensions are reversed, the same offset, but strides are different, since there are different dimension sizes. To check if two darrays have the same storage one have to compare the storage instances."
   ]
  },
  {
   "cell_type": "code",
   "execution_count": 14,
   "metadata": {
    "tags": []
   },
   "outputs": [
    {
     "name": "stdout",
     "output_type": "stream",
     "text": [
      "rapaio.darray.storage.array.DoubleArrayStorage@1a25a96d\n",
      "rapaio.darray.storage.array.DoubleArrayStorage@1a25a96d\n",
      "true\n"
     ]
    }
   ],
   "source": [
    "println(x.storage());\n",
    "println(x.t_().storage());\n",
    "println(x.storage() == x.t_().storage());"
   ]
  },
  {
   "cell_type": "markdown",
   "metadata": {
    "tags": []
   },
   "source": [
    "**Note on syntax:**\n",
    "Some methods have two variants, the first one named `operation` and the second one `operation_`, which is the same name ended with underscore. When the method name ends with underscore the operation works on the same storage as the original darray, when there is no ending underscore a new copy is created. Not all operations allows this syntax, since some are not able to work on the same storage and some others works only on the same storage. \n",
    "\n",
    "When this syntax is used, both scenarios are implemented. This is valid for the transpose operation also. Notice the storage instance:"
   ]
  },
  {
   "cell_type": "code",
   "execution_count": 15,
   "metadata": {
    "tags": []
   },
   "outputs": [
    {
     "name": "stdout",
     "output_type": "stream",
     "text": [
      "rapaio.darray.storage.array.DoubleArrayStorage@1a25a96d\n",
      "rapaio.darray.storage.array.DoubleArrayStorage@1a25a96d\n",
      "rapaio.darray.storage.array.DoubleArrayStorage@183f682c\n"
     ]
    }
   ],
   "source": [
    "println(x.storage());\n",
    "println(x.t_().storage());\n",
    "println(x.t().storage());"
   ]
  },
  {
   "cell_type": "markdown",
   "metadata": {
    "tags": []
   },
   "source": [
    "## Data iterators"
   ]
  },
  {
   "cell_type": "markdown",
   "metadata": {
    "tags": []
   },
   "source": [
    "The elements of a darray can be accessed in multiple ways. One way is based on indexes. The index of an element is an array of semi-positive integer numbers, each less than its corresponding dimension. Thus the index of an element describes the order of that element in each dimension."
   ]
  },
  {
   "cell_type": "code",
   "execution_count": 16,
   "metadata": {
    "tags": []
   },
   "outputs": [
    {
     "data": {
      "text/plain": [
       "BaseStride{FLOAT,[4, 5],0,[5, 1]}\n",
       "[[ -0.5915424823760986   0.42765530943870544 1.301008701324463   -0.33507856726646423 -0.5955197215080261  ]  \n",
       " [ -0.09123338013887405  0.7820308804512024  1.400564193725586   -0.15987195074558258  0.6741945743560791  ]  \n",
       " [ -0.2882782518863678  -0.9254017472267151  0.23874905705451965 -0.8072279691696167   0.938342809677124   ]  \n",
       " [ -0.9454368948936462   0.22093218564987183 0.6785244941711426   0.17902342975139618  0.20195713639259338 ]] \n"
      ]
     },
     "execution_count": 16,
     "metadata": {},
     "output_type": "execute_result"
    }
   ],
   "source": [
    "dt = DType.FLOAT;\n",
    "var x = dm.random(dt, Shape.of(4,5), random);\n",
    "x"
   ]
  },
  {
   "cell_type": "markdown",
   "metadata": {
    "tags": []
   },
   "source": [
    "We have a matrix of `4` rows and `5` columns. To access the element from second row and third column we can use `get` methods:"
   ]
  },
  {
   "cell_type": "code",
   "execution_count": 17,
   "metadata": {
    "tags": []
   },
   "outputs": [
    {
     "name": "stdout",
     "output_type": "stream",
     "text": [
      "1.4005642\n",
      "1.4005642\n",
      "1\n"
     ]
    }
   ],
   "source": [
    "println(x.get(1,2));\n",
    "// if we want directly the value type\n",
    "println(x.getFloat(1,2));\n",
    "// we can de a cast, also, if it is useful, notice that 0 is the rounded value of the original one\n",
    "println(x.getInt(1,2));"
   ]
  },
  {
   "cell_type": "markdown",
   "metadata": {
    "tags": []
   },
   "source": [
    "To iterate on the elements using indexes one can use the following iterator:"
   ]
  },
  {
   "cell_type": "code",
   "execution_count": 18,
   "metadata": {
    "tags": []
   },
   "outputs": [
    {
     "name": "stdout",
     "output_type": "stream",
     "text": [
      "-0.5915, 0.4277, 1.3010, -0.3351, -0.5955, -0.0912, 0.7820, 1.4006, -0.1599, 0.6742, -0.2883, -0.9254, 0.2387, -0.8072, 0.9383, -0.9454, 0.2209, 0.6785, 0.1790, 0.2020, "
     ]
    }
   ],
   "source": [
    "var it = x.iterator();\n",
    "while(it.hasNext()) {\n",
    "    printf(\"%.4f, \", it.next());\n",
    "}"
   ]
  },
  {
   "cell_type": "markdown",
   "metadata": {
    "tags": []
   },
   "source": [
    "The default order is `Order.C` C-style order, which means last dimensions loops faster. In the case of the matrix we iterate first on rows, and after that, in the inner loop, we iterate over columns. So, in C order, columns loops faster than rows. \n",
    "\n",
    "One can use also other orders, like `Order.F` Fortran-style order, which means first dimensions loops faster. There is also `Order.S` which is the storage order, the best possible order in which elements can be iterated so that accessing them is cache friendly. Also, `Order.A` means automatic order, which can be determined by an algorithm. We also have `Order.defaultOrder()` which is the configured default order, in our case being C."
   ]
  },
  {
   "cell_type": "code",
   "execution_count": 19,
   "metadata": {
    "tags": []
   },
   "outputs": [
    {
     "name": "stdout",
     "output_type": "stream",
     "text": [
      "-0.5915,-0.0912,-0.2883,-0.9454,0.4277,0.7820,-0.9254,0.2209,1.3010,1.4006,0.2387,0.6785,-0.3351,-0.1599,-0.8072,0.1790,-0.5955,0.6742,0.9383,0.2020,"
     ]
    }
   ],
   "source": [
    "var it = x.iterator(Order.F);\n",
    "while(it.hasNext()) {\n",
    "    printf(\"%.4f,\", it.next());\n",
    "}"
   ]
  },
  {
   "cell_type": "markdown",
   "metadata": {
    "tags": []
   },
   "source": [
    "Another kind of iterator is to iterate by pointer. The pointer of an element is basically the position of that element in the underlying storage. The advantage of using pointer elements is that it can be faster since some optimizations are realized if possible. To access elements based on their pointer value you can used `ptrGet` methods."
   ]
  },
  {
   "cell_type": "code",
   "execution_count": 20,
   "metadata": {
    "tags": []
   },
   "outputs": [
    {
     "name": "stdout",
     "output_type": "stream",
     "text": [
      "-0.5915, 0.4277, 1.3010, -0.3351, -0.5955, -0.0912, 0.7820, 1.4006, -0.1599, 0.6742, -0.2883, -0.9254, 0.2387, -0.8072, 0.9383, -0.9454, 0.2209, 0.6785, 0.1790, 0.2020, "
     ]
    }
   ],
   "source": [
    "var pit = x.ptrIterator();\n",
    "while(pit.hasNext()) {\n",
    "    printf(\"%.4f, \", x.ptrGet(pit.next()));\n",
    "}"
   ]
  },
  {
   "cell_type": "markdown",
   "metadata": {
    "tags": []
   },
   "source": [
    "## Operations on shapes"
   ]
  },
  {
   "cell_type": "markdown",
   "metadata": {
    "tags": []
   },
   "source": [
    "In general we can consider that a darray is an organized indexed view over some data elements which are lies into a storage. Many operations on those objects changes only this organization of data. Some of the operations are able to create a new view over the same data and for some other this is impossible, and a new storage with copied data is necessary. \n",
    "\n",
    "The idea of multidimensional array of elements can be seen in a recursive fashion. For example a darray in three dimensions can be understood as an indexed array of darrays of 2 dimensions, which in turn can be seen as arrays of unidimensional objects, which in a final turn can be seen as an indexed array of individual values, or scalars. As we can see this is a matter of organization, and this kind of operations helps us to give a proper form more usefull for understanding, for computation or for other reasons."
   ]
  },
  {
   "cell_type": "code",
   "execution_count": 21,
   "metadata": {
    "tags": []
   },
   "outputs": [
    {
     "data": {
      "text/plain": [
       "BaseStride{FLOAT,[2, 3, 2],0,[6, 2, 1]}\n",
       "[[[  0  1 ]   \n",
       "  [  2  3 ]   \n",
       "  [  4  5 ]]  \n",
       " [[  6  7 ]   \n",
       "  [  8  9 ]   \n",
       "  [ 10 11 ]]] \n"
      ]
     },
     "execution_count": 21,
     "metadata": {},
     "output_type": "execute_result"
    }
   ],
   "source": [
    "var x = dm.seq(dt, Shape.of(2,3,2));\n",
    "x"
   ]
  },
  {
   "cell_type": "code",
   "execution_count": 22,
   "metadata": {
    "tags": []
   },
   "outputs": [
    {
     "data": {
      "text/plain": [
       "[BaseStride{FLOAT,[3, 2],0,[2, 1]}\n",
       "[[ 0 1 ]  \n",
       " [ 2 3 ]  \n",
       " [ 4 5 ]] \n",
       ", BaseStride{FLOAT,[3, 2],6,[2, 1]}\n",
       "[[  6  7 ]  \n",
       " [  8  9 ]  \n",
       " [ 10 11 ]] \n",
       "]"
      ]
     },
     "execution_count": 22,
     "metadata": {},
     "output_type": "execute_result"
    }
   ],
   "source": [
    "// split into pieces of the same size on the first dimension\n",
    "x.chunk(0, false, 1);"
   ]
  },
  {
   "cell_type": "code",
   "execution_count": 23,
   "metadata": {
    "tags": []
   },
   "outputs": [
    {
     "name": "stdout",
     "output_type": "stream",
     "text": [
      "BaseStride{FLOAT,[3],0,[2]}\n",
      "[ 0 2 4 ] \n",
      "\n",
      "BaseStride{FLOAT,[3],1,[2]}\n",
      "[ 1 3 5 ] \n",
      "\n",
      "BaseStride{FLOAT,[3],6,[2]}\n",
      "[ 6 8 10 ] \n",
      "\n",
      "BaseStride{FLOAT,[3],7,[2]}\n",
      "[ 7 9 11 ] \n",
      "\n"
     ]
    }
   ],
   "source": [
    "// split into pieces of the same size on first and last dimension\n",
    "List<DArray<Float>> list = x.chunkAll(false,new int[]{1,3,1});\n",
    "list.forEach(da->println(da.squeeze(0, 2)));"
   ]
  },
  {
   "cell_type": "markdown",
   "metadata": {
    "tags": []
   },
   "source": [
    "Darrays can also be concatenated or stacked, operations which will produce new copies of data."
   ]
  },
  {
   "cell_type": "code",
   "execution_count": 24,
   "metadata": {
    "tags": []
   },
   "outputs": [
    {
     "name": "stdout",
     "output_type": "stream",
     "text": [
      "BaseStride{FLOAT,[3],0,[1]}\n",
      "[ 0.682409405708313 -1.860346794128418 -0.3640243411064148 ] \n",
      "\n",
      "BaseStride{FLOAT,[3],0,[1]}\n",
      "[ 0.907001256942749 -0.2078128606081009 1.9437248706817627 ] \n",
      "\n",
      "BaseStride{FLOAT,[3],0,[1]}\n",
      "[ 0.5633633732795715 -0.04871172457933426 -0.5485519170761108 ] \n",
      "\n"
     ]
    }
   ],
   "source": [
    "// define some vectors\n",
    "var a = dm.random(dt, Shape.of(3), random);\n",
    "var b = dm.random(dt, Shape.of(3), random);\n",
    "var c = dm.random(dt, Shape.of(3), random);\n",
    "println(a);\n",
    "println(b);\n",
    "println(c);"
   ]
  },
  {
   "cell_type": "code",
   "execution_count": 25,
   "metadata": {
    "tags": []
   },
   "outputs": [
    {
     "data": {
      "text/plain": [
       "BaseStride{FLOAT,[3, 3],0,[3, 1]}\n",
       "[[ 0.682409405708313  -1.860346794128418   -0.3640243411064148 ]  \n",
       " [ 0.907001256942749  -0.2078128606081009   1.9437248706817627 ]  \n",
       " [ 0.5633633732795715 -0.04871172457933426 -0.5485519170761108 ]] \n"
      ]
     },
     "execution_count": 25,
     "metadata": {},
     "output_type": "execute_result"
    }
   ],
   "source": [
    "// stack all of them as rows in a matrix. \n",
    "dm.stack(0, List.<DArray<Float>>of(a,b,c))"
   ]
  },
  {
   "cell_type": "code",
   "execution_count": 26,
   "metadata": {
    "tags": []
   },
   "outputs": [
    {
     "data": {
      "text/plain": [
       "BaseStride{FLOAT,[3, 3],0,[3, 1]}\n",
       "[[  0.682409405708313   0.907001256942749   0.5633633732795715  ]  \n",
       " [ -1.860346794128418  -0.2078128606081009 -0.04871172457933426 ]  \n",
       " [ -0.3640243411064148  1.9437248706817627 -0.5485519170761108  ]] \n"
      ]
     },
     "execution_count": 26,
     "metadata": {},
     "output_type": "execute_result"
    }
   ],
   "source": [
    "// stack all of them as columns in a matrix\n",
    "dm.stack(1, List.<DArray<Float>>of(a,b,c))"
   ]
  },
  {
   "cell_type": "code",
   "execution_count": 27,
   "metadata": {
    "tags": []
   },
   "outputs": [
    {
     "data": {
      "text/plain": [
       "BaseStride{FLOAT,[9],0,[1]}\n",
       "[ 0.682409405708313 -1.860346794128418 -0.3640243411064148 0.907001256942749 -0.2078128606081009 1.9437248706817627 0.5633633732795715 -0.04871172457933426 -0.5485519170761108 ] \n"
      ]
     },
     "execution_count": 27,
     "metadata": {},
     "output_type": "execute_result"
    }
   ],
   "source": [
    "// concatenate all elements along the single available dimension of the elements\n",
    "dm.cat(0, List.<DArray<Float>>of(a,b,c))"
   ]
  },
  {
   "cell_type": "markdown",
   "metadata": {
    "tags": []
   },
   "source": [
    "Most of the operations which manipulates shapes are present, like repeat, select or remove by axis indices."
   ]
  },
  {
   "cell_type": "code",
   "execution_count": 28,
   "metadata": {
    "tags": []
   },
   "outputs": [
    {
     "name": "stdout",
     "output_type": "stream",
     "text": [
      "x:BaseStride{FLOAT,[4, 3],0,[3, 1]}\n",
      "[[  1.6434990167617798   0.9172410368919373   0.3495040833950043  ]  \n",
      " [ -0.3341809809207916  -0.35777759552001953 -0.1645195335149765  ]  \n",
      " [ -0.10719511657953262 -0.06851354241371155 -0.07772722095251083 ]  \n",
      " [  0.9436370730400085  -1.0320192575454712   0.9695566296577454  ]] \n",
      "\n",
      "first and last col of x:BaseStride{FLOAT,[4, 2],0,[3, 2]}\n",
      "[[  1.6434990167617798   0.3495040833950043  ]  \n",
      " [ -0.3341809809207916  -0.1645195335149765  ]  \n",
      " [ -0.10719511657953262 -0.07772722095251083 ]  \n",
      " [  0.9436370730400085   0.9695566296577454  ]] \n",
      "\n",
      "remove first two rows of x:BaseStride{FLOAT,[2, 3],6,[3, 1]}\n",
      "[[ -0.10719511657953262 -0.06851354241371155 -0.07772722095251083 ]  \n",
      " [  0.9436370730400085  -1.0320192575454712   0.9695566296577454  ]] \n",
      "\n",
      "select first col of x and repeat it 3 times:BaseStride{FLOAT,[4, 3],0,[3, 1]}\n",
      "[[  1.6434990167617798   1.6434990167617798   1.6434990167617798  ]  \n",
      " [ -0.3341809809207916  -0.3341809809207916  -0.3341809809207916  ]  \n",
      " [ -0.10719511657953262 -0.10719511657953262 -0.10719511657953262 ]  \n",
      " [  0.9436370730400085   0.9436370730400085   0.9436370730400085  ]] \n",
      "\n"
     ]
    }
   ],
   "source": [
    "var x = dm.random(dt, Shape.of(4,3), random);\n",
    "println(\"x:\", x);\n",
    "println(\"first and last col of x:\", x.sel(1, 0, 2));\n",
    "println(\"remove first two rows of x:\", x.rem(0, 0, 1));\n",
    "println(\"select first col of x and repeat it 3 times:\", x.sel(1, 0).repeat(1, 3, false));"
   ]
  },
  {
   "cell_type": "markdown",
   "metadata": {
    "tags": []
   },
   "source": [
    "## The interesting case of stride 0\n",
    "\n",
    "It is possible that sometimes you can see a `0` strided dimension. This is ok, and it means that values on that dimensions are repeated (read from the same place) by a number of times equal with the dimension. "
   ]
  },
  {
   "cell_type": "code",
   "execution_count": 29,
   "metadata": {
    "tags": []
   },
   "outputs": [
    {
     "name": "stdout",
     "output_type": "stream",
     "text": [
      "BaseStride{FLOAT,[],0,[]}\n",
      " 2  \n",
      "\n"
     ]
    }
   ],
   "source": [
    "var s = dm.scalar(dt, 2);\n",
    "println(s);"
   ]
  },
  {
   "cell_type": "code",
   "execution_count": 30,
   "metadata": {
    "tags": []
   },
   "outputs": [
    {
     "name": "stdout",
     "output_type": "stream",
     "text": [
      "BaseStride{FLOAT,[3, 4],0,[0, 0]}\n",
      "[[ 2 2 2 2 ]  \n",
      " [ 2 2 2 2 ]  \n",
      " [ 2 2 2 2 ]] \n",
      "\n"
     ]
    }
   ],
   "source": [
    "println(s.strexp(0, 3).strexp(1, 4));"
   ]
  },
  {
   "cell_type": "markdown",
   "metadata": {
    "tags": []
   },
   "source": [
    "In the example below we started from a scalar, which is a darray with no dimensions, and we added new dimensions (stretch) and expanded that dimensions by a number of times. In this case we added first dimension repeated three times and second dimension repeated four times. Notice the strides are all `0`.\n",
    "\n",
    "**Note**:\n",
    "\n",
    "During implementation of stride arithmetics I found that also negative strides are possible. Having a negative stride would mean that instead of adding a number of positions you would have to go back a number of positions in that dimension. However I had chosen to not allow this kind of flexibility. I could not foresee all the implications for all sorts of operations (the first reason), and the second reason was that many layout operations on strides become overly complicated (at least to my mind). It is a design decision and for now I see it as a fair price to lose some wild flexibility and buy some computation and stability."
   ]
  },
  {
   "cell_type": "markdown",
   "metadata": {
    "tags": []
   },
   "source": [
    "## Unary operations"
   ]
  },
  {
   "cell_type": "markdown",
   "metadata": {
    "tags": []
   },
   "source": [
    "Unary operations are operations which are applied on each element and the order of processing elements is does not change the result. In most cases the processing is independent for each element, so a single pass over the indexed elements is enough. If the operation is not independent, additional passes over data might be required, but the order of precessing them is still not relevant.\n",
    "\n",
    "This characteristic leaves some room for optimization since if we are free to process the elements in whatever order we want, we can work out the best order which is cache friendly and potentially vectorizable.\n",
    "\n",
    "There are implemented plenty of unary operations, we illustrare here just with one example:"
   ]
  },
  {
   "cell_type": "code",
   "execution_count": 31,
   "metadata": {
    "tags": []
   },
   "outputs": [
    {
     "name": "stdout",
     "output_type": "stream",
     "text": [
      "x:BaseStride{DOUBLE,[3, 4, 2],0,[8, 2, 1]}\n",
      "[[[ -0.09966190499890398 -0.5811431434994926  ]   \n",
      "  [ -0.8561254101627737  -0.9181375052182392  ]   \n",
      "  [  1.1062313258059315  -0.03361855779440348 ]   \n",
      "  [ -0.19940824264650267  0.3394637281444628  ]]  \n",
      " [[  0.5239940045886521  -0.4808024622381947  ]   \n",
      "  [  0.18050084772155725 -0.32917346344484205 ]   \n",
      "  [  1.135010764731621    0.8622715316732382  ]   \n",
      "  [  0.295551483102627   -0.32032930267467846 ]]  \n",
      " [[  0.5165038632024493   1.3322719542251784  ]   \n",
      "  [ -0.8554643292889054   0.8746757350332696  ]   \n",
      "  [  0.32638451857295453 -0.09187350537981684 ]   \n",
      "  [ -0.5084207394085699   0.10020556064469907 ]]] \n",
      "\n",
      "y:BaseStride{DOUBLE,[2, 3, 4],0,[1, 8, 2]}\n",
      "[[[ -0.09966190499890398 -0.8561254101627737   1.1062313258059315  -0.19940824264650267 ]   \n",
      "  [  0.5239940045886521   0.18050084772155725  1.135010764731621    0.295551483102627   ]   \n",
      "  [  0.5165038632024493  -0.8554643292889054   0.32638451857295453 -0.5084207394085699  ]]  \n",
      " [[ -0.5811431434994926  -0.9181375052182392  -0.03361855779440348  0.3394637281444628  ]   \n",
      "  [ -0.4808024622381947  -0.32917346344484205  0.8622715316732382  -0.32032930267467846 ]   \n",
      "  [  1.3322719542251784   0.8746757350332696  -0.09187350537981684  0.10020556064469907 ]]] \n",
      "\n"
     ]
    }
   ],
   "source": [
    "dt = DType.DOUBLE;\n",
    "var x = dm.random(dt, Shape.of(3,4,2), random);\n",
    "println(\"x:\", x);\n",
    "var y = x.swapAxis(0,2).swapAxis(1,2);\n",
    "println(\"y:\", y);"
   ]
  },
  {
   "cell_type": "markdown",
   "metadata": {
    "tags": []
   },
   "source": [
    "Notice how strides are not well aligned anymore. However appling unary operation is still fast since the elements are dense in memory."
   ]
  },
  {
   "cell_type": "code",
   "execution_count": 32,
   "metadata": {
    "tags": []
   },
   "outputs": [
    {
     "data": {
      "text/plain": [
       "BaseStride{DOUBLE,[2, 3, 4],0,[12, 4, 1]}\n",
       "[[[ 1.0648273146801222 0.7626147479516716 1.4125056554915065 1.0298307367635657 ]   \n",
       "  [ 1.2595950067639308 1.157038683673884  1.4194899317930934 1.1925735236318604 ]   \n",
       "  [ 1.2574672753583793 0.7629230584158948 1.2018859840021214 0.9129167506320462 ]]  \n",
       " [[ 0.8832950552182608 0.7332629232383152 1.0873428403711773 1.2058102336616128 ]   \n",
       "  [ 0.9239404134152693 0.9823879887598992 1.3512554900985507 0.985693912840778  ]   \n",
       "  [ 1.4660921051519407 1.3544619780220997 1.0675090575629782 1.1314684191780842 ]]] \n"
      ]
     },
     "execution_count": 32,
     "metadata": {},
     "output_type": "execute_result"
    }
   ],
   "source": [
    "y.add(2).log1p()"
   ]
  },
  {
   "cell_type": "code",
   "execution_count": 33,
   "metadata": {
    "tags": []
   },
   "outputs": [
    {
     "data": {
      "text/plain": [
       "BaseStride{DOUBLE,[2, 3, 4],0,[12, 4, 1]}\n",
       "[[[ 0.17500473424725813 0.08213379149438037 0.5844704696385434  0.15839100461981817 ]   \n",
       "  [ 0.2300244470890973  0.16315365705801513 0.42377487333569713 0.1830470225171904  ]   \n",
       "  [ 0.4099551398262636  0.1039676243306248  0.3389756900440856  0.14710154579902585 ]]  \n",
       " [[ 0.16796293915289073 0.11991090312678258 0.2904025141609272  0.4217236435593994  ]   \n",
       "  [ 0.1394973305941254  0.1623370069670688  0.5343865531909564  0.16377910924784933 ]   \n",
       "  [ 0.46184977173043223 0.2922598926089767  0.11117374070414876 0.13471659495644225 ]]] \n"
      ]
     },
     "execution_count": 33,
     "metadata": {},
     "output_type": "execute_result"
    }
   ],
   "source": [
    "y.softmax1d(2)"
   ]
  },
  {
   "cell_type": "code",
   "execution_count": 34,
   "metadata": {
    "tags": []
   },
   "outputs": [
    {
     "data": {
      "text/plain": [
       "BaseStride{DOUBLE,[2, 3],0,[3, 1]}\n",
       "[[ 1.0000000000000002 0.9999999999999999 1 ]  \n",
       " [ 1                  0.9999999999999999 1 ]] \n"
      ]
     },
     "execution_count": 34,
     "metadata": {},
     "output_type": "execute_result"
    }
   ],
   "source": [
    "y.softmax1d(2).sum1d(2) // not really 1 due to numerical precision, but very close"
   ]
  },
  {
   "cell_type": "markdown",
   "metadata": {
    "tags": []
   },
   "source": [
    "## Reduce operations"
   ]
  },
  {
   "cell_type": "markdown",
   "metadata": {
    "tags": []
   },
   "source": [
    "A reduce operation is an operation which computes an aggregate over one or more dimensions. As an illustrative example consider the sum over all elements of a matrix. This is a reduce operation since from a 2-dimensional darray you get a scalar, which is a 0-dimensional darray. Some reduction does not necessary eliminate dimensions, but can make them shorter."
   ]
  },
  {
   "cell_type": "code",
   "execution_count": 48,
   "metadata": {
    "tags": []
   },
   "outputs": [
    {
     "name": "stdout",
     "output_type": "stream",
     "text": [
      "x: BaseStride{DOUBLE,[2, 3],0,[3, 1]}\n",
      "[[  0.21075724479804384 0.49088489464751806 0.14180302151996524 ]  \n",
      " [ -1.1965032080235163  0.22371030592334323 1.2543483166020575  ]] \n",
      "sum of all elements: 1.1250005754674115"
     ]
    }
   ],
   "source": [
    "var x = dm.random(dt, Shape.of(2,3), random);\n",
    "print(\"x: \", x);\n",
    "print(\"sum of all elements: \", x.sum());"
   ]
  },
  {
   "cell_type": "markdown",
   "metadata": {
    "tags": []
   },
   "source": [
    "The same sum can be also aplied along one dimension. This can be done using methods which ends with `1d`. If you have trouble imagining the effect, you can this that you choose an axis and the vectors along that axis collapses into a value and the dimension disapears."
   ]
  },
  {
   "cell_type": "code",
   "execution_count": 51,
   "metadata": {
    "tags": []
   },
   "outputs": [
    {
     "name": "stdout",
     "output_type": "stream",
     "text": [
      "sum along rows:BaseStride{DOUBLE,[3],0,[1]}\n",
      "[ -0.9857459632254725 0.7145952005708613 1.3961513381220227 ] \n",
      "sum along columns:BaseStride{DOUBLE,[2],0,[1]}\n",
      "[ 0.8434451609655271 0.28155541450188437 ] \n"
     ]
    }
   ],
   "source": [
    "print(\"sum along rows:\", x.sum1d(0));\n",
    "print(\"sum along columns:\", x.sum1d(1));"
   ]
  },
  {
   "cell_type": "markdown",
   "metadata": {
    "tags": []
   },
   "source": [
    "For the next operations we will take a more complex darray, a 3 dimensional one. "
   ]
  },
  {
   "cell_type": "code",
   "execution_count": 54,
   "metadata": {
    "tags": []
   },
   "outputs": [
    {
     "data": {
      "text/plain": [
       "BaseStride{DOUBLE,[2, 3, 4],0,[12, 4, 1]}\n",
       "[[[ -0.19370948548938752 -1.6219526313603232    0.260846270192833   -0.9694227198510383  ]   \n",
       "  [ -0.04455320489472237  0.1833842914682224    0.04337894930803018  0.5567989615040088  ]   \n",
       "  [  0.4576310384809315   1.0412082739849728    0.7869073159101394  -0.5536995680293529  ]]  \n",
       " [[ -0.33321398706168714  0.013396092797920383 -0.5697525844043465   1.960093757917051   ]   \n",
       "  [  0.1812215984156018  -1.1624209539265615   -0.16466583547336125  0.12356238454118097 ]   \n",
       "  [  0.19354883880516652  0.6053793130368094    0.24314683149026525  0.9079797019272604  ]]] \n"
      ]
     },
     "execution_count": 54,
     "metadata": {},
     "output_type": "execute_result"
    }
   ],
   "source": [
    "var x = dm.random(dt, Shape.of(2,3,4), random);\n",
    "x"
   ]
  },
  {
   "cell_type": "markdown",
   "metadata": {
    "tags": []
   },
   "source": [
    "*Aggregate on a shape* is an aggregation operation which takes all pieces from the darray of a given shape and reduces them in one value. This is basically a generalization of one dimensional reduction. There is a catch, however, the shape must match the last dimensions of the original shape. The on shape do not do broadcast, so you cannot use dimension size 1 (maybe this is an idea of improvement if there will be a need). Since the last dimensions collapses into a single value, the result will have the shape described by the first dimensions which are not subject to reduction. This operation allows a `keepDim` parameter which when set to `true` will keep the collapsed dimensions."
   ]
  },
  {
   "cell_type": "code",
   "execution_count": 73,
   "metadata": {
    "tags": []
   },
   "outputs": [
    {
     "name": "stdout",
     "output_type": "stream",
     "text": [
      "BaseStride{DOUBLE,[2, 3],0,[3, 1]}\n",
      "[[ -2.5242385665079157  0.7390089973855389 1.7320470603466909 ]  \n",
      " [  1.0705232792489376 -1.0223028064431399 1.9500546852595015 ]] \n",
      "BaseStride{DOUBLE,[2],0,[1]}\n",
      "[ -0.05318250877568642 1.998275158065299 ] \n"
     ]
    }
   ],
   "source": [
    "// sum on the last dimension\n",
    "print(x.sumOn(Shape.of(4), false));\n",
    "// sum over last two dimensions\n",
    "print(x.sumOn(Shape.of(3,4), false));\n"
   ]
  },
  {
   "cell_type": "markdown",
   "metadata": {
    "tags": []
   },
   "source": [
    "*Aggregate to a shape* does, somehow the opposite of aggregate on a shape. Using aggregate to a shape you specify actually the shape of the result, all other dimensions will collapse by reduction function into scalar values, placed in the requested shape. This operation allows broadcast. The specified shape must match the last dimensions of the original darray, but also can be 1, which means that the corresponding dimension will collapse."
   ]
  },
  {
   "cell_type": "code",
   "execution_count": 74,
   "metadata": {
    "tags": []
   },
   "outputs": [
    {
     "data": {
      "text/plain": [
       "BaseStride{DOUBLE,[3, 4],0,[4, 1]}\n",
       "[[ -0.5269234725510746  -1.6085565385624028 -0.3089063142115135  0.9906710380660126  ]  \n",
       " [  0.13666839352087942 -0.9790366624583391 -0.12128688616533106 0.6803613460451897  ]  \n",
       " [  0.651179877286098    1.646587587021782   1.0300541474004046  0.35428013389790747 ]] \n"
      ]
     },
     "execution_count": 74,
     "metadata": {},
     "output_type": "execute_result"
    }
   ],
   "source": [
    "x.sumTo(Shape.of(3,4), false)"
   ]
  },
  {
   "cell_type": "markdown",
   "metadata": {
    "tags": []
   },
   "source": [
    "In the previous example, we get a reduced shape as requested. The reduced shape is a matrix and in each cell it contains the sum of the two corresponding elements. In this case you can imagine the darray as an array of two matrices. Since we collapse to the matrix shape, this is esentially like summing the two matrices.\n",
    "\n",
    "But also some wild things can be done, like collapsing into the seond dimension."
   ]
  },
  {
   "cell_type": "code",
   "execution_count": 75,
   "metadata": {
    "tags": []
   },
   "outputs": [
    {
     "data": {
      "text/plain": [
       "BaseStride{DOUBLE,[3, 1],0,[1, 1]}\n",
       "[[ -1.4537152872589783  ]  \n",
       " [ -0.28329380905760104 ]  \n",
       " [  3.6821017456061926  ]] \n"
      ]
     },
     "execution_count": 75,
     "metadata": {},
     "output_type": "execute_result"
    }
   ],
   "source": [
    "x.sumTo(Shape.of(3,1), false)"
   ]
  },
  {
   "cell_type": "markdown",
   "metadata": {
    "tags": []
   },
   "source": [
    "Aggregate to a shape can perform the same thing as aggregate on a shape, you just have to specify the complementary indinces."
   ]
  },
  {
   "cell_type": "code",
   "execution_count": 79,
   "metadata": {
    "tags": []
   },
   "outputs": [
    {
     "name": "stdout",
     "output_type": "stream",
     "text": [
      "BaseStride{DOUBLE,[2],0,[1]}\n",
      "[ -0.05318250877568642 1.998275158065299 ] \n",
      "BaseStride{DOUBLE,[2],0,[1]}\n",
      "[ -0.05318250877568642 1.998275158065299 ] \n"
     ]
    }
   ],
   "source": [
    "print(x.sumOn(Shape.of(3,4),false));\n",
    "print(x.sumTo(Shape.of(2,1,1), false).squeeze(1,2));"
   ]
  },
  {
   "cell_type": "markdown",
   "metadata": {
    "tags": []
   },
   "source": [
    "### Gather and scatter\n",
    "\n",
    "Gather and scatter operations are somehow related to aggregation, but instead of values it operates with indices and acts only on a single dimension. If you read the documentation about gather and scatter you might have a hard time. I did, at least. \n",
    "\n",
    "Instead of explaining how they works, my starting point of understanding those operations is to have an example. Let's start with a matrix, since it has a simpler structure."
   ]
  },
  {
   "cell_type": "code",
   "execution_count": 104,
   "metadata": {
    "tags": []
   },
   "outputs": [
    {
     "name": "stdout",
     "output_type": "stream",
     "text": [
      "BaseStride{DOUBLE,[4, 3],0,[3, 1]}\n",
      "[[ -0.682006135779255   0.33821119699907   -0.4130832314686386 ]  \n",
      " [  0.40062639975819253 0.8907595400657192  2.1836422240866504 ]  \n",
      " [  0.02150447967183535 1.633310274282907  -0.6218288849890282 ]  \n",
      " [  0.36831596448871595 1.5956642716994516  0.2272103401446834 ]] \n"
     ]
    }
   ],
   "source": [
    "var x = dm.random(dt, Shape.of(4,3), random);\n",
    "print(x)"
   ]
  },
  {
   "cell_type": "markdown",
   "metadata": {
    "tags": []
   },
   "source": [
    "Now think that you need to take the maximum value from each row. That can be easily done with a reduce operation."
   ]
  },
  {
   "cell_type": "code",
   "execution_count": 105,
   "metadata": {
    "tags": []
   },
   "outputs": [
    {
     "data": {
      "text/plain": [
       "BaseStride{DOUBLE,[4],0,[1]}\n",
       "[ 0.33821119699907 2.1836422240866504 1.633310274282907 1.5956642716994516 ] \n"
      ]
     },
     "execution_count": 105,
     "metadata": {},
     "output_type": "execute_result"
    }
   ],
   "source": [
    "// get the maximum value along columns, which is the maximum value from each row\n",
    "x.amax1d(1)"
   ]
  },
  {
   "cell_type": "markdown",
   "metadata": {
    "tags": []
   },
   "source": [
    "This is simple, but what if you want to do something more complicated? Like for example to take the maximum value from each row, to multiply each maximum value by 100, and then to put those changed values back in their place?"
   ]
  },
  {
   "cell_type": "markdown",
   "metadata": {
    "tags": []
   },
   "source": [
    "We will do that in steps. First we take the index from each row of the maximum value."
   ]
  },
  {
   "cell_type": "code",
   "execution_count": 106,
   "metadata": {
    "tags": []
   },
   "outputs": [
    {
     "data": {
      "text/plain": [
       "BaseStride{INTEGER,[4, 1],0,[1, 1]}\n",
       "[[ 1 ]  \n",
       " [ 2 ]  \n",
       " [ 1 ]  \n",
       " [ 1 ]] \n"
      ]
     },
     "execution_count": 106,
     "metadata": {},
     "output_type": "execute_result"
    }
   ],
   "source": [
    "var index = x.argmax1d(1, true);\n",
    "index"
   ]
  },
  {
   "cell_type": "markdown",
   "metadata": {
    "tags": []
   },
   "source": [
    "Now use the `gather` magic, which basically collects the values along the given axis from the corresponding indices."
   ]
  },
  {
   "cell_type": "code",
   "execution_count": 107,
   "metadata": {
    "tags": []
   },
   "outputs": [
    {
     "data": {
      "text/plain": [
       "BaseStride{DOUBLE,[4, 1],0,[1, 1]}\n",
       "[[ 0.33821119699907   ]  \n",
       " [ 2.1836422240866504 ]  \n",
       " [ 1.633310274282907  ]  \n",
       " [ 1.5956642716994516 ]] \n"
      ]
     },
     "execution_count": 107,
     "metadata": {},
     "output_type": "execute_result"
    }
   ],
   "source": [
    "var maxValues = x.gather(1, index);\n",
    "maxValues"
   ]
  },
  {
   "cell_type": "markdown",
   "metadata": {
    "tags": []
   },
   "source": [
    "You can see that actually we obtained the same values as before. Why bother than? Because the index can be used also to put back the values. But first let's do the processing, thus multiplication by 10."
   ]
  },
  {
   "cell_type": "code",
   "execution_count": 108,
   "metadata": {
    "tags": []
   },
   "outputs": [
    {
     "data": {
      "text/plain": [
       "BaseStride{DOUBLE,[4, 1],0,[1, 1]}\n",
       "[[  33.821119699907   ]  \n",
       " [ 218.36422240866506 ]  \n",
       " [ 163.3310274282907  ]  \n",
       " [ 159.56642716994514 ]] \n"
      ]
     },
     "execution_count": 108,
     "metadata": {},
     "output_type": "execute_result"
    }
   ],
   "source": [
    "maxValues.mul_(100);\n",
    "maxValues"
   ]
  },
  {
   "cell_type": "markdown",
   "metadata": {
    "tags": []
   },
   "source": [
    "We used inplace version of the operation, no need to copy the data. Now we apply the `scatter` magic, which basically do the opposite of what gather does. Instead of taking values from a given indinces, the scatter operation puts values back at the given indices."
   ]
  },
  {
   "cell_type": "code",
   "execution_count": 109,
   "metadata": {
    "tags": []
   },
   "outputs": [
    {
     "name": "stdout",
     "output_type": "stream",
     "text": [
      "BaseStride{DOUBLE,[4, 3],0,[3, 1]}\n",
      "[[ -0.682006135779255    33.821119699907      -0.4130832314686386 ]  \n",
      " [  0.40062639975819253   0.8907595400657192 218.36422240866506   ]  \n",
      " [  0.02150447967183535 163.3310274282907     -0.6218288849890282 ]  \n",
      " [  0.36831596448871595 159.56642716994514     0.2272103401446834 ]] \n"
     ]
    }
   ],
   "source": [
    "maxValues.scatter(1, index, x);\n",
    "print(x)"
   ]
  },
  {
   "cell_type": "markdown",
   "metadata": {
    "tags": []
   },
   "source": [
    "This is it. To me this example was enough to understand what scatter and gather does, hope it is the same for you."
   ]
  },
  {
   "cell_type": "markdown",
   "metadata": {
    "tags": []
   },
   "source": [
    "## Binary operations"
   ]
  },
  {
   "cell_type": "markdown",
   "metadata": {
    "tags": []
   },
   "source": [
    "Binary operations are operations which takes one input and produces a result. The binary operations for darray are as normal ones, with the addition of the fact that one of the operands can be also a scalar. Thus, instead of adding a value to all elements by expanding the scalar to a matrix of the same shape, you can also provide a value typed parameters. Some examples, are provided, but since this is not a complex topic it should be illustrative enough. "
   ]
  },
  {
   "cell_type": "code",
   "execution_count": 113,
   "metadata": {
    "tags": []
   },
   "outputs": [
    {
     "name": "stdout",
     "output_type": "stream",
     "text": [
      "x: BaseStride{DOUBLE,[3, 4],0,[4, 1]}\n",
      "[[ -1.5285733087491937  -0.4708157963179278  0.33712668979949495 0.6056847504770257  ]  \n",
      " [ -1.8994827779694794   0.887362491692914  -0.29339256527527546 1.0316995525580686  ]  \n",
      " [  0.02861757909146721  0.8885850705432026  2.2750652617591403  0.12548109119679596 ]] \n",
      "y: BaseStride{DOUBLE,[3, 4],0,[4, 1]}\n",
      "[[ -2.2505483550982075  -1.0151587362276921 -1.1018169293694524   0.4532518772748631 ]  \n",
      " [  0.49485598640562944  1.405763675179167  -0.22842427438078736  1.190918215680208  ]  \n",
      " [  1.498037582251328   -1.0610880720937954 -0.11719649520646738 -1.0454881406223726 ]] \n"
     ]
    }
   ],
   "source": [
    "var x = dm.random(dt, Shape.of(3,4), random);\n",
    "print(\"x: \", x);\n",
    "var y = dm.random(dt, Shape.of(3,4), random);\n",
    "print(\"y: \", y);"
   ]
  },
  {
   "cell_type": "code",
   "execution_count": 114,
   "metadata": {
    "tags": []
   },
   "outputs": [
    {
     "name": "stdout",
     "output_type": "stream",
     "text": [
      "x*y: BaseStride{DOUBLE,[3, 4],0,[4, 1]}\n",
      "[[  3.4401281456525226  0.4779527687861421 -0.37145189416336744  0.27452775019046893 ]  \n",
      " [ -0.939970423752592   1.2474219575383738  0.06701798383172258  1.2286697902505241  ]  \n",
      " [  0.0428702089920677 -0.942867019394016  -0.2666296750441555  -0.13118899271860457 ]] \n"
     ]
    }
   ],
   "source": [
    "// elementwise multiplication\n",
    "print(\"x*y: \", x.mul(y));"
   ]
  },
  {
   "cell_type": "code",
   "execution_count": 119,
   "metadata": {
    "tags": []
   },
   "outputs": [
    {
     "data": {
      "text/plain": [
       "BaseStride{DOUBLE,[3, 4],0,[4, 1]}\n",
       "[[ -3.779121663847401    -1.48597453254562   -0.7646902395699575   1.0589366277518888  ]  \n",
       " [ -1.0337173223435643    0.9349478788612391  0.10870241541870759  1.7966029661572338  ]  \n",
       " [ -0.030535726497865623 -1.5319038684117232  0.21993019459302757 -0.43980339014534686 ]] \n"
      ]
     },
     "execution_count": 119,
     "metadata": {},
     "output_type": "execute_result"
    }
   ],
   "source": [
    "// add first row of x to each row of y, no squeeze for broadcasting purposes\n",
    "y.add(x.sel(0,0))"
   ]
  },
  {
   "cell_type": "code",
   "execution_count": 121,
   "metadata": {
    "tags": []
   },
   "outputs": [
    {
     "data": {
      "text/plain": [
       "BaseStride{DOUBLE,[3, 4],0,[4, 1]}\n",
       "[[ -3.779121663847401  -2.5437320449768857 -2.630390238118646   -1.0753214314743307 ]  \n",
       " [ -1.40462679156385   -0.4937191027903125 -2.127907052350267   -0.7085645622892713 ]  \n",
       " [  1.5266551613427952 -1.0324704930023283 -0.08857891611500017 -1.0168705615309055 ]] \n"
      ]
     },
     "execution_count": 121,
     "metadata": {},
     "output_type": "execute_result"
    }
   ],
   "source": [
    "// add first columns of x to all columns of y\n",
    "y.add(x.sel(1,0)) "
   ]
  },
  {
   "cell_type": "code",
   "execution_count": 122,
   "metadata": {
    "tags": []
   },
   "outputs": [
    {
     "data": {
      "text/plain": [
       "BaseStride{DOUBLE,[3, 4],0,[4, 1]}\n",
       "[[ -15.285733087491938  -4.7081579631792785  3.3712668979949494  6.056847504770257  ]  \n",
       " [ -18.994827779694795   8.87362491692914   -2.9339256527527544 10.316995525580685  ]  \n",
       " [   0.2861757909146721  8.885850705432025  22.750652617591403   1.2548109119679596 ]] \n"
      ]
     },
     "execution_count": 122,
     "metadata": {},
     "output_type": "execute_result"
    }
   ],
   "source": [
    "// multiply x by 10\n",
    "x.mul(10)"
   ]
  },
  {
   "cell_type": "markdown",
   "metadata": {
    "tags": []
   },
   "source": [
    "## Broadcasting"
   ]
  },
  {
   "cell_type": "markdown",
   "metadata": {
    "tags": []
   },
   "source": [
    "Broadcasting is a useful this which is permitted by many operations. In general two or more darrays have shapes which allows broadcast if they can be expandedn into the same shape. \n",
    "\n",
    "For that the shape dimensions are considered from the last to the first and are broadcastable if one of the following rules applies:\n",
    "* dimension sizes are the same\n",
    "* if dimensions are different, than the different ones has to be equal with 1\n",
    "* if the dimension does not exist in some darrays"
   ]
  },
  {
   "cell_type": "markdown",
   "metadata": {
    "tags": []
   },
   "source": [
    "For example those two shapes are compatible from a broadcast perspective: `[3,1]` and `[4,3,2]`. The final shape is `[4,3,2]`. Starting from the last dimensions of each shape we have:\n",
    "* `2` and `1` is fine since one of them is `1`\n",
    "* `3` and `3` is fine since they are equal\n",
    "* `4` and nothing is fine since in the first shape the dimension does not exists.\n",
    "\n",
    "Another example is `[3,1]` and `[4,3]`. The last dimension is fine since one of them is `1`, but the second dimension is not compatible since we have two non unit values which are not the same."
   ]
  },
  {
   "cell_type": "markdown",
   "metadata": {
    "tags": []
   },
   "source": [
    "## Matrix decompositions\n",
    "\n",
    "Some fundamental matrix decompositions are available. Usually those can be found as operations with an abbreviated name. Some examples includes singluar value decomposition (`svd`), eigenvalue decomposition (`eig`), or QR decomposition `qr`."
   ]
  },
  {
   "cell_type": "code",
   "execution_count": 123,
   "metadata": {
    "tags": []
   },
   "outputs": [
    {
     "data": {
      "text/plain": [
       "BaseStride{DOUBLE,[4, 2],0,[2, 1]}\n",
       "[[  0.6361279479926422  -0.6172197473748315  ]  \n",
       " [ -1.8181438301923445   1.1729386424067931  ]  \n",
       " [  0.07900276313914616  1.2447874059623922  ]  \n",
       " [ -1.9844997059415475  -0.10766658716227985 ]] \n"
      ]
     },
     "execution_count": 123,
     "metadata": {},
     "output_type": "execute_result"
    }
   ],
   "source": [
    "var x = dm.random(dt, Shape.of(4,2), random);\n",
    "x"
   ]
  },
  {
   "cell_type": "code",
   "execution_count": 124,
   "metadata": {
    "tags": []
   },
   "outputs": [
    {
     "data": {
      "text/plain": [
       "BaseStride{DOUBLE,[4, 2],0,[2, 1]}\n",
       "[[  0.2817638016148232  -0.20876224601690369 ]  \n",
       " [ -0.7271591597851701   0.24398018400409158 ]  \n",
       " [ -0.13972379508283667  0.762454625454768   ]  \n",
       " [ -0.6101851993679768  -0.561742769044637   ]] \n"
      ]
     },
     "metadata": {},
     "output_type": "display_data"
    },
    {
     "data": {
      "text/plain": [
       "BaseStride{DOUBLE,[2, 2],0,[2, 1]}\n",
       "[[ 2.9299797593408785 0                 ]  \n",
       " [ 0                  1.545263064412203 ]] \n"
      ]
     },
     "metadata": {},
     "output_type": "display_data"
    },
    {
     "data": {
      "text/plain": [
       "BaseStride{DOUBLE,[2, 2],0,[2, 1]}\n",
       "[[  0.921914748075446  0.3873928203787299 ]  \n",
       " [ -0.3873928203787299 0.921914748075446  ]] \n"
      ]
     },
     "metadata": {},
     "output_type": "display_data"
    },
    {
     "name": "stdout",
     "output_type": "stream",
     "text": [
      "BaseStride{DOUBLE,[4, 2],0,[2, 1]}\n",
      "[[  0.6361279479926425  -0.6172197473748319  ]  \n",
      " [ -1.8181438301923445   1.1729386424067934  ]  \n",
      " [  0.07900276313914617  1.244787405962392   ]  \n",
      " [ -1.9844997059415475  -0.10766658716227961 ]] \n",
      "\n",
      "rank of x: 2\n"
     ]
    }
   ],
   "source": [
    "// singular value decomposition\n",
    "var u = x.svd().u();\n",
    "var s = x.svd().s();\n",
    "var v = x.svd().v();\n",
    "\n",
    "display(u);\n",
    "display(s);\n",
    "display(v);\n",
    "\n",
    "// reconstruction of x\n",
    "println(u.mm(s).mm(v.t()));\n",
    "\n",
    "println(\"rank of x: \", x.svd().rank());"
   ]
  },
  {
   "cell_type": "code",
   "execution_count": 125,
   "metadata": {
    "tags": []
   },
   "outputs": [
    {
     "data": {
      "text/plain": [
       "BaseStride{DOUBLE,[4, 2],0,[2, 1]}\n",
       "[[ -0.22992063054943812   0.26478107732655    ]  \n",
       " [  0.6571457474656174   -0.39553285632675306 ]  \n",
       " [ -0.028554578011262734 -0.774625348710149   ]  \n",
       " [  0.7172730347017114    0.4164136282489701  ]] \n"
      ]
     },
     "execution_count": 125,
     "metadata": {},
     "output_type": "execute_result"
    }
   ],
   "source": [
    "// QR decomposition\n",
    "x.qr().q()"
   ]
  },
  {
   "cell_type": "code",
   "execution_count": 126,
   "metadata": {
    "tags": []
   },
   "outputs": [
    {
     "name": "stdout",
     "output_type": "stream",
     "text": [
      "norm of the first vector column: 1.0\n",
      "inner product of the two column vectors: -1.1102230246251565E-16\n"
     ]
    }
   ],
   "source": [
    "// q is orthogonal\n",
    "var q = x.qr().q();\n",
    "println(\"norm of the first vector column: \", q.selsq(1,0).inner(q.selsq(1,0)));\n",
    "println(\"inner product of the two column vectors: \", q.selsq(1,0).inner(q.selsq(1,1)));"
   ]
  },
  {
   "cell_type": "code",
   "execution_count": 127,
   "metadata": {
    "tags": []
   },
   "outputs": [
    {
     "name": "stdout",
     "output_type": "stream",
     "text": [
      "BaseStride{DOUBLE,[4, 2],0,[2, 1]}\n",
      "[[  0.6361279479926422  -0.6172197473748315  ]  \n",
      " [ -1.8181438301923445   1.1729386424067931  ]  \n",
      " [  0.07900276313914616  1.2447874059623922  ]  \n",
      " [ -1.9844997059415475  -0.10766658716227985 ]] \n",
      "\n",
      "BaseStride{DOUBLE,[4, 2],0,[2, 1]}\n",
      "[[  0.6361279479926424  -0.6172197473748319  ]  \n",
      " [ -1.8181438301923445   1.1729386424067934  ]  \n",
      " [  0.07900276313914616  1.2447874059623922  ]  \n",
      " [ -1.9844997059415475  -0.10766658716227961 ]] \n",
      "\n"
     ]
    }
   ],
   "source": [
    "var r = x.qr().r();\n",
    "// basic reconstruction\n",
    "println(x);\n",
    "println(q.mm(r));"
   ]
  },
  {
   "cell_type": "code",
   "execution_count": 128,
   "metadata": {
    "tags": []
   },
   "outputs": [
    {
     "name": "stdout",
     "output_type": "stream",
     "text": [
      "BaseStride{DOUBLE,[2, 4],0,[4, 1]}\n",
      "[[  0.036320585240459106 -0.16763468886331098 0.14718115937257473 -0.3328212975331378 ]  \n",
      " [ -0.16180294996768088   0.24170300842111697 0.4733596063833143  -0.2544628722630875 ]] \n",
      "\n",
      "BaseStride{DOUBLE,[2, 2],0,[2, 1]}\n",
      "[[ 1                                0.000000000000000020816681711722 ]  \n",
      " [ 0.000000000000000111022302462516 0.9999999999999998               ]] \n",
      "\n"
     ]
    }
   ],
   "source": [
    "// compute inverse of a matrix using QR decomposition\n",
    "var xinv = x.qr().inv();\n",
    "println(xinv);\n",
    "println(xinv.mm(x));"
   ]
  },
  {
   "cell_type": "code",
   "execution_count": 129,
   "metadata": {
    "tags": []
   },
   "outputs": [
    {
     "data": {
      "text/plain": [
       "BaseStride{DOUBLE,[4, 4],0,[4, 1]}\n",
       "[[ -0.49758468945193496 -1.0132661955212037   0.32412832230201005 -0.09621157577897815 ]  \n",
       " [  0.4697629891272382   0.1828448903276828   0.2929344449586873   0.5481846346779728  ]  \n",
       " [  0.540154011556269    0.048310210027802405 0.508817643512376   -0.6794242890120057  ]  \n",
       " [ -0.8353294656427067   0.22605997033318354  0.3121699630678687   1.1690569997934266  ]] \n"
      ]
     },
     "execution_count": 129,
     "metadata": {},
     "output_type": "execute_result"
    }
   ],
   "source": [
    "var x = dm.random(dt, Shape.of(4, 4), random);\n",
    "x"
   ]
  },
  {
   "cell_type": "code",
   "execution_count": 130,
   "metadata": {
    "tags": []
   },
   "outputs": [
    {
     "data": {
      "text/plain": [
       "BaseStride{DOUBLE,[4],0,[1]}\n",
       "[ 0.1134234001306074 1.9931310312370873 -1.0857473539685625 -0.4411475957936394 ] \n"
      ]
     },
     "execution_count": 130,
     "metadata": {},
     "output_type": "execute_result"
    }
   ],
   "source": [
    "var y = dm.random(dt, Shape.of(4), random);\n",
    "y"
   ]
  },
  {
   "cell_type": "code",
   "execution_count": 131,
   "metadata": {
    "tags": []
   },
   "outputs": [
    {
     "data": {
      "text/plain": [
       "BaseStride{DOUBLE,[4, 4],0,[4, 1]}\n",
       "[[ -0.05643774733057084  -2.019572297196857   -0.35192146828567683  0.042443505342413756 ]  \n",
       " [  0.053282115482328904  0.36443382481524655 -0.31805279850014423 -0.24183033363920223  ]  \n",
       " [  0.06126610458489942   0.09628857873199409 -0.5524474100960816   0.2997263916214491   ]  \n",
       " [ -0.09474590822247919   0.45056714179160345 -0.3389377113894023  -0.5157266848045953   ]] \n"
      ]
     },
     "execution_count": 131,
     "metadata": {},
     "output_type": "execute_result"
    }
   ],
   "source": [
    "x.mul(y)"
   ]
  },
  {
   "cell_type": "code",
   "execution_count": 132,
   "metadata": {
    "tags": []
   },
   "outputs": [
    {
     "data": {
      "text/plain": [
       "BaseStride{DOUBLE,[4, 4],0,[4, 1]}\n",
       "[[ -0.05643774733057084 -0.11492809713341975   0.036763736394123364 -0.010912644056775294 ]  \n",
       " [  0.9362991909561889   0.36443382481524655   0.5838567323653723    1.092603806224034    ]  \n",
       " [ -0.5864707887827233  -0.052452682707351976 -0.5524474100960816    0.7376831240167571   ]  \n",
       " [  0.3685035854638656  -0.09972581241766536  -0.13771302868637947  -0.5157266848045953   ]] \n"
      ]
     },
     "execution_count": 132,
     "metadata": {},
     "output_type": "execute_result"
    }
   ],
   "source": [
    "x.mul(y.stretch(1)) "
   ]
  },
  {
   "cell_type": "code",
   "execution_count": 133,
   "metadata": {},
   "outputs": [
    {
     "data": {
      "text/plain": [
       "BaseStride{DOUBLE,[4, 4],0,[4, 1]}\n",
       "[[ -0.05643774733057084  -2.019572297196857   -0.35192146828567683  0.042443505342413756 ]  \n",
       " [  0.053282115482328904  0.36443382481524655 -0.31805279850014423 -0.24183033363920223  ]  \n",
       " [  0.06126610458489942   0.09628857873199409 -0.5524474100960816   0.2997263916214491   ]  \n",
       " [ -0.09474590822247919   0.45056714179160345 -0.3389377113894023  -0.5157266848045953   ]] \n"
      ]
     },
     "execution_count": 133,
     "metadata": {},
     "output_type": "execute_result"
    }
   ],
   "source": [
    "x.mul(y.stretch(0))"
   ]
  },
  {
   "cell_type": "markdown",
   "metadata": {},
   "source": [
    "## Further reading\n",
    "\n",
    "Unfortunatelly there is not solid documentation other than the javadoc and that is still not complete. My personal take on that is to complete the javadoc documentation after a solidification of the API, and I still want to use it more to be content with how methods looks like. So I cannot send you to read the documentation. But if you are like me, you should take a look on the source code. The file which declares the methods from a darray has more than two thousand lines of code. There are plenty of methods implemented. It needs time to document all of that. \n",
    "\n",
    "But if you still survived up until this moment, I hope you will have enough courage to play with the sources and the library itself. If you do, please let me know and if yo"
   ]
  }
 ],
 "metadata": {
  "kernelspec": {
   "display_name": "Java (rjk 2.2.0 preview23)",
   "language": "java",
   "name": "rapaio-jupyter-kernel-preview23"
  },
  "language_info": {
   "codemirror_mode": "java",
   "file_extension": ".jshell",
   "mimetype": "text/x-java-source",
   "name": "java",
   "nbconvert_exporter": "script",
   "pygments_lexer": "java",
   "version": "23.0.1+8-FR"
  }
 },
 "nbformat": 4,
 "nbformat_minor": 4
}
