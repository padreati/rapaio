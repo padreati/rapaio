{
 "cells": [
  {
   "cell_type": "markdown",
   "id": "26ea71dd-29f9-47ef-a1d3-70d4a1f0e9e0",
   "metadata": {},
   "source": [
    "# Tensors and Neural Networks"
   ]
  },
  {
   "cell_type": "markdown",
   "id": "ec9ac428-9b3e-46c0-9d38-b5f956c009fc",
   "metadata": {},
   "source": [
    "This tutorial is an introduction to the concept of tensors and neural networks as were implemented in `rapaio-lib.7.0.1`. It is not a comprehensive detailed presentation, but it should be enough to give you a glimpse about how neural networks works in this library. If you have knowledge about Pytorch, many concepts should be similar since many ideas were used as a source of inspiration."
   ]
  },
  {
   "cell_type": "code",
   "execution_count": 1,
   "id": "fe0392be-79b2-4741-9094-b0d8318da879",
   "metadata": {},
   "outputs": [
    {
     "name": "stdout",
     "output_type": "stream",
     "text": [
      "Adding dependency \u001b[0m\u001b[1m\u001b[32mio.github.padreati:rapaio-lib:7.0.1\n",
      "\u001b[0mSolving dependencies\n",
      "Resolved artifacts count: 1\n",
      "Add to classpath: \u001b[0m\u001b[32m/home/ati/work/rapaio-jupyter-kernel/target/mima_cache/io/github/padreati/rapaio-lib/7.0.1/rapaio-lib-7.0.1.jar\u001b[0m\n",
      "\u001b[0m"
     ]
    }
   ],
   "source": [
    "%load ../../rapaio-bootstrap.ipynb"
   ]
  },
  {
   "cell_type": "markdown",
   "id": "f71b81a4-7eb3-4ed5-b1cd-7da7660fef03",
   "metadata": {},
   "source": [
    "## What is a Tensor"
   ]
  },
  {
   "cell_type": "markdown",
   "id": "73b6f24d-8007-46bd-a93b-a64188076033",
   "metadata": {},
   "source": [
    "A tensor is an object which handles multidimensional array values and has gradients attached to them. Both tensor values and gradients are darrays (multidimensional arrays implemented by `DArray<? extends Number>`). This is different from other similar tensor libraries like Pytorch, where tensor objects are multidimensional arrays. \n",
    "\n",
    "This is a design decision aimed to separate tensor logic (connected with computatinal nodes, gradients, autodifferentiation, and in the end with neural networks) from linear algebra implementation (which resides in darrays). The benefit of this separation is that instead of working with one big problem, we work with two separate smaller problems. \n",
    "\n",
    "Thus, the two main properties of a tensor are its value and its gradient. If the tensor is not created from scratch (like variables), its values its computed at the creation time. For tensor variables their value can be assigned later, but it must be available before the tensor is used in any operation. Building tensors and performing operations with them (which produces also tensors) creates a computational graph. In this computational graph tensor variables are leaves, and tensors created as a result of an operation creates intermediate nodes. During operations no gradient is created. \n",
    "\n",
    "Tensors are used mostly in neural networks, but they can be used for other purposes, also. There is not any dependence of tensors to neural networks (the reverse is not true). In neural networks there are usual two main processes: inference and training. During inference no gradient is computed, only the tensor values are created in the computational graph. Training a neural network performs the inference part, but later it uses the errors to backpropagate them to tensors in the form of gradients. Later, those gradients are used to update network parameters to adjust their values. \n",
    "\n",
    "`rapaio-lib-7.0.1` implements an algorithm for autodifferentiation in reverse mode. This is contained in the class `Autograd`. There are many tutorial explaining what autodifferentiation in reverse mode is, this tutorial will not contain those details. We will describe brefly the process and other separate pages needs to be created to present them in detail. "
   ]
  },
  {
   "cell_type": "markdown",
   "id": "7f8953f7-12cc-4c27-842a-408a8d8b14dc",
   "metadata": {},
   "source": [
    "### TensorManager"
   ]
  },
  {
   "cell_type": "markdown",
   "id": "889dcafb-cb2f-45ad-b9e8-86263e0147f4",
   "metadata": {},
   "source": [
    "A `TensorManager` is responsible for handling internal computation and tracking details when someone is working with tensors. It also the object responsible with the creation tensor variable. A tensor manager needs to be created before starting to work with tensors. Tensor manager implements `AutoClosable`, thus a good practice would be to close the tensor manager after we finished the work with it. Use a `try` block or close it explicitly. \n",
    "\n",
    "The current implementation does not deallocate tensors and their underlying darrays, but in the future it is very possible if implementations of darrays will be provided which would work with foreign memory. A tensor manager instance should work like a context manager in python, but since Java does not provide such language facility, we need to pass the instance of tensor manager to most of the involved objects. Also, a tensor manager has a default type. This type is the data type used to create intermediate tensors and affects also computation. Thus, if one wants to switch between double and float, the easiest way would be to create a tensor manager instance with appropriate type and the rest of the code could remain the same. "
   ]
  },
  {
   "cell_type": "code",
   "execution_count": 2,
   "id": "055a3e8c-13b0-4b62-a6f7-376b3c2825b6",
   "metadata": {},
   "outputs": [],
   "source": [
    "TensorManager tm = TensorManager.ofFloat();\n",
    "tm.seed(42);"
   ]
  },
  {
   "cell_type": "markdown",
   "id": "365e75f5-5bca-401e-99de-56a39e71663d",
   "metadata": {},
   "source": [
    "The previous lines of code creates a tensor manager with float as default value type and fixes a seed for randomization. If no parallelism is used, the randomization should produce reproducible results."
   ]
  },
  {
   "cell_type": "markdown",
   "id": "b2b229e5-4e21-467f-b8a1-8c190204d9c5",
   "metadata": {},
   "source": [
    "## Tensors and computational graphs"
   ]
  },
  {
   "cell_type": "markdown",
   "id": "262bb8fa-b538-4b14-bcc5-f52abdab40ca",
   "metadata": {},
   "source": [
    "One can simply create tensor variables using the available methods from tensor manager."
   ]
  },
  {
   "cell_type": "code",
   "execution_count": 33,
   "id": "8a41d876-885f-4db2-8306-be0ddcf73346",
   "metadata": {},
   "outputs": [
    {
     "name": "stdout",
     "output_type": "stream",
     "text": [
      "name:(x)\n",
      "val:\n",
      "grad:null"
     ]
    }
   ],
   "source": [
    "var x = tm.var().name(\"x\").requiresGrad(true);\n",
    "print(x);"
   ]
  },
  {
   "cell_type": "markdown",
   "id": "3a12afff-2d35-4702-86e9-917a643e0c65",
   "metadata": {},
   "source": [
    "We created a new tensor variable with no value, the gradient is null since it is not computed and its name is `x`. We can assign a value to the tensor. This can also be done at creation time. Notice that we explicitly requested the gradient computation. By default any avriable does not request to compute any gradient. If you want to change that, this must be requeste explicitly."
   ]
  },
  {
   "cell_type": "code",
   "execution_count": 34,
   "id": "be920e06-e3da-49f7-99fa-6eb5e03b8e5d",
   "metadata": {},
   "outputs": [
    {
     "name": "stdout",
     "output_type": "stream",
     "text": [
      "name:(x)\n",
      "val:BaseStride{FLOAT,[3, 4],0,[4, 1]}\n",
      "[[ 0.5165038704872131  1.332271933555603   -0.8554643392562866    0.8746757507324219  ]  \n",
      " [ 0.3263845145702362 -0.09187350422143936 -0.5084207653999329    0.10020556300878525 ]  \n",
      " [ 0.3454208970069885 -1.1442604064941406  -0.006700537167489529 -1.9218206405639648  ]] \n",
      "grad:null"
     ]
    }
   ],
   "source": [
    "x.setValue(tm.randomArray(Shape.of(3,4), tm.random()));\n",
    "print(x)"
   ]
  },
  {
   "cell_type": "markdown",
   "id": "cfd7e72e-f319-4b2c-bd32-f9499537c0f1",
   "metadata": {},
   "source": [
    "Notice that now the tensor has a value, the gradient still missing. Let's compute some other things."
   ]
  },
  {
   "cell_type": "code",
   "execution_count": 35,
   "id": "5992555a-7550-4c18-9296-15c41464cff4",
   "metadata": {},
   "outputs": [
    {
     "name": "stdout",
     "output_type": "stream",
     "text": [
      "name:(Sqr)\n",
      "val:BaseStride{FLOAT,[3, 4],0,[4, 1]}\n",
      "[[ 0.2667762339115143  1.7749484777450562   0.731819212436676      0.7650576829910278  ]  \n",
      " [ 0.10652685165405273 0.008440740406513214 0.2584916651248932     0.01004115492105484 ]  \n",
      " [ 0.11931559443473816 1.3093318939208984   0.00004489719867706299 3.693394660949707   ]] \n",
      "grad:null"
     ]
    }
   ],
   "source": [
    "var sqr = x.sqr();\n",
    "print(sqr);"
   ]
  },
  {
   "cell_type": "code",
   "execution_count": 36,
   "id": "148575f2-55a0-439a-8e53-12ef289be8f6",
   "metadata": {},
   "outputs": [
    {
     "name": "stdout",
     "output_type": "stream",
     "text": [
      "name:(Sum)\n",
      "val:BaseStride{FLOAT,[],0,[]}\n",
      " 9.044189453125  \n",
      "grad:null"
     ]
    }
   ],
   "source": [
    "var sum = sqr.sum();\n",
    "print(sum);"
   ]
  },
  {
   "cell_type": "markdown",
   "id": "46887571-f359-4110-ba71-332408f9170f",
   "metadata": {},
   "source": [
    "Notice that the sum is a scalar, since we called a reduce operation on the whole range. If we have a scalar node as a result of the computation, we can set its gradient to `1`, and we can call autodiff engine to compute derivatives. \n",
    "\n",
    "**Note:** it is important to call autodiff engine on a tensor with a scalar values. This is needed in order to be able to compute gradients."
   ]
  },
  {
   "cell_type": "code",
   "execution_count": 37,
   "id": "03df9691-e546-4391-9644-4e5db5da2134",
   "metadata": {},
   "outputs": [
    {
     "name": "stdout",
     "output_type": "stream",
     "text": [
      "name:(Sum)\n",
      "val:BaseStride{FLOAT,[],0,[]}\n",
      " 9.044189453125  \n",
      "grad:BaseStride{FLOAT,[],0,[]}\n",
      " 1  \n"
     ]
    }
   ],
   "source": [
    "sum.setGrad(tm.scalarArray(1));\n",
    "print(sum);"
   ]
  },
  {
   "cell_type": "code",
   "execution_count": 38,
   "id": "822db25b-9f85-47dc-8c82-0526bfb4a273",
   "metadata": {},
   "outputs": [],
   "source": [
    "var cgraph = Autograd.backward(sum);"
   ]
  },
  {
   "cell_type": "markdown",
   "id": "64b1cc0a-4069-41cc-ad02-763ba863e50d",
   "metadata": {},
   "source": [
    "The previous line of code calls the autodifferentiation engine which will trace back the tensors which needs to have a computed gradient and performs gradient computations. We can see now the gradients of our created tensors."
   ]
  },
  {
   "cell_type": "code",
   "execution_count": 39,
   "id": "8e9d2a21-a922-4c6d-87f1-d8c1694b8aaa",
   "metadata": {},
   "outputs": [
    {
     "name": "stdout",
     "output_type": "stream",
     "text": [
      "name:(x)\n",
      "val:BaseStride{FLOAT,[3, 4],0,[4, 1]}\n",
      "[[ 0.5165038704872131  1.332271933555603   -0.8554643392562866    0.8746757507324219  ]  \n",
      " [ 0.3263845145702362 -0.09187350422143936 -0.5084207653999329    0.10020556300878525 ]  \n",
      " [ 0.3454208970069885 -1.1442604064941406  -0.006700537167489529 -1.9218206405639648  ]] \n",
      "grad:BaseStride{FLOAT,[3, 4],0,[4, 1]}\n",
      "[[ 1.0330077409744263  2.664543867111206   -1.7109286785125732    1.7493515014648438 ]  \n",
      " [ 0.6527690291404724 -0.18374700844287872 -1.0168415307998657    0.2004111260175705 ]  \n",
      " [ 0.690841794013977  -2.2885208129882812  -0.013401074334979057 -3.8436412811279297 ]] \n",
      "name:(Sqr)\n",
      "val:BaseStride{FLOAT,[3, 4],0,[4, 1]}\n",
      "[[ 0.2667762339115143  1.7749484777450562   0.731819212436676      0.7650576829910278  ]  \n",
      " [ 0.10652685165405273 0.008440740406513214 0.2584916651248932     0.01004115492105484 ]  \n",
      " [ 0.11931559443473816 1.3093318939208984   0.00004489719867706299 3.693394660949707   ]] \n",
      "grad:BaseStride{FLOAT,[3, 4],0,[0, 0]}\n",
      "[[ 1 1 1 1 ]  \n",
      " [ 1 1 1 1 ]  \n",
      " [ 1 1 1 1 ]] \n",
      "name:(Sum)\n",
      "val:BaseStride{FLOAT,[],0,[]}\n",
      " 9.044189453125  \n",
      "grad:BaseStride{FLOAT,[],0,[]}\n",
      " 1  \n"
     ]
    }
   ],
   "source": [
    "print(x, sqr, sum);"
   ]
  },
  {
   "cell_type": "markdown",
   "id": "7b2e4f86-dbda-41e2-9cd4-655e6a12feec",
   "metadata": {},
   "source": [
    "We displayed manually the objects from the computed graph. This is not needed since we can use the result of `Autograd.backward` call which is an object which helps us to navigate through what happened behind the scenes. One useful method is to print all the tensors involved in gradient computing."
   ]
  },
  {
   "cell_type": "code",
   "execution_count": 41,
   "id": "611a1378-193a-4982-8a39-10ddbefb2e39",
   "metadata": {},
   "outputs": [
    {
     "name": "stdout",
     "output_type": "stream",
     "text": [
      "name:(Sum)\n",
      "val:BaseStride{FLOAT,[],0,[]}\n",
      " 9.044189453125  \n",
      "grad:BaseStride{FLOAT,[],0,[]}\n",
      " 1  \n",
      "\n",
      "name:(Sqr)\n",
      "val:BaseStride{FLOAT,[3, 4],0,[4, 1]}\n",
      "[[ 0.2667762339115143  1.7749484777450562   0.731819212436676      0.7650576829910278  ]  \n",
      " [ 0.10652685165405273 0.008440740406513214 0.2584916651248932     0.01004115492105484 ]  \n",
      " [ 0.11931559443473816 1.3093318939208984   0.00004489719867706299 3.693394660949707   ]] \n",
      "grad:BaseStride{FLOAT,[3, 4],0,[0, 0]}\n",
      "[[ 1 1 1 1 ]  \n",
      " [ 1 1 1 1 ]  \n",
      " [ 1 1 1 1 ]] \n",
      "\n",
      "name:(x)\n",
      "val:BaseStride{FLOAT,[3, 4],0,[4, 1]}\n",
      "[[ 0.5165038704872131  1.332271933555603   -0.8554643392562866    0.8746757507324219  ]  \n",
      " [ 0.3263845145702362 -0.09187350422143936 -0.5084207653999329    0.10020556300878525 ]  \n",
      " [ 0.3454208970069885 -1.1442604064941406  -0.006700537167489529 -1.9218206405639648  ]] \n",
      "grad:BaseStride{FLOAT,[3, 4],0,[4, 1]}\n",
      "[[ 1.0330077409744263  2.664543867111206   -1.7109286785125732    1.7493515014648438 ]  \n",
      " [ 0.6527690291404724 -0.18374700844287872 -1.0168415307998657    0.2004111260175705 ]  \n",
      " [ 0.690841794013977  -2.2885208129882812  -0.013401074334979057 -3.8436412811279297 ]] \n",
      "\n"
     ]
    }
   ],
   "source": [
    "cgraph.printTensors()"
   ]
  },
  {
   "cell_type": "markdown",
   "id": "fb41acb8-3112-4bbf-a9d3-72dc1e76df30",
   "metadata": {},
   "source": [
    "Another useful method available in the computing graph helper is `resetGrad` which sets to null all the gradients of the involved variables. This is useful if we want to clean up the mess. After calling this method we can see no other tensor have gradients."
   ]
  },
  {
   "cell_type": "code",
   "execution_count": 46,
   "id": "20f46442-2c48-4200-83fa-b748c676b4cf",
   "metadata": {},
   "outputs": [
    {
     "name": "stdout",
     "output_type": "stream",
     "text": [
      "name:(Sum)\n",
      "val:BaseStride{FLOAT,[],0,[]}\n",
      " 9.044189453125  \n",
      "grad:null\n",
      "name:(Sqr)\n",
      "val:BaseStride{FLOAT,[3, 4],0,[4, 1]}\n",
      "[[ 0.2667762339115143  1.7749484777450562   0.731819212436676      0.7650576829910278  ]  \n",
      " [ 0.10652685165405273 0.008440740406513214 0.2584916651248932     0.01004115492105484 ]  \n",
      " [ 0.11931559443473816 1.3093318939208984   0.00004489719867706299 3.693394660949707   ]] \n",
      "grad:null\n",
      "name:(x)\n",
      "val:BaseStride{FLOAT,[3, 4],0,[4, 1]}\n",
      "[[ 0.5165038704872131  1.332271933555603   -0.8554643392562866    0.8746757507324219  ]  \n",
      " [ 0.3263845145702362 -0.09187350422143936 -0.5084207653999329    0.10020556300878525 ]  \n",
      " [ 0.3454208970069885 -1.1442604064941406  -0.006700537167489529 -1.9218206405639648  ]] \n",
      "grad:null\n"
     ]
    }
   ],
   "source": [
    "cgraph.resetGrad();\n",
    "cgraph.printTensors();"
   ]
  },
  {
   "cell_type": "markdown",
   "id": "9cb1600e-cd71-4ffc-b87a-8008e0f7464e",
   "metadata": {},
   "source": [
    "## Anatomy of training a neural network"
   ]
  },
  {
   "cell_type": "markdown",
   "id": "59e33b43-98d7-4662-b47b-0d58ce07a0f0",
   "metadata": {},
   "source": [
    "For those familiar with Pytorch, the components involved in training a neural network are very similar. Anyway, we will try to presents all the components briefly and explain what they do and why they are needed.\n",
    "\n",
    "So we want to train a neural network. How to start?\n",
    "\n",
    "### Network\n",
    "\n",
    "The first step would be to create a neural network in the first place. We need to have something to train. The details and some examples will be provided below, but for now we can consider that somehow we create a network. A network in an object which implements `Network`. This is our model. We use this model to do inferences and we use this model to improve it using training.\n",
    "\n",
    "Another critical ingredient is data, precisely labeled data. In most cases learning in machine learning means extracting knowledge from past experiences and use that knowledge to do predictions for new situations. Labeled data represents that knowledge quantified in numbers (most of the time). This labeled data should come in the form of ... tensors (yeah, it was not hard to guess it). \n",
    "\n",
    "### TabularDataset\n",
    "\n",
    "When we train a network, we can use directly tensors as inputs, or we can use some helper classes to make this process easier. One of those classes is `TabularDataset`. A `TabulatDataset` helps us to manage labeled data, to create iterator in that data or batch iterators. As it was said, using a dataset helper is not critical, but can simplify our training process.\n",
    "\n",
    "### Loss function\n",
    "\n",
    "The process of training a neural network implies passing labeled data to the model to compute predictions, we compare those predictions with the expected values (the labels) and compute an error in some form. We may choose how to measure errors and what, actually, errors are. We do that using a loss function. A `Loss` function is a function which computes an error given some predictions and some expected values, and it has an analytical form.\n",
    "\n",
    "### Autograd \n",
    "\n",
    "We take this error information and pass it back in a recursive fashion in the network, so it propagates. This is called backpropagation. After the backpropagated errors are cristalized in form of gradients. One per each intersting tensor from the network. The component which does this is called `Autograd`. \n",
    "\n",
    "### Optimizer\n",
    "\n",
    "After those gradients are computed we use a strategy to transfer information from gradients to their corresponding tensor values. This is the output of the learning, changing the parameter values from a network as a result of measuring errors in the hope that the model now adjusted will predict better in the future. The strategy to transfer information from gradients to its tensor values is called optimization. In rapaio this is a object which implements an `Optimizer`.\n",
    "\n"
   ]
  },
  {
   "cell_type": "markdown",
   "id": "3bac0a60-0758-45cf-83cf-1667bd87c738",
   "metadata": {},
   "source": [
    "These are the required ingredients to train a neural network. For those who have seen similar, much better and famous libraries, those components should look familiar to you.\n",
    "\n",
    "Additionally, to describe the main components of training, we should say that when the whole training data is passed to the model we name that an *epoch*. For various reasons we do not pass all the training data at once, but in small slices. We name those slices *batches* or *mini-batches*. There could be multiple reasons for that, but two of them are often encoutered: the training data simply does not fit the available resources (memory, disk) or training in batches produces better results. After an epoch pass we do it again, and again, until we are content with the results. Rinse and repeat.\n",
    "\n",
    "We can be content if we measure properly how model performs. For this purpose many strategies can be emplyed, but a fundamental one is to split data in training, validation, and test, or simply in training and test. For that purpose tabular dataset helper can make your life easier."
   ]
  },
  {
   "cell_type": "markdown",
   "id": "9ac01d71-fae4-4885-94ba-0bb75dd9dde4",
   "metadata": {},
   "source": [
    "## Hands on example: Iris classifier"
   ]
  },
  {
   "cell_type": "markdown",
   "id": "e820581c-53a6-4232-8584-0cb5e78150a0",
   "metadata": {},
   "source": [
    "For illustration forposes we will train a neural network to classify Iris data set. Iris dataset a as simple as possible, and this was chosen on purpose, since I want you to focus on how training a network happens. It is like a \"Hello world\" program for classification."
   ]
  },
  {
   "cell_type": "markdown",
   "id": "a7645616-2926-49f2-b3a7-16a6cdf3468f",
   "metadata": {},
   "source": [
    "First we need to get a dataset. The iris dataset is already incorporated in the library and we can load it."
   ]
  },
  {
   "cell_type": "code",
   "execution_count": 59,
   "id": "f1780cb3-c878-4da0-b9d8-6c3fa433dc6b",
   "metadata": {},
   "outputs": [
    {
     "name": "stdout",
     "output_type": "stream",
     "text": [
      "Frame Summary\n",
      "=============\n",
      "* rowCount: 150\n",
      "* complete: 150/150\n",
      "* varCount: 5\n",
      "* varNames: \n",
      "\n",
      "0. sepal-length : dbl | 3.  petal-width : dbl | \n",
      "1.  sepal-width : dbl | 4.        class : nom | \n",
      "2. petal-length : dbl | \n",
      "\n",
      "* summary: \n",
      " sepal-length [dbl]      sepal-width [dbl]      petal-length [dbl]      petal-width [dbl]     \n",
      "       Min. : 4.3000000       Min. : 2.0000000        Min. : 1.0000000       Min. : 0.1000000 \n",
      "    1st Qu. : 5.1000000    1st Qu. : 2.8000000     1st Qu. : 1.6000000    1st Qu. : 0.3000000 \n",
      "     Median : 5.8000000     Median : 3.0000000      Median : 4.3500000     Median : 1.3000000 \n",
      "       Mean : 5.8433333       Mean : 3.0573333        Mean : 3.7580000       Mean : 1.1993333 \n",
      "    2nd Qu. : 6.4000000    2nd Qu. : 3.3000000     2nd Qu. : 5.1000000    2nd Qu. : 1.8000000 \n",
      "       Max. : 7.9000000       Max. : 4.4000000        Max. : 6.9000000       Max. : 2.5000000 \n",
      "                                                                                              \n",
      "\n",
      "       class [nom] \n",
      "versicolor :    50 \n",
      "    setosa :    50 \n",
      " virginica :    50 \n",
      "                   \n",
      "                   \n",
      "                   \n",
      "                   \n",
      "\n",
      "\n"
     ]
    }
   ],
   "source": [
    "TensorManager tm = TensorManager.ofFloat();\n",
    "Frame iris = Datasets.loadIrisDataset();\n",
    "iris.printSummary();"
   ]
  },
  {
   "cell_type": "markdown",
   "id": "3ac298a6-5668-420f-904f-07ac27e238ea",
   "metadata": {},
   "source": [
    "This is a `Frame` object, which is the default tabular dataset in the library. We need to create tensors from this tabular data. We create two tensors, one for the input features, which are 4 numerical features, and another tensor for labels, which is the last column named `class`."
   ]
  },
  {
   "cell_type": "code",
   "execution_count": 61,
   "id": "c4ad63b5-6737-4481-9116-1c53bb870516",
   "metadata": {},
   "outputs": [],
   "source": [
    "var x = iris.mapVars(VarRange.of(\"0~3\")).darray().cast(DType.FLOAT);\n",
    "var y = iris.rvar(\"class\").darray().cast(DType.FLOAT);"
   ]
  },
  {
   "cell_type": "markdown",
   "id": "7e30e114-7f42-4af5-a8f7-11d6630c306c",
   "metadata": {},
   "source": [
    "In order to make our life easier, we create a `TabularDataset`. We then split this dataset in two parts, one for training and another one for testing. We use the training data to train the model and the testing data to evaluate its performance."
   ]
  },
  {
   "cell_type": "code",
   "execution_count": 62,
   "id": "9fb59236-18e8-455a-9671-b82e0a2870a9",
   "metadata": {},
   "outputs": [],
   "source": [
    "TabularDataset irisDataset = new TabularDataset(tm, x, y);\n",
    "TabularDataset[] split = irisDataset.trainTestSplit(0.3);\n",
    "TabularDataset train = split[0];\n",
    "TabularDataset test = split[1];"
   ]
  },
  {
   "cell_type": "markdown",
   "id": "502ab50c-1607-4278-84a8-7cce6bc9083b",
   "metadata": {},
   "source": [
    "We establish some parameters. See the inline comments below."
   ]
  },
  {
   "cell_type": "code",
   "execution_count": 63,
   "id": "551c5220-a9b8-4870-bdc0-8e5f3aa301bd",
   "metadata": {},
   "outputs": [],
   "source": [
    "int epochs = 1_000; // number of epochs\n",
    "double lr = 1e-3; // learning rate\n",
    "int batchSize = 30; // number of instances in a batch\n",
    "int hidden = 3; // number of neurons in the hidden layer"
   ]
  },
  {
   "cell_type": "markdown",
   "id": "6a46b468-53cc-4b3c-b1f5-7e40fc9375e9",
   "metadata": {},
   "source": [
    "Than we create the model, the nework object. This model is a simple dense neural network with some layers ordered in sequence. For that purpose we create a Sequence network container (which is also a network; all layers are network in themself).\n",
    "\n",
    "Then we introduce a layer normalization to handle a little bit better the input value range, a dense layer, an ELU activation, another layer normalization, another dense with ELU and finally a logsoftmax to prepare output for classification. "
   ]
  },
  {
   "cell_type": "code",
   "execution_count": 65,
   "id": "749fb65f-8a45-47ae-aeae-7d3fd2a3c4c8",
   "metadata": {},
   "outputs": [],
   "source": [
    "Network nn = new Sequential(\n",
    "    tm,\n",
    "    new LayerNorm(tm, Shape.of(4)),\n",
    "    new Linear(tm, 4, hidden, true),\n",
    "    new ELU(tm),\n",
    "    new LayerNorm(tm, Shape.of(hidden)),\n",
    "    new Linear(tm, hidden, 3, true),\n",
    "    new ELU(tm),\n",
    "    new LogSoftmax(tm, 1)\n",
    ");"
   ]
  },
  {
   "cell_type": "markdown",
   "id": "aaef1c10-2ccd-42d5-b91e-7017fb74dd46",
   "metadata": {},
   "source": [
    "After the model creation we instantiate `Adam` optimizer. This optimizer receives as parameters the tensors which need to be updated in the learning process. Each network describes the tensors which needs to be optimized by implementing `parameters()` method."
   ]
  },
  {
   "cell_type": "code",
   "execution_count": 68,
   "id": "ef7f09a9-78db-4852-b916-3126503d966c",
   "metadata": {},
   "outputs": [],
   "source": [
    "Optimizer optimizer = Optimizer.Adam(tm, nn.parameters()).lr.set(lr);"
   ]
  },
  {
   "cell_type": "markdown",
   "id": "9fe2abbf-e8e5-4ad5-bd44-099a0a540c63",
   "metadata": {},
   "source": [
    "In order to optimize the network we need to have a loss function. `NegativeLikelihoodLoss` is a loss function which works well for classification if the last layer is `LogSoftmax`. "
   ]
  },
  {
   "cell_type": "code",
   "execution_count": 69,
   "id": "9fec755b-3875-4146-a9b9-d2b1bb7834b4",
   "metadata": {},
   "outputs": [],
   "source": [
    "Loss loss = new NegativeLikelihoodLoss(tm);"
   ]
  },
  {
   "cell_type": "markdown",
   "id": "42282d91-b804-4035-85f9-a2bb6168ab23",
   "metadata": {},
   "source": [
    "Next we create some variables which will collect some statistics during learning for later displaying on a graph."
   ]
  },
  {
   "cell_type": "code",
   "execution_count": 70,
   "id": "c30a4ea1-dcf9-4436-b2d3-0df3f26af9fd",
   "metadata": {},
   "outputs": [],
   "source": [
    "var trainLoss = VarDouble.empty().name(\"trainLoss\");\n",
    "var testLoss = VarDouble.empty().name(\"trainLoss\");\n",
    "var accuracy = VarDouble.empty().name(\"accuracy\");"
   ]
  },
  {
   "cell_type": "markdown",
   "id": "b2ce919f-c4b8-4973-a365-5c2c6d32ca00",
   "metadata": {},
   "source": [
    "Next we have the learning loop, one iteration for each epochs."
   ]
  },
  {
   "cell_type": "code",
   "execution_count": 71,
   "id": "4f822314-7c65-4f0e-b359-20fac51a26d8",
   "metadata": {},
   "outputs": [
    {
     "name": "stdout",
     "output_type": "stream",
     "text": [
      "Epoch: 0, train loss:1.0960949063301086, test loss:1.1588517427444458\n",
      "\t error: 0.756, accuracy: 0.244\n",
      "[[ 0 0 15 ]  \n",
      " [ 0 0 19 ]  \n",
      " [ 0 0 11 ]] \n",
      "Epoch: 100, train loss:0.4798036739230156, test loss:0.5300635695457458\n",
      "\t error: 0.156, accuracy: 0.844\n",
      "[[ 15  0  0 ]  \n",
      " [  0 12  7 ]  \n",
      " [  0  0 11 ]] \n",
      "Epoch: 200, train loss:0.21231568232178688, test loss:0.30144450068473816\n",
      "\t error: 0.133, accuracy: 0.867\n",
      "[[ 15  0  0 ]  \n",
      " [  0 14  5 ]  \n",
      " [  0  1 10 ]] \n",
      "Epoch: 300, train loss:0.15421265922486782, test loss:0.16003870964050293\n",
      "\t error: 0.067, accuracy: 0.933\n",
      "[[ 15  0  0 ]  \n",
      " [  0 17  2 ]  \n",
      " [  0  1 10 ]] \n",
      "Epoch: 400, train loss:0.1663175132125616, test loss:0.16192184388637543\n",
      "\t error: 0.067, accuracy: 0.933\n",
      "[[ 15  0  0 ]  \n",
      " [  0 17  2 ]  \n",
      " [  0  1 10 ]] \n",
      "Epoch: 500, train loss:0.12418942805379629, test loss:0.12255069613456726\n",
      "\t error: 0.067, accuracy: 0.933\n",
      "[[ 15  0  0 ]  \n",
      " [  0 17  2 ]  \n",
      " [  0  1 10 ]] \n",
      "Epoch: 600, train loss:0.1114567406475544, test loss:0.13389801979064941\n",
      "\t error: 0.067, accuracy: 0.933\n",
      "[[ 15  0  0 ]  \n",
      " [  0 17  2 ]  \n",
      " [  0  1 10 ]] \n",
      "Epoch: 700, train loss:0.11203782260417938, test loss:0.1294497698545456\n",
      "\t error: 0.067, accuracy: 0.933\n",
      "[[ 15  0  0 ]  \n",
      " [  0 17  2 ]  \n",
      " [  0  1 10 ]] \n",
      "Epoch: 800, train loss:0.11209792830049992, test loss:0.12509234249591827\n",
      "\t error: 0.067, accuracy: 0.933\n",
      "[[ 15  0  0 ]  \n",
      " [  0 17  2 ]  \n",
      " [  0  1 10 ]] \n",
      "Epoch: 900, train loss:0.1057411152869463, test loss:0.13516828417778015\n",
      "\t error: 0.067, accuracy: 0.933\n",
      "[[ 15  0  0 ]  \n",
      " [  0 17  2 ]  \n",
      " [  0  1 10 ]] \n"
     ]
    }
   ],
   "source": [
    "for (int epoch = 0; epoch < epochs; epoch++) {\n",
    "\n",
    "    // configure network in train mode\n",
    "    nn.train();\n",
    "\n",
    "    // collect train loss for from each batch\n",
    "    double trainLossValue = 0;\n",
    "\n",
    "    // creates an iterator for batches\n",
    "    Iterator<Batch> batchIterator = train.batchIterator(batchSize, true, false);\n",
    "    double batchCount = 0;\n",
    "\n",
    "    // iterate through batches\n",
    "    while (batchIterator.hasNext()) {\n",
    "\n",
    "        // IMPORTANT: clear all previously computed gradients\n",
    "        optimizer.zeroGrad();\n",
    "\n",
    "        // get next batch\n",
    "        Batch batch = batchIterator.next();\n",
    "\n",
    "        // do the forward operation\n",
    "        Tensor pred = nn.forward11(batch.tensor(0));\n",
    "\n",
    "        // take network prediction and compute error loss\n",
    "        Loss.Output lossOut = loss.forward(pred, batch.tensor(1));\n",
    "\n",
    "        // add loss of the batch\n",
    "        trainLossValue += lossOut.lossValue();\n",
    "\n",
    "        // do autograd reverse mode which computes all the gradients\n",
    "        Autograd.backward(lossOut.tensor());\n",
    "\n",
    "        // performs the optimization step: parameter values are updated with infor from gradients\n",
    "        optimizer.step();\n",
    "\n",
    "        // count batches\n",
    "        batchCount++;\n",
    "    }\n",
    "    // normalize the train loss with number of batches to have a loss error which does not depend on batches\n",
    "    trainLossValue /= batchCount;\n",
    "\n",
    "    // put model in evaluation mode: this is done to deactivate gradient computation\n",
    "    nn.eval();\n",
    "\n",
    "    // do model prediction and pass it through loss function to compute test loss\n",
    "    var lossOut = loss.forward(nn.forward11(tm.var(test.darray(0))), tm.var(test.darray(1)));\n",
    "\n",
    "    // collect performance data\n",
    "    double testLossValue = lossOut.lossValue();\n",
    "    trainLoss.addDouble(trainLossValue);\n",
    "    testLoss.addDouble(testLossValue);\n",
    "\n",
    "    // do a prediction on test set to compute a confusion matrix and test accuracy\n",
    "    var y_pred = nn.forward11(test.tensor(0)).value().exp().argmax1d(1, false);\n",
    "    var levels = iris.rvar(\"class\").levels();\n",
    "    var cm = Confusion.from(VarNominal.from(levels, test.darray(1)), VarNominal.from(levels, y_pred));\n",
    "    accuracy.addDouble(cm.accuracy());\n",
    "\n",
    "    if (epoch % 100 == 0) {\n",
    "\n",
    "        // print progress data\n",
    "        println(\"Epoch: \" + epoch + \", train loss:\" + trainLossValue + \", test loss:\" + testLossValue);\n",
    "        println(\"\\t error: \" + Format.floatShort(cm.error()) + \", accuracy: \" + Format.floatShort(cm.accuracy()));\n",
    "        cm.frequencyMatrix().printContent();\n",
    "    }\n",
    "}"
   ]
  },
  {
   "cell_type": "markdown",
   "id": "fb0dd657-6d08-4dc9-a4af-a4363c4b482d",
   "metadata": {},
   "source": [
    "In the ouput you can see the progress. It does not looks bad at all. Below is also a graph."
   ]
  },
  {
   "cell_type": "code",
   "execution_count": 72,
   "id": "5f43bc07-bad0-4930-9e95-845fd95c9021",
   "metadata": {},
   "outputs": [
    {
     "data": {
      "image/png": "[encoded data removed]"
     },
     "metadata": {},
     "output_type": "display_data"
    },
    {
     "data": {
      "text/plain": [
       "c1b53417-8578-4072-befa-554670d8c478"
      ]
     },
     "execution_count": 72,
     "metadata": {},
     "output_type": "execute_result"
    }
   ],
   "source": [
    "display(WS.image(lines(trainLoss, color(Color.RED), lwd(1)).lines(testLoss, color(2), lwd(1))));"
   ]
  },
  {
   "cell_type": "markdown",
   "id": "0395a2dc-d453-4df8-98ff-fe07b4fe045f",
   "metadata": {},
   "source": [
    "As you can see, the pipeline for training is very similar with what you would expect in Pytorch. This is on purpose. Pytorch API is an inspiration (although we are talking about API only, I did not dig deep into inner workings). The reason why I think this kind of API is a good inspiration is because it is very logic and perhaps it arrived in that form after many years of experience. And I totally aggree.\n",
    "\n",
    "Another thing which you can notice is that the model is very simple. Small layers with tiny number of parameters. This is because the problem is simple, and creating huge models with overparametrization does not help anybody. "
   ]
  },
  {
   "cell_type": "markdown",
   "id": "c3aceba1-3be5-40ae-beb5-fe91e2117d53",
   "metadata": {},
   "source": [
    "## Closing notes\n",
    "\n",
    "While the functionality implemented for darrays is extensive, the tensor and neural network layers is not. This is because darrays benefited from many months of work, while the tensor couterpart did not. Still, all the required components are there and the frame was settled. This is a big milestone, to have all the compoenents in place and verified. Future revisions will enrich a lot the available components going probably towards convolutions, reccurent layers, embeddings and probably attention, transformers and what not.\n",
    "\n",
    "Hope it was a fun journey and stay tuned."
   ]
  },
  {
   "cell_type": "code",
   "execution_count": null,
   "id": "26d542b5-a446-4fb9-ab5c-0ca4c1ecd041",
   "metadata": {},
   "outputs": [],
   "source": []
  }
 ],
 "metadata": {
  "kernelspec": {
   "display_name": "Java (rjk 2.2.0 preview23)",
   "language": "java",
   "name": "rapaio-jupyter-kernel-preview23"
  },
  "language_info": {
   "codemirror_mode": "java",
   "file_extension": ".jshell",
   "mimetype": "text/x-java-source",
   "name": "java",
   "nbconvert_exporter": "script",
   "pygments_lexer": "java",
   "version": "23.0.1+8-FR"
  }
 },
 "nbformat": 4,
 "nbformat_minor": 5
}
